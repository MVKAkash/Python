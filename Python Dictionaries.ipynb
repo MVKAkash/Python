{
  "nbformat": 4,
  "nbformat_minor": 0,
  "metadata": {
    "colab": {
      "provenance": []
    },
    "kernelspec": {
      "name": "python3",
      "display_name": "Python 3"
    },
    "language_info": {
      "name": "python"
    }
  },
  "cells": [
    {
      "cell_type": "markdown",
      "source": [
        "# **Python Dictionaries**"
      ],
      "metadata": {
        "id": "TP9oUf1KSax6"
      }
    },
    {
      "cell_type": "markdown",
      "source": [
        "\n",
        "\n",
        "*   Dictionaries are used to store data values in key:value pairs.\n",
        "*   A dictionary is a collection which is changeable and do not allow duplicates.\n",
        "\n",
        "*   In Python 3.6 and earlier, dictionaries are unordered.\n",
        "*   Dictionaries are written with curly brackets, and have keys and values.\n",
        "\n",
        "*   Dictionary items are ordered.\n",
        "*   Dictionary items are presented in key:value pairs, and can be referred to by using the key name.\n",
        "\n",
        "\n",
        "\n",
        "\n",
        "\n",
        "\n",
        "\n"
      ],
      "metadata": {
        "id": "SfWKtZkgSe92"
      }
    },
    {
      "cell_type": "markdown",
      "source": [
        "## Creating a Dictionary"
      ],
      "metadata": {
        "id": "rX6RqXsATWqJ"
      }
    },
    {
      "cell_type": "markdown",
      "source": [
        "Example for create and print a Dictionary:"
      ],
      "metadata": {
        "id": "hyzthmdgTv9Y"
      }
    },
    {
      "cell_type": "code",
      "execution_count": 3,
      "metadata": {
        "colab": {
          "base_uri": "https://localhost:8080/"
        },
        "id": "MPxhfWjCSIxB",
        "outputId": "013d4020-2692-4fba-a480-1cb5cc4e9fb6"
      },
      "outputs": [
        {
          "output_type": "stream",
          "name": "stdout",
          "text": [
            "{'Name': 'Adam', 'Age': 20, 'Gender': 'Male', 'languages': ['English', 'Hindi', 'Telugu']}\n"
          ]
        }
      ],
      "source": [
        "mydict = {\n",
        "  \"Name\": \"Adam\",\n",
        "  \"Age\": 20,\n",
        "  \"Gender\": \"Male\",\n",
        "  \"languages\": [\"English\", \"Hindi\", \"Telugu\"]\n",
        "}\n",
        "print(mydict)"
      ]
    },
    {
      "cell_type": "markdown",
      "source": [
        "**type():**"
      ],
      "metadata": {
        "id": "94poBJa6T60E"
      }
    },
    {
      "cell_type": "code",
      "source": [
        "print(type(mydict))"
      ],
      "metadata": {
        "colab": {
          "base_uri": "https://localhost:8080/"
        },
        "id": "AoKzypsZUrDf",
        "outputId": "335fb147-3475-4134-d1d4-696ffcddcd97"
      },
      "execution_count": 4,
      "outputs": [
        {
          "output_type": "stream",
          "name": "stdout",
          "text": [
            "<class 'dict'>\n"
          ]
        }
      ]
    },
    {
      "cell_type": "markdown",
      "source": [
        "## Accessing Values"
      ],
      "metadata": {
        "id": "-CpzSBOOSZri"
      }
    },
    {
      "cell_type": "markdown",
      "source": [
        "We can access the values in dictionary using keys."
      ],
      "metadata": {
        "id": "_O5kj6LcW-r7"
      }
    },
    {
      "cell_type": "markdown",
      "source": [
        "Example:"
      ],
      "metadata": {
        "id": "ZkWy3AHUXHqO"
      }
    },
    {
      "cell_type": "code",
      "source": [
        "mydict = {\n",
        "  'Name': 'Adam',\n",
        "  'Age': 20,\n",
        "  'Gender': 'Male',\n",
        "  'languages': [\"English\", \"Hindi\", \"Telugu\"]\n",
        "}\n",
        "print(mydict)"
      ],
      "metadata": {
        "colab": {
          "base_uri": "https://localhost:8080/"
        },
        "id": "B2L3JBZ1VGqB",
        "outputId": "8d47cda0-737d-4aeb-f5ef-56df7958108f"
      },
      "execution_count": 12,
      "outputs": [
        {
          "output_type": "stream",
          "name": "stdout",
          "text": [
            "{'Name': 'Adam', 'Age': 20, 'Gender': 'Male', 'languages': ['English', 'Hindi', 'Telugu']}\n"
          ]
        }
      ]
    },
    {
      "cell_type": "code",
      "source": [
        "print(mydict['Name'])"
      ],
      "metadata": {
        "colab": {
          "base_uri": "https://localhost:8080/"
        },
        "id": "lMIYrS_zVKI8",
        "outputId": "c0754c5b-9fd5-4b8c-8c32-3acfd83e456e"
      },
      "execution_count": 14,
      "outputs": [
        {
          "output_type": "stream",
          "name": "stdout",
          "text": [
            "Adam\n"
          ]
        }
      ]
    },
    {
      "cell_type": "code",
      "source": [
        "mydict['Age'] = 25\n",
        "print(mydict)"
      ],
      "metadata": {
        "colab": {
          "base_uri": "https://localhost:8080/"
        },
        "id": "HixsOE-RVdrn",
        "outputId": "ffbdb3ee-7bc1-4425-eb99-9109957d52c2"
      },
      "execution_count": 15,
      "outputs": [
        {
          "output_type": "stream",
          "name": "stdout",
          "text": [
            "{'Name': 'Adam', 'Age': 25, 'Gender': 'Male', 'languages': ['English', 'Hindi', 'Telugu']}\n"
          ]
        }
      ]
    },
    {
      "cell_type": "markdown",
      "source": [
        "## Adding a new element"
      ],
      "metadata": {
        "id": "EJkJS3cVXLPI"
      }
    },
    {
      "cell_type": "markdown",
      "source": [
        "Adding an item to the dictionary is done by using a new index key and assigning a value to it."
      ],
      "metadata": {
        "id": "J0gLrr8_XQka"
      }
    },
    {
      "cell_type": "code",
      "source": [
        "mydict['Location'] = 'Hyderabad'\n",
        "print(mydict)"
      ],
      "metadata": {
        "colab": {
          "base_uri": "https://localhost:8080/"
        },
        "id": "raMhmc2fWqUj",
        "outputId": "24854967-dd8d-424e-f8b0-06db314a642e"
      },
      "execution_count": 16,
      "outputs": [
        {
          "output_type": "stream",
          "name": "stdout",
          "text": [
            "{'Name': 'Adam', 'Age': 25, 'Gender': 'Male', 'languages': ['English', 'Hindi', 'Telugu'], 'Location': 'Hyderabad'}\n"
          ]
        }
      ]
    },
    {
      "cell_type": "markdown",
      "source": [
        "## Dictionary Methods"
      ],
      "metadata": {
        "id": "i-WY5GMMYAGO"
      }
    },
    {
      "cell_type": "markdown",
      "source": [
        "\n",
        "\n",
        "**1.   get():**\n",
        "\n"
      ],
      "metadata": {
        "id": "Mlau-vxAXs6S"
      }
    },
    {
      "cell_type": "markdown",
      "source": [
        "Returns the value for the given key"
      ],
      "metadata": {
        "id": "PXtLHiFvZdGo"
      }
    },
    {
      "cell_type": "code",
      "source": [
        "print(mydict.get('Name'))"
      ],
      "metadata": {
        "colab": {
          "base_uri": "https://localhost:8080/"
        },
        "id": "pnPJQazuZ89m",
        "outputId": "71ee7565-ecf8-4159-8fc5-79a2e9d62cda"
      },
      "execution_count": 17,
      "outputs": [
        {
          "output_type": "stream",
          "name": "stdout",
          "text": [
            "Adam\n"
          ]
        }
      ]
    },
    {
      "cell_type": "code",
      "source": [
        "print(mydict.get('Age'))"
      ],
      "metadata": {
        "colab": {
          "base_uri": "https://localhost:8080/"
        },
        "id": "CqsyVA8HaENX",
        "outputId": "44b73ade-3ada-46c5-ace3-3e5dcc5d919d"
      },
      "execution_count": 19,
      "outputs": [
        {
          "output_type": "stream",
          "name": "stdout",
          "text": [
            "25\n"
          ]
        }
      ]
    },
    {
      "cell_type": "markdown",
      "source": [
        "\n",
        "\n",
        "\n",
        "**2.   keys():**\n",
        "\n"
      ],
      "metadata": {
        "id": "X_k381Z4YGCX"
      }
    },
    {
      "cell_type": "markdown",
      "source": [
        "Returns a view object that displays a list of all the keys in the dictionary in order of insertion."
      ],
      "metadata": {
        "id": "oSeCLF2bZn1e"
      }
    },
    {
      "cell_type": "code",
      "source": [
        "print(mydict.keys())"
      ],
      "metadata": {
        "colab": {
          "base_uri": "https://localhost:8080/"
        },
        "id": "6bXwrl7GaLk8",
        "outputId": "ed14ffc4-913d-4c69-95ef-18fb15d5746b"
      },
      "execution_count": 20,
      "outputs": [
        {
          "output_type": "stream",
          "name": "stdout",
          "text": [
            "dict_keys(['Name', 'Age', 'Gender', 'languages', 'Location'])\n"
          ]
        }
      ]
    },
    {
      "cell_type": "markdown",
      "source": [
        "\n",
        "\n",
        "**3.   values():**\n",
        "\n"
      ],
      "metadata": {
        "id": "Gp_GXJGqYWW5"
      }
    },
    {
      "cell_type": "markdown",
      "source": [
        "Returns a view object containing all dictionary values, which can be accessed and iterated through efficiently."
      ],
      "metadata": {
        "id": "g-HrlTNfZuZO"
      }
    },
    {
      "cell_type": "code",
      "source": [
        "print(mydict.values())"
      ],
      "metadata": {
        "colab": {
          "base_uri": "https://localhost:8080/"
        },
        "id": "uUY6z158aPXH",
        "outputId": "142842ce-6369-434f-9c77-b2f1b30fef4e"
      },
      "execution_count": 21,
      "outputs": [
        {
          "output_type": "stream",
          "name": "stdout",
          "text": [
            "dict_values(['Adam', 25, 'Male', ['English', 'Hindi', 'Telugu'], 'Hyderabad'])\n"
          ]
        }
      ]
    },
    {
      "cell_type": "markdown",
      "source": [
        "\n",
        "\n",
        "**4.   items():**\n"
      ],
      "metadata": {
        "id": "M4K0e-7_Ypv9"
      }
    },
    {
      "cell_type": "markdown",
      "source": [
        "Return the list with all dictionary keys with values."
      ],
      "metadata": {
        "id": "cunMkO6CZx8k"
      }
    },
    {
      "cell_type": "code",
      "source": [
        "print(mydict.items())"
      ],
      "metadata": {
        "colab": {
          "base_uri": "https://localhost:8080/"
        },
        "id": "shFlZjVTaX74",
        "outputId": "80d65ca8-3023-404e-ff05-1145cdf25a6d"
      },
      "execution_count": 22,
      "outputs": [
        {
          "output_type": "stream",
          "name": "stdout",
          "text": [
            "dict_items([('Name', 'Adam'), ('Age', 25), ('Gender', 'Male'), ('languages', ['English', 'Hindi', 'Telugu']), ('Location', 'Hyderabad')])\n"
          ]
        }
      ]
    },
    {
      "cell_type": "markdown",
      "source": [
        "\n",
        "\n",
        "\n",
        "**5.   update():**\n",
        "\n"
      ],
      "metadata": {
        "id": "XMv1YSFvY6hN"
      }
    },
    {
      "cell_type": "markdown",
      "source": [
        "Updates the dictionary with the elements from another dictionary or an iterable of key-value pairs. With this method, you can include new data or merge it with existing dictionary entries."
      ],
      "metadata": {
        "id": "uo0huyUeZ0KV"
      }
    },
    {
      "cell_type": "code",
      "source": [
        "mydict.update({'Name': 'John'})\n",
        "print(mydict)"
      ],
      "metadata": {
        "colab": {
          "base_uri": "https://localhost:8080/"
        },
        "id": "UKj-JY4XagFD",
        "outputId": "10a4c19c-85e2-469a-d205-75d0763b794e"
      },
      "execution_count": 25,
      "outputs": [
        {
          "output_type": "stream",
          "name": "stdout",
          "text": [
            "{'Name': 'John', 'Age': 25, 'Gender': 'Male', 'languages': ['English', 'Hindi', 'Telugu'], 'Location': 'Hyderabad'}\n"
          ]
        }
      ]
    },
    {
      "cell_type": "markdown",
      "source": [
        "\n",
        "\n",
        "**6.   pop():**\n",
        "\n"
      ],
      "metadata": {
        "id": "2GDwPAocZBBD"
      }
    },
    {
      "cell_type": "markdown",
      "source": [
        "Returns and removes the element with the given key."
      ],
      "metadata": {
        "id": "DcNpAJLpZ6WG"
      }
    },
    {
      "cell_type": "code",
      "source": [
        "print(mydict.pop('Age'))"
      ],
      "metadata": {
        "colab": {
          "base_uri": "https://localhost:8080/"
        },
        "id": "QHgGzrWjXYrA",
        "outputId": "24ba99a8-58ef-4a65-fb90-8e0735db362d"
      },
      "execution_count": 26,
      "outputs": [
        {
          "output_type": "stream",
          "name": "stdout",
          "text": [
            "25\n"
          ]
        }
      ]
    },
    {
      "cell_type": "markdown",
      "source": [
        "\n",
        "\n",
        "**7.   popitem():**\n",
        "\n"
      ],
      "metadata": {
        "id": "NBX7jFxDbMGh"
      }
    },
    {
      "cell_type": "markdown",
      "source": [
        "Returns and removes the key-value pair from the dictionary."
      ],
      "metadata": {
        "id": "RIJQP1ncbTye"
      }
    },
    {
      "cell_type": "code",
      "source": [
        "print(mydict.popitem())"
      ],
      "metadata": {
        "colab": {
          "base_uri": "https://localhost:8080/"
        },
        "id": "2JO5uoSXbJK5",
        "outputId": "5542d64b-38a0-4b7b-c25e-a87ccbb988f5"
      },
      "execution_count": 28,
      "outputs": [
        {
          "output_type": "stream",
          "name": "stdout",
          "text": [
            "('Location', 'Hyderabad')\n"
          ]
        }
      ]
    }
  ]
}