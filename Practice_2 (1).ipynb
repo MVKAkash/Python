{
  "nbformat": 4,
  "nbformat_minor": 0,
  "metadata": {
    "colab": {
      "provenance": []
    },
    "kernelspec": {
      "name": "python3",
      "display_name": "Python 3"
    },
    "language_info": {
      "name": "python"
    }
  },
  "cells": [
    {
      "cell_type": "code",
      "execution_count": null,
      "metadata": {
        "id": "X2mBsHPNUh7X",
        "colab": {
          "base_uri": "https://localhost:8080/"
        },
        "outputId": "579a529b-571b-4374-ee07-22f51b0845fb"
      },
      "outputs": [
        {
          "name": "stdout",
          "output_type": "stream",
          "text": [
            "Enter the first number: 2\n"
          ]
        }
      ],
      "source": [
        "# 1 code to find the largest of three numbers entered by the user using loops\n",
        "a = int(input(\"Enter the first number: \"))\n",
        "b = int(input(\"Enter the second number: \"))\n",
        "c = int(input(\"Enter the third number: \"))\n",
        "while a > b and a > c:\n",
        "    print(a, \"is the largest number\")\n",
        "    break\n",
        "while b > a and b > c:\n",
        "    print(b, \"is the largest number\")\n",
        "    break\n",
        "while c > a and c > b:\n",
        "    print(c, \"is the largest number\")\n",
        "    break"
      ]
    },
    {
      "cell_type": "code",
      "source": [
        "# 2 if number is divisible by both 5 and 11 or not using loop\n",
        "i = int(input(\"Enter number:\"))\n",
        "while i % 5 == 0 and i % 11 == 0:\n",
        "    print(\"divisible by both 5 and 11\")\n",
        "    break\n",
        "else:\n",
        "  print(\"not divisible by both 5 and 11\")"
      ],
      "metadata": {
        "colab": {
          "base_uri": "https://localhost:8080/"
        },
        "id": "AwMcm4WDVSW_",
        "outputId": "77022d86-b731-4416-f3dd-0eee7ebe5ab1"
      },
      "execution_count": null,
      "outputs": [
        {
          "output_type": "stream",
          "name": "stdout",
          "text": [
            "Enter number:110\n",
            "divisible by both 5 and 11\n"
          ]
        }
      ]
    },
    {
      "cell_type": "code",
      "source": [
        "#3 if character is alphabet or digit or special character\n",
        "character = input(\"Enter a character: \")\n",
        "for i in character:\n",
        "  if i.isalpha():\n",
        "    print(\"Alphabet\")\n",
        "  elif i.isdigit():\n",
        "    print(\"Digit\")\n",
        "  else:\n",
        "    print(\"Special character\")"
      ],
      "metadata": {
        "colab": {
          "base_uri": "https://localhost:8080/"
        },
        "id": "xca72yriVq43",
        "outputId": "50b9c2cc-9add-4210-be67-b3942a4cc5cc"
      },
      "execution_count": null,
      "outputs": [
        {
          "output_type": "stream",
          "name": "stdout",
          "text": [
            "Enter a character: &\n",
            "Special character\n"
          ]
        }
      ]
    },
    {
      "cell_type": "code",
      "source": [
        "#4 to check if 3 sides can form a valid triangle using loop\n",
        "a = int(input(\"Enter the a: \"))\n",
        "b = int(input(\"Enter the b: \"))\n",
        "c = int(input(\"Enter the c: \"))\n",
        "while a + b > c and a + c > b and b + c > a:\n",
        "  print(\"Valid triangle\")\n",
        "  break\n",
        "else:\n",
        "  print(\"Invalid triangle\")"
      ],
      "metadata": {
        "colab": {
          "base_uri": "https://localhost:8080/"
        },
        "id": "AgTHzBwBWNws",
        "outputId": "5413ea04-f55e-4da1-af88-019824792c2f"
      },
      "execution_count": null,
      "outputs": [
        {
          "output_type": "stream",
          "name": "stdout",
          "text": [
            "Enter the a: 11\n",
            "Enter the b: 12\n",
            "Enter the c: 13\n",
            "Valid triangle\n"
          ]
        }
      ]
    },
    {
      "cell_type": "code",
      "source": [
        "#5 to find the absolute value of a number using loop\n",
        "a = int(input(\"Enter value: \"))\n",
        "while a < 0:\n",
        "    print(-a)\n",
        "    break\n",
        "else:\n",
        "    print(a)"
      ],
      "metadata": {
        "colab": {
          "base_uri": "https://localhost:8080/"
        },
        "id": "omebnhYhb60s",
        "outputId": "f6bee97a-05c8-493e-a147-7aaf2501bb3f"
      },
      "execution_count": null,
      "outputs": [
        {
          "output_type": "stream",
          "name": "stdout",
          "text": [
            "Enter value: -100\n",
            "100\n"
          ]
        }
      ]
    },
    {
      "cell_type": "code",
      "source": [
        "# 6 to determine whether given year is century year or not using loop\n",
        "year = int(input(\"Enter the year: \"))\n",
        "while year % 100 == 0:\n",
        "  print(\"Century year\")\n",
        "  break\n",
        "else:\n",
        "  print(\"Not a century year\")"
      ],
      "metadata": {
        "colab": {
          "base_uri": "https://localhost:8080/"
        },
        "id": "YKy9poqTc81G",
        "outputId": "25f0bd08-7f39-4b3b-9080-ba78e5cef0c3"
      },
      "execution_count": null,
      "outputs": [
        {
          "output_type": "stream",
          "name": "stdout",
          "text": [
            "Enter the year: 2024\n",
            "Not a century year\n"
          ]
        }
      ]
    },
    {
      "cell_type": "code",
      "source": [
        "# 7 bmi using loop\n",
        "weight = float(input(\"Enter weight in kg: \"))\n",
        "height = float(input(\"Enter height in meters: \"))\n",
        "bmi = weight / (height ** 2)\n",
        "while bmi < 18.5:\n",
        "    print(\"Underweight\")\n",
        "    break\n",
        "while bmi >= 18.5 and bmi <= 24.9:\n",
        "    print(\"Normal\")\n",
        "    break\n",
        "while bmi >= 25 and bmi <= 29.9:\n",
        "    print(\"Overweight\")\n",
        "    break\n",
        "while bmi >= 30:\n",
        "    print(\"Obese\")\n",
        "    break"
      ],
      "metadata": {
        "colab": {
          "base_uri": "https://localhost:8080/"
        },
        "id": "RuEUHLJuYt0P",
        "outputId": "afbee1e7-e2d7-4774-f3e7-2e247272c7f4"
      },
      "execution_count": null,
      "outputs": [
        {
          "output_type": "stream",
          "name": "stdout",
          "text": [
            "Enter weight in kg: 75\n",
            "Enter height in meters: 1.75\n",
            "Normal\n"
          ]
        }
      ]
    },
    {
      "cell_type": "code",
      "source": [
        "#8 if uppercase or lowercase character using loop\n",
        "char = input(\"Enter a character: \")\n",
        "for i in char:\n",
        "  if i.isupper():\n",
        "    print(\"Uppercase\")\n",
        "  else:\n",
        "    print(\"Lowercase\")"
      ],
      "metadata": {
        "colab": {
          "base_uri": "https://localhost:8080/"
        },
        "id": "RbuWO1fYeHXx",
        "outputId": "1ecd1a43-a7f2-4921-c1cf-ab658259e3de"
      },
      "execution_count": null,
      "outputs": [
        {
          "output_type": "stream",
          "name": "stdout",
          "text": [
            "Enter a character: A\n",
            "Uppercase\n"
          ]
        }
      ]
    },
    {
      "cell_type": "code",
      "source": [
        "#9 to classify a number as small, medium, or large based on given thresholds using loop.\n",
        "number = int(input(\"Enter a number: \"))\n",
        "while number < 10:\n",
        "    print(\"Small\")\n",
        "    break\n",
        "while number >= 10 and number <= 100:\n",
        "    print(\"Medium\")\n",
        "    break\n",
        "while number > 100:\n",
        "    print(\"Large\")\n",
        "    break"
      ],
      "metadata": {
        "colab": {
          "base_uri": "https://localhost:8080/"
        },
        "id": "NqLlqhvlgE78",
        "outputId": "84798532-8538-4065-deca-39a1a9670ec9"
      },
      "execution_count": null,
      "outputs": [
        {
          "output_type": "stream",
          "name": "stdout",
          "text": [
            "Enter a number: 120\n",
            "Large\n"
          ]
        }
      ]
    },
    {
      "cell_type": "code",
      "source": [
        "#12 to find whether the angle is acute or right or obtuse using loop\n",
        "a = int(input(\"Enter angle a: \"))\n",
        "while a < 90:\n",
        "  print(\"Acute triangle\")\n",
        "  break\n",
        "while a == 90:\n",
        "  print(\"Right triangle\")\n",
        "  break\n",
        "while a > 90:\n",
        "  print(\"Obtuse triangle\")\n",
        "  break"
      ],
      "metadata": {
        "colab": {
          "base_uri": "https://localhost:8080/"
        },
        "id": "_VvBCXKgi75z",
        "outputId": "7e72901d-8cf2-44aa-ccc8-4f40746a2567"
      },
      "execution_count": null,
      "outputs": [
        {
          "output_type": "stream",
          "name": "stdout",
          "text": [
            "Enter angle a: 90\n",
            "Right triangle\n"
          ]
        }
      ]
    },
    {
      "cell_type": "code",
      "source": [
        "#13 sum of 2 numbers is equal to 3rd number or not using loop\n",
        "a = int(input(\"Enter first number: \"))\n",
        "b = int(input(\"Enter second number: \"))\n",
        "c = int(input(\"Enter third number: \"))\n",
        "while a + b == c:\n",
        "  print(\"Sum of two numbers is equal to third number\")\n",
        "  break\n",
        "while a + b != c:\n",
        "  print(\"Sum of two numbers is not equal to third number\")\n",
        "  break"
      ],
      "metadata": {
        "colab": {
          "base_uri": "https://localhost:8080/"
        },
        "id": "bq2H7pLYj3UT",
        "outputId": "f216a453-8c56-4091-8572-329192f1eabe"
      },
      "execution_count": null,
      "outputs": [
        {
          "output_type": "stream",
          "name": "stdout",
          "text": [
            "Enter first number: 1\n",
            "Enter second number: 2\n",
            "Enter third number: 4\n",
            "Sum of two numbers is not equal to third number\n"
          ]
        }
      ]
    },
    {
      "cell_type": "code",
      "source": [
        "char = input(\"enter a string :\")\n",
        "for i in char:\n",
        "  if i == \"a\" or i == \"e\" or i == \"i\" or i == \"o\" or i == \"u\":\n",
        "    print(i,\"vowel\")\n",
        "  else:\n",
        "    print(i,\"consonant\")"
      ],
      "metadata": {
        "colab": {
          "base_uri": "https://localhost:8080/"
        },
        "id": "BF4hju9DbCIa",
        "outputId": "206a98cb-fd8a-4202-bc25-ee31751e746b"
      },
      "execution_count": null,
      "outputs": [
        {
          "output_type": "stream",
          "name": "stdout",
          "text": [
            "enter a string :akash\n",
            "a vowel\n",
            "k consonant\n",
            "a vowel\n",
            "s consonant\n",
            "h consonant\n"
          ]
        }
      ]
    }
  ]
}