{
  "nbformat": 4,
  "nbformat_minor": 0,
  "metadata": {
    "colab": {
      "provenance": []
    },
    "kernelspec": {
      "name": "python3",
      "display_name": "Python 3"
    },
    "language_info": {
      "name": "python"
    }
  },
  "cells": [
    {
      "cell_type": "markdown",
      "source": [
        "## **Python Functions**"
      ],
      "metadata": {
        "id": "59WnW_ONr4Ls"
      }
    },
    {
      "cell_type": "markdown",
      "source": [
        "\n",
        "\n",
        "*   A function is a block of code which only runs when it is called.\n",
        "\n",
        "*   You can pass data, known as parameters, into a function.\n",
        "\n",
        "*   A function can return data as a result.\n",
        "\n",
        "\n",
        "\n"
      ],
      "metadata": {
        "id": "vWNIGnjSr-Pc"
      }
    },
    {
      "cell_type": "markdown",
      "source": [
        "Example:"
      ],
      "metadata": {
        "id": "eWSPjoCrsOGk"
      }
    },
    {
      "cell_type": "code",
      "execution_count": null,
      "metadata": {
        "id": "fglQrURMq4nF"
      },
      "outputs": [],
      "source": [
        "#function is defined using the def keyword\n",
        "def car():\n",
        "  print(\"mustang\")"
      ]
    },
    {
      "cell_type": "code",
      "source": [
        "car()"
      ],
      "metadata": {
        "colab": {
          "base_uri": "https://localhost:8080/"
        },
        "id": "NcB9vEODru7N",
        "outputId": "49a40254-0fbf-49fb-857f-17d832e8c1d6"
      },
      "execution_count": null,
      "outputs": [
        {
          "output_type": "stream",
          "name": "stdout",
          "text": [
            "mustang\n"
          ]
        }
      ]
    },
    {
      "cell_type": "markdown",
      "source": [
        "### Arguments"
      ],
      "metadata": {
        "id": "foHcqkDJsnhT"
      }
    },
    {
      "cell_type": "markdown",
      "source": [
        "\n",
        "\n",
        "*   Information can be passed into functions as arguments.\n",
        "*   Arguments are specified after the function name, inside the parentheses. You can add as many arguments as you want, just separate them with a comma.\n",
        "\n",
        "\n",
        "\n"
      ],
      "metadata": {
        "id": "GFYFTWuhstct"
      }
    },
    {
      "cell_type": "markdown",
      "source": [
        "Example:"
      ],
      "metadata": {
        "id": "cDfyZ7a_u19y"
      }
    },
    {
      "cell_type": "code",
      "source": [
        "def country(name):\n",
        "  print(f\"I am from {name}\")"
      ],
      "metadata": {
        "id": "whzmD5bytT65"
      },
      "execution_count": null,
      "outputs": []
    },
    {
      "cell_type": "code",
      "source": [
        "country(\"India\")"
      ],
      "metadata": {
        "colab": {
          "base_uri": "https://localhost:8080/"
        },
        "id": "sE-TxyRttl9F",
        "outputId": "42f81200-5313-4534-afc9-4bc27145c7ca"
      },
      "execution_count": null,
      "outputs": [
        {
          "output_type": "stream",
          "name": "stdout",
          "text": [
            "I am from India\n"
          ]
        }
      ]
    },
    {
      "cell_type": "markdown",
      "source": [
        "# **Python Lambda**"
      ],
      "metadata": {
        "id": "hhCgyCKJwHPb"
      }
    },
    {
      "cell_type": "markdown",
      "source": [
        "\n",
        "\n",
        "*   A lambda function is a small anonymous function.\n",
        "*   A lambda function can take any number of arguments, but can only have one expression.\n",
        "\n"
      ],
      "metadata": {
        "id": "eCl-FOiNwM4M"
      }
    },
    {
      "cell_type": "code",
      "source": [
        "x = lambda a, b : a - b\n",
        "print(x(5, 3))"
      ],
      "metadata": {
        "colab": {
          "base_uri": "https://localhost:8080/"
        },
        "id": "pZW3DnpixQvw",
        "outputId": "f857bf4d-5230-4558-af70-d08736e72ca7"
      },
      "execution_count": null,
      "outputs": [
        {
          "output_type": "stream",
          "name": "stdout",
          "text": [
            "2\n"
          ]
        }
      ]
    },
    {
      "cell_type": "markdown",
      "source": [
        "### filter() Function:"
      ],
      "metadata": {
        "id": "-SGHWSRF1q0y"
      }
    },
    {
      "cell_type": "markdown",
      "source": [
        "The filter() function returns an iterator where the items are filtered through a function to test if the item is accepted or not.\n"
      ],
      "metadata": {
        "id": "Zf_sZOX116zJ"
      }
    },
    {
      "cell_type": "markdown",
      "source": [
        "Example:"
      ],
      "metadata": {
        "id": "MwyaUcForbO-"
      }
    },
    {
      "cell_type": "code",
      "source": [
        "mylist = [1,2,3,4,5,6,7,8,9,10]\n",
        "evennum = list(filter(lambda x: (x%2==0), mylist))\n",
        "print(evennum)"
      ],
      "metadata": {
        "id": "vN70KZZrxo5-",
        "colab": {
          "base_uri": "https://localhost:8080/"
        },
        "outputId": "0e219abe-b5f1-49d1-cdb9-1d24489ce5ac"
      },
      "execution_count": null,
      "outputs": [
        {
          "output_type": "stream",
          "name": "stdout",
          "text": [
            "[2, 4, 6, 8, 10]\n"
          ]
        }
      ]
    },
    {
      "cell_type": "code",
      "source": [
        "mylist2 = [12, 65, 54, 39, 102, 339, 221, 50, 70]\n",
        "divby13 = list(filter(lambda x: (x%13==0), mylist2))\n",
        "print(divby13)"
      ],
      "metadata": {
        "colab": {
          "base_uri": "https://localhost:8080/"
        },
        "id": "oJJMgk8Wq6y1",
        "outputId": "874f387f-bad9-4002-89c0-166a388ed9ac"
      },
      "execution_count": null,
      "outputs": [
        {
          "output_type": "stream",
          "name": "stdout",
          "text": [
            "[65, 39, 221]\n"
          ]
        }
      ]
    },
    {
      "cell_type": "markdown",
      "source": [
        "### map() function:"
      ],
      "metadata": {
        "id": "Pc8k0uXit6-S"
      }
    },
    {
      "cell_type": "markdown",
      "source": [
        "We can also use lambda expressions with map to achieve above result."
      ],
      "metadata": {
        "id": "lVUL6oHguldf"
      }
    },
    {
      "cell_type": "code",
      "source": [
        "numbers = [1, 2, 3, 4]\n",
        "result = map(lambda x: x + x, numbers)\n",
        "print(list(result))"
      ],
      "metadata": {
        "colab": {
          "base_uri": "https://localhost:8080/"
        },
        "id": "9Z76efV8to3j",
        "outputId": "f931d68c-0694-4cb8-e21d-81c1aabc4a56"
      },
      "execution_count": null,
      "outputs": [
        {
          "output_type": "stream",
          "name": "stdout",
          "text": [
            "[2, 4, 6, 8]\n"
          ]
        }
      ]
    },
    {
      "cell_type": "code",
      "source": [
        "a = [1, 2, 3]\n",
        "b = [4, 5, 6]\n",
        "\n",
        "result = map(lambda x, y: x + y, a, b)\n",
        "print(list(result))"
      ],
      "metadata": {
        "colab": {
          "base_uri": "https://localhost:8080/"
        },
        "id": "oVv8FizQvOLS",
        "outputId": "719f1c81-afd0-46e6-8fcf-7a84ac16971d"
      },
      "execution_count": null,
      "outputs": [
        {
          "output_type": "stream",
          "name": "stdout",
          "text": [
            "[5, 7, 9]\n"
          ]
        }
      ]
    }
  ]
}