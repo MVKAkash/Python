{
  "nbformat": 4,
  "nbformat_minor": 0,
  "metadata": {
    "colab": {
      "provenance": []
    },
    "kernelspec": {
      "name": "python3",
      "display_name": "Python 3"
    },
    "language_info": {
      "name": "python"
    }
  },
  "cells": [
    {
      "cell_type": "markdown",
      "source": [
        "# **Python Lists**"
      ],
      "metadata": {
        "id": "EE7O_jC76FjL"
      }
    },
    {
      "cell_type": "markdown",
      "source": [
        "A list is a built-in data structure that allows you to store an ordered collection of items. Lists can contain elements of different data types, such as integers, floats, strings, or even other lists. The items in a list are mutable, meaning you can change them (add, remove, or modify elements) after the list is created."
      ],
      "metadata": {
        "id": "Z_qIU5rrBgBm"
      }
    },
    {
      "cell_type": "markdown",
      "source": [
        "\n",
        "\n",
        "*   Items have a defined order, and this order is maintained.\n",
        "*   You can modify a list after its creation (e.g., append, remove, update).\n",
        "*   Lists are used to store multiple items in a single variable.\n",
        "*   These items can be of any data type including numbers, strings, float, boolean, or even other lists.\n",
        "*   Lists are created using square brackets, and the items are seperated by commas.\n",
        "*   Any kind of data type can be added into a single list.\n",
        "*   Items in a list can be accessed by their index, which starts from 0.\n",
        "*   Items can also be accessed by elements from the end of the list using negative indexing starts from -1(right to left).\n",
        "\n",
        "\n",
        "\n",
        "\n",
        "\n",
        "\n",
        "\n"
      ],
      "metadata": {
        "id": "qsQJP_zl6Nxk"
      }
    },
    {
      "cell_type": "markdown",
      "source": [
        "Example:"
      ],
      "metadata": {
        "id": "FS8hV5Gr8yBw"
      }
    },
    {
      "cell_type": "code",
      "source": [
        "list = [1, 2, 3.14, \"Hello\", True, 1 + 3j, [4, 5, 6]]\n",
        "print(list)"
      ],
      "metadata": {
        "colab": {
          "base_uri": "https://localhost:8080/"
        },
        "id": "wJnryTJN8YJR",
        "outputId": "84043b7f-7a44-4402-d963-8a0e78771ada"
      },
      "execution_count": 48,
      "outputs": [
        {
          "output_type": "stream",
          "name": "stdout",
          "text": [
            "[1, 2, 3.14, 'Hello', True, (1+3j), [4, 5, 6]]\n"
          ]
        }
      ]
    },
    {
      "cell_type": "markdown",
      "source": [
        "Exaples for lists with different data types:"
      ],
      "metadata": {
        "id": "2R-fXa178Fv1"
      }
    },
    {
      "cell_type": "code",
      "source": [
        "# Numbers\n",
        "num_list = [10, 42, 67, 39, 22, 49, 82, 56, 73, 51]\n",
        "print(num_list)\n",
        "\n",
        "# Strings\n",
        "str_list = [\"apple\", \"banana\", \"Car\", \"57\", \"time\", \"Steve\"]\n",
        "print(str_list)\n",
        "\n",
        "# Floats\n",
        "floats_list = [3.14, 9.71, 8.3, 6.1, 3.3]\n",
        "print(floats_list)\n",
        "\n",
        "# Booleans\n",
        "booleans_list = [True, False]\n",
        "print(booleans_list)\n",
        "\n",
        "# Complex\n",
        "complex_list = [1 + 2j, 3 + 4j]\n",
        "print(complex_list)\n",
        "\n",
        "# List of Lists\n",
        "list_of_lists = [[1, 2, 3], [4, 5, 6], [7, 8, 9]]\n",
        "print(list_of_lists)"
      ],
      "metadata": {
        "colab": {
          "base_uri": "https://localhost:8080/"
        },
        "id": "SBlCElmb6NDp",
        "outputId": "37a3a0a9-25f5-4f57-9145-5e6afd0948a3"
      },
      "execution_count": 47,
      "outputs": [
        {
          "output_type": "stream",
          "name": "stdout",
          "text": [
            "[10, 42, 67, 39, 22, 49, 82, 56, 73, 51]\n",
            "['apple', 'banana', 'Car', '57', 'time', 'Steve']\n",
            "[3.14, 9.71, 8.3, 6.1, 3.3]\n",
            "[True, False]\n",
            "[(1+2j), (3+4j)]\n",
            "[[1, 2, 3], [4, 5, 6], [7, 8, 9]]\n"
          ]
        }
      ]
    },
    {
      "cell_type": "markdown",
      "source": [
        "Different types of lists with different datatypes"
      ],
      "metadata": {
        "id": "-Wgg4zl4Hty-"
      }
    },
    {
      "cell_type": "code",
      "source": [
        "list1 = [1, 2, 3, 4, 5]\n",
        "list2 = [1.1, 2.2, 3.3, 4.4, 5.5]\n",
        "list3 = [\"apple\", \"banana\", \"cherry\", \"date\", \"elderberry\"]\n",
        "list4 = [True, False, True, False, True]\n",
        "list5 = [1, \"apple\", True, 3.14]\n",
        "list6 = [1 + 2j, 2 + 3j, 3 + 4j, 4 + 5j, 5 + 6j]\n",
        "list7 = [[1, 2], [3, 4], [5, 6]]\n",
        "list8 = [51, 72, 67, 84, 96]\n",
        "list9 = [[1, 2], [3, 4]]\n",
        "list10 = [[1, 2, 3], [4, 5, 6], [7, 8, 9]]"
      ],
      "metadata": {
        "id": "srqg2B-XF989"
      },
      "execution_count": 42,
      "outputs": []
    },
    {
      "cell_type": "code",
      "source": [
        "print(list1)\n",
        "print(list2)\n",
        "print(list3)\n",
        "print(list4)\n",
        "print(list5)\n",
        "print(list6)\n",
        "print(list7)\n",
        "print(list8)\n",
        "print(list9)\n",
        "print(list10)"
      ],
      "metadata": {
        "colab": {
          "base_uri": "https://localhost:8080/"
        },
        "id": "IRGdN87lH8WA",
        "outputId": "f5bfff0f-39fb-49fc-f173-1a96b6ca5650"
      },
      "execution_count": 43,
      "outputs": [
        {
          "output_type": "stream",
          "name": "stdout",
          "text": [
            "[1, 2, 3, 4, 5]\n",
            "[1.1, 2.2, 3.3, 4.4, 5.5]\n",
            "['apple', 'banana', 'cherry', 'date', 'elderberry']\n",
            "[True, False, True, False, True]\n",
            "[1, 'apple', True, 3.14]\n",
            "[(1+2j), (2+3j), (3+4j), (4+5j), (5+6j)]\n",
            "[[1, 2], [3, 4], [5, 6]]\n",
            "[51, 72, 67, 84, 96]\n",
            "[[1, 2], [3, 4]]\n",
            "[[1, 2, 3], [4, 5, 6], [7, 8, 9]]\n"
          ]
        }
      ]
    },
    {
      "cell_type": "markdown",
      "source": [
        "## Indexing in Python"
      ],
      "metadata": {
        "id": "KUqtq_OkD3zo"
      }
    },
    {
      "cell_type": "markdown",
      "source": [
        "Indexing in python allows you to access elements in a list using their position. Indexing starts from 0 for the first element. Python also supports negative indexing, where -1 refers to the last element, -2 refers to the second-last element, and so on."
      ],
      "metadata": {
        "id": "ZSBCGLGhEhol"
      }
    },
    {
      "cell_type": "markdown",
      "source": [
        "Example from above 10 lists for indexing"
      ],
      "metadata": {
        "id": "16cmUAEgIJbM"
      }
    },
    {
      "cell_type": "code",
      "source": [
        "list2[1]"
      ],
      "metadata": {
        "colab": {
          "base_uri": "https://localhost:8080/"
        },
        "id": "9rx1DsJXHDtH",
        "outputId": "b51be2f4-31c9-4f3a-8e88-b6051d1300cc"
      },
      "execution_count": 44,
      "outputs": [
        {
          "output_type": "execute_result",
          "data": {
            "text/plain": [
              "2.2"
            ]
          },
          "metadata": {},
          "execution_count": 44
        }
      ]
    },
    {
      "cell_type": "code",
      "source": [
        "list6[-3]"
      ],
      "metadata": {
        "colab": {
          "base_uri": "https://localhost:8080/"
        },
        "id": "vMDQf5UYHRgH",
        "outputId": "49aa60ed-b6ca-4ad3-fe72-17c791f1041e"
      },
      "execution_count": 45,
      "outputs": [
        {
          "output_type": "execute_result",
          "data": {
            "text/plain": [
              "(3+4j)"
            ]
          },
          "metadata": {},
          "execution_count": 45
        }
      ]
    },
    {
      "cell_type": "code",
      "source": [
        "list10[0]"
      ],
      "metadata": {
        "colab": {
          "base_uri": "https://localhost:8080/"
        },
        "id": "wwJ1M00hHbn2",
        "outputId": "13c371fd-e187-4641-b7d0-5203f646b345"
      },
      "execution_count": 46,
      "outputs": [
        {
          "output_type": "execute_result",
          "data": {
            "text/plain": [
              "[1, 2, 3]"
            ]
          },
          "metadata": {},
          "execution_count": 46
        }
      ]
    },
    {
      "cell_type": "markdown",
      "source": [
        "## Slicing of List"
      ],
      "metadata": {
        "id": "GisvFkLy32fT"
      }
    },
    {
      "cell_type": "markdown",
      "source": [
        "Consider a Python list, in order to access a range of elements in a list, you need to slice a list. One way to do this is to use the simple slicing operator i.e. colon(:). With this operator, one can specify where to start the slicing, where to end, and specify the step."
      ],
      "metadata": {
        "id": "SQKXIHQM38fP"
      }
    },
    {
      "cell_type": "code",
      "source": [
        "my_list = [1, 2, 3, 4, 5, 6, 7, 8, 9, 10]\n",
        "print(my_list[0]) # for first element (Indexing)\n",
        "print(my_list[-1]) # for last element (Indexing)\n",
        "print(my_list[2:5]) # elements from index 2 to 5 (slicing)\n",
        "print(my_list[:5]) # elements from the beginning to index 5 (Slicing)\n",
        "print(my_list[3:]) # elements from index 3 to the end (Slicing)\n",
        "print(my_list[:]) # all elements from the list (Slicing)"
      ],
      "metadata": {
        "colab": {
          "base_uri": "https://localhost:8080/"
        },
        "id": "A_aeCfEDAB7I",
        "outputId": "a2c51a7f-16db-4a2d-cb90-bef4661063b8"
      },
      "execution_count": 40,
      "outputs": [
        {
          "output_type": "stream",
          "name": "stdout",
          "text": [
            "1\n",
            "10\n",
            "[3, 4, 5]\n",
            "[1, 2, 3, 4, 5]\n",
            "[4, 5, 6, 7, 8, 9, 10]\n",
            "[1, 2, 3, 4, 5, 6, 7, 8, 9, 10]\n"
          ]
        }
      ]
    },
    {
      "cell_type": "markdown",
      "source": [
        "Positive Indexes:"
      ],
      "metadata": {
        "id": "u2PAYcfg9l9J"
      }
    },
    {
      "cell_type": "markdown",
      "source": [
        "In the case of Positive Indexing, the first element of the list has the index number 0, and the last element of the list has the index number N-1, where N is the total number of elements in the list (size of the list).\n"
      ],
      "metadata": {
        "id": "9c-zXiOa9vFC"
      }
    },
    {
      "cell_type": "markdown",
      "source": [
        "Negative Indexes:"
      ],
      "metadata": {
        "id": "1lZTCN45_e2c"
      }
    },
    {
      "cell_type": "markdown",
      "source": [
        "The below diagram illustrates a list along with its negative indexes. Index -1 represents the last element and -N represents the first element of the list, where N is the length of the list."
      ],
      "metadata": {
        "id": "01IhkCOs_jsa"
      }
    },
    {
      "cell_type": "markdown",
      "source": [
        "Example for slicing:"
      ],
      "metadata": {
        "id": "_FTI2_6E_vWU"
      }
    },
    {
      "cell_type": "code",
      "source": [
        "Lst = [50, 70, 30, 20, 90, 10, 50]\n",
        "print(Lst[:4])  #positive slicing\n",
        "print(Lst[-4:]) #negative slicing"
      ],
      "metadata": {
        "id": "WGfyo8w6_scH",
        "colab": {
          "base_uri": "https://localhost:8080/"
        },
        "outputId": "d52a63b4-9598-48bf-a8c3-31e856841aeb"
      },
      "execution_count": 39,
      "outputs": [
        {
          "output_type": "stream",
          "name": "stdout",
          "text": [
            "[50, 70, 30, 20]\n",
            "[20, 90, 10, 50]\n"
          ]
        }
      ]
    },
    {
      "cell_type": "code",
      "source": [
        "my_list = [10, \"hello\", 3.14, True, 2 + 3j, 5, \"world\", 2.71, False, 1 - 1j, 15, \"Apple\", 1.618, True, 4 + 5j, 20, \"Car\", 0.577, False, 6 - 2j]\n",
        "print(my_list)\n",
        "\n",
        "print(my_list[:10]) # access first 10 elements with possitive index\n",
        "print(my_list[:-10]) # access first 10 elements with negative index\n",
        "print(my_list[10:]) # access last 10 elements with possitive index\n",
        "print(my_list[-10:]) # access last 10 elements with negative index"
      ],
      "metadata": {
        "colab": {
          "base_uri": "https://localhost:8080/"
        },
        "id": "C27IEk6nKp5z",
        "outputId": "298280c4-b015-4694-81f8-3b3a27014df8"
      },
      "execution_count": 38,
      "outputs": [
        {
          "output_type": "stream",
          "name": "stdout",
          "text": [
            "[10, 'hello', 3.14, True, (2+3j), 5, 'world', 2.71, False, (1-1j), 15, 'Apple', 1.618, True, (4+5j), 20, 'Car', 0.577, False, (6-2j)]\n",
            "[10, 'hello', 3.14, True, (2+3j), 5, 'world', 2.71, False, (1-1j)]\n",
            "[10, 'hello', 3.14, True, (2+3j), 5, 'world', 2.71, False, (1-1j)]\n",
            "[15, 'Apple', 1.618, True, (4+5j), 20, 'Car', 0.577, False, (6-2j)]\n",
            "[15, 'Apple', 1.618, True, (4+5j), 20, 'Car', 0.577, False, (6-2j)]\n"
          ]
        }
      ]
    },
    {
      "cell_type": "markdown",
      "source": [
        "## List Operations"
      ],
      "metadata": {
        "id": "BARrf-cSCmHW"
      }
    },
    {
      "cell_type": "markdown",
      "source": [
        "\n",
        "\n",
        "### 1.   Concatenation of Lists\n",
        "\n"
      ],
      "metadata": {
        "id": "f7NXqp8hCsVV"
      }
    },
    {
      "cell_type": "markdown",
      "source": [
        "Concatenation refers to joining two or more lists together to create a new list. In Python, you can concatenate lists using the ' + ' operator. Concatenation creates a new list, and the original lists remain unchanged."
      ],
      "metadata": {
        "id": "MnWeEXfxEFoC"
      }
    },
    {
      "cell_type": "markdown",
      "source": [
        "Example:"
      ],
      "metadata": {
        "id": "08RiS4FOEpUG"
      }
    },
    {
      "cell_type": "code",
      "source": [
        "list1 = [1, 2, 3]\n",
        "list2 = [4, 5, 6]\n",
        "list3 = list1 + list2\n",
        "print(list3)"
      ],
      "metadata": {
        "colab": {
          "base_uri": "https://localhost:8080/"
        },
        "id": "1y8-18-EFFLy",
        "outputId": "b71d0d41-e08e-4268-943e-914726d64dec"
      },
      "execution_count": 37,
      "outputs": [
        {
          "output_type": "stream",
          "name": "stdout",
          "text": [
            "[1, 2, 3, 4, 5, 6]\n"
          ]
        }
      ]
    },
    {
      "cell_type": "code",
      "source": [
        "list1 = [1, 2, 3]\n",
        "list2 = [4, 5, 6]\n",
        "list1 += list2  # list1 = list1 + list2\n",
        "print(list1)"
      ],
      "metadata": {
        "colab": {
          "base_uri": "https://localhost:8080/"
        },
        "id": "rTzM3MytIn1P",
        "outputId": "bd65925e-4df9-44c6-de62-5cbfd72b26aa"
      },
      "execution_count": 36,
      "outputs": [
        {
          "output_type": "stream",
          "name": "stdout",
          "text": [
            "[1, 2, 3, 4, 5, 6]\n"
          ]
        }
      ]
    },
    {
      "cell_type": "markdown",
      "source": [
        "\n",
        "\n",
        "###    2. Repetition of Lists\n",
        "\n"
      ],
      "metadata": {
        "id": "ok2uUZmDD5bq"
      }
    },
    {
      "cell_type": "markdown",
      "source": [
        "Repetition involves repeating the elements of a list a specified number of times. You can repeat a list using the ' * ' operator. The * operator creates a new list where the original list is repeated n times."
      ],
      "metadata": {
        "id": "jbuOTacaEX1_"
      }
    },
    {
      "cell_type": "markdown",
      "source": [
        "Example:"
      ],
      "metadata": {
        "id": "jRMr-D9BE7m_"
      }
    },
    {
      "cell_type": "code",
      "source": [
        "list1 = [1, 2, 3]\n",
        "list2 = list1 * 7\n",
        "print(list2)"
      ],
      "metadata": {
        "colab": {
          "base_uri": "https://localhost:8080/"
        },
        "id": "x15sOZqOCrRK",
        "outputId": "fa2022ea-259c-4fc9-b316-c4cfe6fed3af"
      },
      "execution_count": 34,
      "outputs": [
        {
          "output_type": "stream",
          "name": "stdout",
          "text": [
            "[1, 2, 3, 1, 2, 3, 1, 2, 3, 1, 2, 3, 1, 2, 3, 1, 2, 3, 1, 2, 3]\n"
          ]
        }
      ]
    },
    {
      "cell_type": "code",
      "source": [
        "list1 = ['apple', 'ball', 'cat']\n",
        "list2 = list1 * 5\n",
        "print(list2)"
      ],
      "metadata": {
        "colab": {
          "base_uri": "https://localhost:8080/"
        },
        "id": "Hxt8mSH3FRXv",
        "outputId": "6a3ca96e-3191-4ee6-a208-9d6b3801c7c0"
      },
      "execution_count": 35,
      "outputs": [
        {
          "output_type": "stream",
          "name": "stdout",
          "text": [
            "['apple', 'ball', 'cat', 'apple', 'ball', 'cat', 'apple', 'ball', 'cat', 'apple', 'ball', 'cat', 'apple', 'ball', 'cat']\n"
          ]
        }
      ]
    },
    {
      "cell_type": "markdown",
      "source": [
        "## Change list items:"
      ],
      "metadata": {
        "id": "ngSljr1wN0ED"
      }
    },
    {
      "cell_type": "markdown",
      "source": [
        "To change the value of a specific item, refer to the index number."
      ],
      "metadata": {
        "id": "sUTCo_qhN_fn"
      }
    },
    {
      "cell_type": "markdown",
      "source": [
        "Example:"
      ],
      "metadata": {
        "id": "FahTS79FOQ9E"
      }
    },
    {
      "cell_type": "code",
      "source": [
        "thislist = [\"apple\", \"banana\", \"cherry\"]\n",
        "print(thislist)\n",
        "thislist[1] = \"blackcurrant\"\n",
        "print(thislist)"
      ],
      "metadata": {
        "colab": {
          "base_uri": "https://localhost:8080/"
        },
        "id": "ANOsfC-EOQkh",
        "outputId": "13cd5f89-febb-461b-8638-07ed47541948"
      },
      "execution_count": 50,
      "outputs": [
        {
          "output_type": "stream",
          "name": "stdout",
          "text": [
            "['apple', 'banana', 'cherry']\n",
            "['apple', 'blackcurrant', 'cherry']\n"
          ]
        }
      ]
    },
    {
      "cell_type": "code",
      "source": [
        "thislist = [\"apple\", \"banana\", \"cherry\"]\n",
        "thislist[1:3] = [\"blackcurrant\", \"watermelon\"]\n",
        "print(thislist)"
      ],
      "metadata": {
        "colab": {
          "base_uri": "https://localhost:8080/"
        },
        "id": "IBBqCJ8fOn2L",
        "outputId": "b42dba03-9efc-4b79-fff8-2812c8dad203"
      },
      "execution_count": 51,
      "outputs": [
        {
          "output_type": "stream",
          "name": "stdout",
          "text": [
            "['apple', 'blackcurrant', 'watermelon']\n"
          ]
        }
      ]
    },
    {
      "cell_type": "markdown",
      "source": [
        "## List methods in Python"
      ],
      "metadata": {
        "id": "S4T57IOsClhh"
      }
    },
    {
      "cell_type": "markdown",
      "source": [
        "\n",
        "\n",
        "**1.   append():**\n",
        "\n"
      ],
      "metadata": {
        "id": "XMd3SV6ZCxZw"
      }
    },
    {
      "cell_type": "markdown",
      "source": [
        "append() method is used to add elements at the end of the list."
      ],
      "metadata": {
        "id": "PC3WsilhGkKF"
      }
    },
    {
      "cell_type": "markdown",
      "source": [
        "Examples:"
      ],
      "metadata": {
        "id": "Dhao6r85JQgV"
      }
    },
    {
      "cell_type": "code",
      "source": [
        "list=[2,5,6,7]\n",
        "list.append(8)\n",
        "print(list)"
      ],
      "metadata": {
        "colab": {
          "base_uri": "https://localhost:8080/"
        },
        "id": "LTkMPjpKIsnX",
        "outputId": "b6ecc609-52f0-4082-91a9-1e674db86af8"
      },
      "execution_count": 3,
      "outputs": [
        {
          "output_type": "stream",
          "name": "stdout",
          "text": [
            "[2, 5, 6, 7, 8]\n"
          ]
        }
      ]
    },
    {
      "cell_type": "code",
      "source": [
        "lst=[\"apple\",\"ball\",\"cat\"]\n",
        "lst.append(\"dog\")\n",
        "print(lst)"
      ],
      "metadata": {
        "colab": {
          "base_uri": "https://localhost:8080/"
        },
        "id": "SI4d4rYsJTA3",
        "outputId": "68565551-4314-4be5-e5a4-bdcbd9c9b5c5"
      },
      "execution_count": 4,
      "outputs": [
        {
          "output_type": "stream",
          "name": "stdout",
          "text": [
            "['apple', 'ball', 'cat', 'dog']\n"
          ]
        }
      ]
    },
    {
      "cell_type": "code",
      "source": [
        "lst=[2.5,3.6,4.7]\n",
        "lst.append(5.8)\n",
        "print(lst)"
      ],
      "metadata": {
        "colab": {
          "base_uri": "https://localhost:8080/"
        },
        "id": "4bsUerEZJnbM",
        "outputId": "b18be937-e1a7-42aa-d56b-ee1fc1ffa6e4"
      },
      "execution_count": 5,
      "outputs": [
        {
          "output_type": "stream",
          "name": "stdout",
          "text": [
            "[2.5, 3.6, 4.7, 5.8]\n"
          ]
        }
      ]
    },
    {
      "cell_type": "markdown",
      "source": [
        "\n",
        "\n",
        "**2.   extend():**"
      ],
      "metadata": {
        "id": "Wr_EkvnOC03s"
      }
    },
    {
      "cell_type": "markdown",
      "source": [
        "extend() method adds items of an iterable (list, tuple, dictionary, etc) at the end of a list."
      ],
      "metadata": {
        "id": "dGkl_3XjG1ar"
      }
    },
    {
      "cell_type": "markdown",
      "source": [
        "Example:"
      ],
      "metadata": {
        "id": "NI9I6tFSJu2Z"
      }
    },
    {
      "cell_type": "code",
      "source": [
        "lst=[1,2,3,4]\n",
        "lst.extend([5,6,7])\n",
        "print(lst)"
      ],
      "metadata": {
        "colab": {
          "base_uri": "https://localhost:8080/"
        },
        "id": "UgFLaae2Jw2W",
        "outputId": "64f118fd-3285-4f55-d53a-ab1aed4d3eea"
      },
      "execution_count": 6,
      "outputs": [
        {
          "output_type": "stream",
          "name": "stdout",
          "text": [
            "[1, 2, 3, 4, 5, 6, 7]\n"
          ]
        }
      ]
    },
    {
      "cell_type": "code",
      "source": [
        "lst=[\"apple\",\"ball\",\"cat\"]\n",
        "lst.extend([\"dog\",\"elephant\"])\n",
        "print(lst)"
      ],
      "metadata": {
        "colab": {
          "base_uri": "https://localhost:8080/"
        },
        "id": "0xRZ7aj_J1cW",
        "outputId": "0273f3bd-f388-49e8-8d13-8b53c904d445"
      },
      "execution_count": 7,
      "outputs": [
        {
          "output_type": "stream",
          "name": "stdout",
          "text": [
            "['apple', 'ball', 'cat', 'dog', 'elephant']\n"
          ]
        }
      ]
    },
    {
      "cell_type": "code",
      "source": [
        "lst=[2.5,3.6,4.7]\n",
        "lst.extend([5.8,6.9])\n",
        "print(lst)"
      ],
      "metadata": {
        "colab": {
          "base_uri": "https://localhost:8080/"
        },
        "id": "SEHcGw6lJ5To",
        "outputId": "385f1b74-f6c6-4c0a-8a11-356fd32e2edf"
      },
      "execution_count": 8,
      "outputs": [
        {
          "output_type": "stream",
          "name": "stdout",
          "text": [
            "[2.5, 3.6, 4.7, 5.8, 6.9]\n"
          ]
        }
      ]
    },
    {
      "cell_type": "markdown",
      "source": [
        "\n",
        "\n",
        "**3.   insert():**\n",
        "\n"
      ],
      "metadata": {
        "id": "8Hi6RnPrC_s2"
      }
    },
    {
      "cell_type": "markdown",
      "source": [
        "insert() method inserts an item at a specific index in a list."
      ],
      "metadata": {
        "id": "qvutSew3G2vT"
      }
    },
    {
      "cell_type": "markdown",
      "source": [
        "Example:"
      ],
      "metadata": {
        "id": "HtnnSHFKKEx8"
      }
    },
    {
      "cell_type": "code",
      "source": [
        "lst=[1,2,3,4]\n",
        "lst.insert(2,5)\n",
        "print(lst)"
      ],
      "metadata": {
        "colab": {
          "base_uri": "https://localhost:8080/"
        },
        "id": "IFOTG0M4J_Ox",
        "outputId": "1f0d8666-616a-4dcc-ae37-9790768fb2b7"
      },
      "execution_count": 9,
      "outputs": [
        {
          "output_type": "stream",
          "name": "stdout",
          "text": [
            "[1, 2, 5, 3, 4]\n"
          ]
        }
      ]
    },
    {
      "cell_type": "code",
      "source": [
        "lst=[\"apple\",\"ball\",\"cat\"]\n",
        "lst.insert(1,\"dog\")\n",
        "print(lst)"
      ],
      "metadata": {
        "colab": {
          "base_uri": "https://localhost:8080/"
        },
        "id": "wKxFTK53KG3b",
        "outputId": "8c5ed619-fe23-48c4-9303-30ba587da19b"
      },
      "execution_count": 10,
      "outputs": [
        {
          "output_type": "stream",
          "name": "stdout",
          "text": [
            "['apple', 'dog', 'ball', 'cat']\n"
          ]
        }
      ]
    },
    {
      "cell_type": "code",
      "source": [
        "lst=[2.5,3.6,4.7]\n",
        "lst.insert(0,5.8)\n",
        "print(lst)"
      ],
      "metadata": {
        "colab": {
          "base_uri": "https://localhost:8080/"
        },
        "id": "1YkX5Kg9KKIj",
        "outputId": "3c10d562-489a-48c0-fb3d-db7bef76f083"
      },
      "execution_count": 11,
      "outputs": [
        {
          "output_type": "stream",
          "name": "stdout",
          "text": [
            "[5.8, 2.5, 3.6, 4.7]\n"
          ]
        }
      ]
    },
    {
      "cell_type": "markdown",
      "source": [
        "\n",
        "\n",
        "**4.   remove():**\n",
        "\n"
      ],
      "metadata": {
        "id": "d7NuLkOmDHNW"
      }
    },
    {
      "cell_type": "markdown",
      "source": [
        "remove() method removes a given element from the list."
      ],
      "metadata": {
        "id": "dk8zpwtoHHki"
      }
    },
    {
      "cell_type": "markdown",
      "source": [
        "Example:"
      ],
      "metadata": {
        "id": "k9vZbK_gKO9f"
      }
    },
    {
      "cell_type": "code",
      "source": [
        "lst=[1,2,3,4]\n",
        "lst.remove(3)\n",
        "print(lst)"
      ],
      "metadata": {
        "colab": {
          "base_uri": "https://localhost:8080/"
        },
        "id": "ksMKu00XKRBI",
        "outputId": "00f324eb-22b9-4e3e-c4de-36a4c5d03c65"
      },
      "execution_count": 12,
      "outputs": [
        {
          "output_type": "stream",
          "name": "stdout",
          "text": [
            "[1, 2, 4]\n"
          ]
        }
      ]
    },
    {
      "cell_type": "code",
      "source": [
        "lst=[\"apple\",\"ball\",\"cat\"]\n",
        "lst.remove(\"ball\")\n",
        "print(lst)"
      ],
      "metadata": {
        "colab": {
          "base_uri": "https://localhost:8080/"
        },
        "id": "igjUXBHiKVNL",
        "outputId": "035c9471-9157-429f-93a1-a355d76c9313"
      },
      "execution_count": 13,
      "outputs": [
        {
          "output_type": "stream",
          "name": "stdout",
          "text": [
            "['apple', 'cat']\n"
          ]
        }
      ]
    },
    {
      "cell_type": "code",
      "source": [
        "lst=[2.5,3.6,4.7]\n",
        "lst.remove(4.7)\n",
        "print(lst)"
      ],
      "metadata": {
        "colab": {
          "base_uri": "https://localhost:8080/"
        },
        "id": "7kQ6uK5SKYew",
        "outputId": "3d9437df-b56e-4732-a2bd-e26adc2a5c31"
      },
      "execution_count": 14,
      "outputs": [
        {
          "output_type": "stream",
          "name": "stdout",
          "text": [
            "[2.5, 3.6]\n"
          ]
        }
      ]
    },
    {
      "cell_type": "markdown",
      "source": [
        "\n",
        "\n",
        "**5.   pop():**\n",
        "\n"
      ],
      "metadata": {
        "id": "6DPfIOfLDN9Z"
      }
    },
    {
      "cell_type": "markdown",
      "source": [
        "pop() method removes elements at a specific index from the list."
      ],
      "metadata": {
        "id": "6NcL-VwcHPgN"
      }
    },
    {
      "cell_type": "markdown",
      "source": [
        "Example:"
      ],
      "metadata": {
        "id": "uFrEHlAZKyQR"
      }
    },
    {
      "cell_type": "code",
      "source": [
        "lst=[21,54,35,64]\n",
        "lst.pop()\n",
        "print(lst)"
      ],
      "metadata": {
        "colab": {
          "base_uri": "https://localhost:8080/"
        },
        "id": "mZiSprR8KjaV",
        "outputId": "e8c613bb-5019-45d3-ca35-1d9d688d75b9"
      },
      "execution_count": 16,
      "outputs": [
        {
          "output_type": "stream",
          "name": "stdout",
          "text": [
            "[21, 54, 35]\n"
          ]
        }
      ]
    },
    {
      "cell_type": "code",
      "source": [
        "lst=[1,2,3,4]\n",
        "lst.pop(2)\n",
        "print(lst)"
      ],
      "metadata": {
        "colab": {
          "base_uri": "https://localhost:8080/"
        },
        "id": "k1Qt_sl-KdVP",
        "outputId": "283e4c2b-d4eb-4644-d24a-99a72fd3c679"
      },
      "execution_count": 15,
      "outputs": [
        {
          "output_type": "stream",
          "name": "stdout",
          "text": [
            "[1, 2, 4]\n"
          ]
        }
      ]
    },
    {
      "cell_type": "code",
      "source": [
        "lst=[\"apple\",\"ball\",\"cat\"]\n",
        "lst.pop(1)\n",
        "print(lst)"
      ],
      "metadata": {
        "colab": {
          "base_uri": "https://localhost:8080/"
        },
        "id": "-wAysJHcKr26",
        "outputId": "90d1934c-3ad4-4446-b9dd-a35534d8de24"
      },
      "execution_count": 17,
      "outputs": [
        {
          "output_type": "stream",
          "name": "stdout",
          "text": [
            "['apple', 'cat']\n"
          ]
        }
      ]
    },
    {
      "cell_type": "code",
      "source": [
        "lst=[2.5,3.6,4.7]\n",
        "lst.pop(0)\n",
        "print(lst)"
      ],
      "metadata": {
        "colab": {
          "base_uri": "https://localhost:8080/"
        },
        "id": "hdWGA16nKufw",
        "outputId": "05d133e6-8f98-4453-9ee6-aa522e638bad"
      },
      "execution_count": 18,
      "outputs": [
        {
          "output_type": "stream",
          "name": "stdout",
          "text": [
            "[3.6, 4.7]\n"
          ]
        }
      ]
    },
    {
      "cell_type": "markdown",
      "source": [
        "\n",
        "\n",
        "**6.   index():**\n",
        "\n"
      ],
      "metadata": {
        "id": "xP92j6VzF59b"
      }
    },
    {
      "cell_type": "markdown",
      "source": [
        "index() method searches for a given element from the start of the list and returns the position of the first occurrence."
      ],
      "metadata": {
        "id": "lcAP5AaUHluf"
      }
    },
    {
      "cell_type": "markdown",
      "source": [
        "Example:"
      ],
      "metadata": {
        "id": "7Tx1k3xbLJQn"
      }
    },
    {
      "cell_type": "code",
      "source": [
        "lst=[1,2,3,4]\n",
        "lst.index(3)"
      ],
      "metadata": {
        "colab": {
          "base_uri": "https://localhost:8080/"
        },
        "id": "wVoayjjbK1Ob",
        "outputId": "4e0cf5a9-7f5c-4f26-d3c7-c1acd42c0590"
      },
      "execution_count": 21,
      "outputs": [
        {
          "output_type": "execute_result",
          "data": {
            "text/plain": [
              "2"
            ]
          },
          "metadata": {},
          "execution_count": 21
        }
      ]
    },
    {
      "cell_type": "code",
      "source": [
        "lst=[\"apple\",\"ball\",\"cat\"]\n",
        "lst.index(\"ball\")"
      ],
      "metadata": {
        "colab": {
          "base_uri": "https://localhost:8080/"
        },
        "id": "PfAAvsiYLA2b",
        "outputId": "5d137f41-d860-436c-be51-18a854bc1990"
      },
      "execution_count": 22,
      "outputs": [
        {
          "output_type": "execute_result",
          "data": {
            "text/plain": [
              "1"
            ]
          },
          "metadata": {},
          "execution_count": 22
        }
      ]
    },
    {
      "cell_type": "markdown",
      "source": [
        "\n",
        "\n",
        "**7.   count():**\n",
        "\n"
      ],
      "metadata": {
        "id": "56VfBMv1F9tp"
      }
    },
    {
      "cell_type": "markdown",
      "source": [
        "count() method returns the count of the occurrences of a given element in a list."
      ],
      "metadata": {
        "id": "HSMo3TO0Hull"
      }
    },
    {
      "cell_type": "markdown",
      "source": [
        "Example:"
      ],
      "metadata": {
        "id": "kSDUd09QLFU9"
      }
    },
    {
      "cell_type": "code",
      "source": [
        "lst=[1,2,3,4,4,5,5,5]\n",
        "lst.count(5)"
      ],
      "metadata": {
        "colab": {
          "base_uri": "https://localhost:8080/"
        },
        "id": "q_sWLA-SLRvt",
        "outputId": "6e84f247-d568-4fd9-89f8-e794cb452ea6"
      },
      "execution_count": 23,
      "outputs": [
        {
          "output_type": "execute_result",
          "data": {
            "text/plain": [
              "3"
            ]
          },
          "metadata": {},
          "execution_count": 23
        }
      ]
    },
    {
      "cell_type": "code",
      "source": [
        "lst=[\"apple\",\"ball\",\"cat\",\"ball\"]\n",
        "lst.count(\"ball\")"
      ],
      "metadata": {
        "colab": {
          "base_uri": "https://localhost:8080/"
        },
        "id": "nYrxwxkZLU_M",
        "outputId": "c45a80bb-920e-4222-a4f0-e02f0f1a1bea"
      },
      "execution_count": 24,
      "outputs": [
        {
          "output_type": "execute_result",
          "data": {
            "text/plain": [
              "2"
            ]
          },
          "metadata": {},
          "execution_count": 24
        }
      ]
    },
    {
      "cell_type": "markdown",
      "source": [
        "\n",
        "\n",
        "\n",
        "\n",
        "**8.   sort():**\n",
        "\n",
        "\n",
        "\n"
      ],
      "metadata": {
        "id": "mV0LFP2lGCwL"
      }
    },
    {
      "cell_type": "markdown",
      "source": [
        "sort() method sorts the elements of a list. It sorts in ascending order."
      ],
      "metadata": {
        "id": "BI9Fq_R1H5Oj"
      }
    },
    {
      "cell_type": "markdown",
      "source": [
        "Example:"
      ],
      "metadata": {
        "id": "dIt9xpYKLZ-C"
      }
    },
    {
      "cell_type": "code",
      "source": [
        "lst=[21,54,35,64]\n",
        "lst.sort()\n",
        "print(lst)"
      ],
      "metadata": {
        "colab": {
          "base_uri": "https://localhost:8080/"
        },
        "id": "icRgx-KULbqi",
        "outputId": "0de9210d-b21f-4487-cabf-50ecbea8d6f4"
      },
      "execution_count": 25,
      "outputs": [
        {
          "output_type": "stream",
          "name": "stdout",
          "text": [
            "[21, 35, 54, 64]\n"
          ]
        }
      ]
    },
    {
      "cell_type": "code",
      "source": [
        "lst=[\"apple\",\"Ball\",\"Cat\",\"dog\",\"Elephant\"]\n",
        "lst.sort()\n",
        "print(lst)"
      ],
      "metadata": {
        "colab": {
          "base_uri": "https://localhost:8080/"
        },
        "id": "ARi06bHDLg0x",
        "outputId": "f35e1877-ad7a-47c2-a693-2210d1f95b94"
      },
      "execution_count": 29,
      "outputs": [
        {
          "output_type": "stream",
          "name": "stdout",
          "text": [
            "['Ball', 'Cat', 'Elephant', 'apple', 'dog']\n"
          ]
        }
      ]
    },
    {
      "cell_type": "markdown",
      "source": [
        "\n",
        "\n",
        "**9.   reverse():**\n",
        "\n"
      ],
      "metadata": {
        "id": "u3U4WD0vGIII"
      }
    },
    {
      "cell_type": "markdown",
      "source": [
        "we can reverse the list using the list reverse() method in Python."
      ],
      "metadata": {
        "id": "4LLa3XhdIK9n"
      }
    },
    {
      "cell_type": "markdown",
      "source": [
        "Example:"
      ],
      "metadata": {
        "id": "iWzSkEUiL_uh"
      }
    },
    {
      "cell_type": "code",
      "source": [
        "lst=[21,54,35,64]\n",
        "lst.reverse()\n",
        "print(lst)"
      ],
      "metadata": {
        "colab": {
          "base_uri": "https://localhost:8080/"
        },
        "id": "aFsm3X5wMBut",
        "outputId": "9c80753f-f3dd-41aa-f525-12c6b7513c17"
      },
      "execution_count": 30,
      "outputs": [
        {
          "output_type": "stream",
          "name": "stdout",
          "text": [
            "[64, 35, 54, 21]\n"
          ]
        }
      ]
    },
    {
      "cell_type": "code",
      "source": [
        "lst=[\"apple\",\"Ball\",\"Cat\",\"dog\",\"Elephant\"]\n",
        "lst.reverse()\n",
        "print(lst)"
      ],
      "metadata": {
        "colab": {
          "base_uri": "https://localhost:8080/"
        },
        "id": "UdUmA4afMGkU",
        "outputId": "b8baed18-aa7e-493e-b4ad-8ae8960ab77c"
      },
      "execution_count": 31,
      "outputs": [
        {
          "output_type": "stream",
          "name": "stdout",
          "text": [
            "['Elephant', 'dog', 'Cat', 'Ball', 'apple']\n"
          ]
        }
      ]
    }
  ]
}