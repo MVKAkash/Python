{
  "nbformat": 4,
  "nbformat_minor": 0,
  "metadata": {
    "colab": {
      "provenance": []
    },
    "kernelspec": {
      "name": "python3",
      "display_name": "Python 3"
    },
    "language_info": {
      "name": "python"
    }
  },
  "cells": [
    {
      "cell_type": "markdown",
      "source": [
        "## **Python Functions**"
      ],
      "metadata": {
        "id": "59WnW_ONr4Ls"
      }
    },
    {
      "cell_type": "markdown",
      "source": [
        "\n",
        "\n",
        "*   A function is a block of code which only runs when it is called.\n",
        "\n",
        "*   You can pass data, known as parameters, into a function.\n",
        "\n",
        "*   A function can return data as a result.\n",
        "\n",
        "\n",
        "\n"
      ],
      "metadata": {
        "id": "vWNIGnjSr-Pc"
      }
    },
    {
      "cell_type": "markdown",
      "source": [
        "Example:"
      ],
      "metadata": {
        "id": "eWSPjoCrsOGk"
      }
    },
    {
      "cell_type": "code",
      "execution_count": null,
      "metadata": {
        "id": "fglQrURMq4nF"
      },
      "outputs": [],
      "source": [
        "#function is defined using the def keyword\n",
        "def car():\n",
        "  print(\"mustang\")"
      ]
    },
    {
      "cell_type": "code",
      "source": [
        "car()"
      ],
      "metadata": {
        "colab": {
          "base_uri": "https://localhost:8080/"
        },
        "id": "NcB9vEODru7N",
        "outputId": "49a40254-0fbf-49fb-857f-17d832e8c1d6"
      },
      "execution_count": null,
      "outputs": [
        {
          "output_type": "stream",
          "name": "stdout",
          "text": [
            "mustang\n"
          ]
        }
      ]
    },
    {
      "cell_type": "markdown",
      "source": [
        "### Arguments"
      ],
      "metadata": {
        "id": "foHcqkDJsnhT"
      }
    },
    {
      "cell_type": "markdown",
      "source": [
        "\n",
        "\n",
        "*   Information can be passed into functions as arguments.\n",
        "*   Arguments are specified after the function name, inside the parentheses. You can add as many arguments as you want, just separate them with a comma.\n",
        "\n",
        "\n",
        "\n"
      ],
      "metadata": {
        "id": "GFYFTWuhstct"
      }
    },
    {
      "cell_type": "markdown",
      "source": [
        "Example:"
      ],
      "metadata": {
        "id": "cDfyZ7a_u19y"
      }
    },
    {
      "cell_type": "code",
      "source": [
        "def country(name):\n",
        "  print(f\"I am from {name}\")"
      ],
      "metadata": {
        "id": "whzmD5bytT65"
      },
      "execution_count": null,
      "outputs": []
    },
    {
      "cell_type": "code",
      "source": [
        "country(\"India\")"
      ],
      "metadata": {
        "colab": {
          "base_uri": "https://localhost:8080/"
        },
        "id": "sE-TxyRttl9F",
        "outputId": "42f81200-5313-4534-afc9-4bc27145c7ca"
      },
      "execution_count": null,
      "outputs": [
        {
          "output_type": "stream",
          "name": "stdout",
          "text": [
            "I am from India\n"
          ]
        }
      ]
    },
    {
      "cell_type": "markdown",
      "source": [
        "# **Python Lambda**"
      ],
      "metadata": {
        "id": "hhCgyCKJwHPb"
      }
    },
    {
      "cell_type": "markdown",
      "source": [
        "\n",
        "\n",
        "*   A lambda function is a small anonymous function.\n",
        "*   A lambda function can take any number of arguments, but can only have one expression.\n",
        "\n"
      ],
      "metadata": {
        "id": "eCl-FOiNwM4M"
      }
    },
    {
      "cell_type": "code",
      "source": [
        "x = lambda a, b : a - b\n",
        "print(x(5, 3))"
      ],
      "metadata": {
        "colab": {
          "base_uri": "https://localhost:8080/"
        },
        "id": "pZW3DnpixQvw",
        "outputId": "f857bf4d-5230-4558-af70-d08736e72ca7"
      },
      "execution_count": null,
      "outputs": [
        {
          "output_type": "stream",
          "name": "stdout",
          "text": [
            "2\n"
          ]
        }
      ]
    },
    {
      "cell_type": "markdown",
      "source": [
        "### filter() Function:"
      ],
      "metadata": {
        "id": "-SGHWSRF1q0y"
      }
    },
    {
      "cell_type": "markdown",
      "source": [
        "The filter() function returns an iterator where the items are filtered through a function to test if the item is accepted or not.\n"
      ],
      "metadata": {
        "id": "Zf_sZOX116zJ"
      }
    },
    {
      "cell_type": "markdown",
      "source": [
        "Example:"
      ],
      "metadata": {
        "id": "MwyaUcForbO-"
      }
    },
    {
      "cell_type": "code",
      "source": [
        "mylist = [1,2,3,4,5,6,7,8,9,10]\n",
        "evennum = list(filter(lambda x: (x%2==0), mylist))\n",
        "print(evennum)"
      ],
      "metadata": {
        "id": "vN70KZZrxo5-",
        "colab": {
          "base_uri": "https://localhost:8080/"
        },
        "outputId": "0e219abe-b5f1-49d1-cdb9-1d24489ce5ac"
      },
      "execution_count": null,
      "outputs": [
        {
          "output_type": "stream",
          "name": "stdout",
          "text": [
            "[2, 4, 6, 8, 10]\n"
          ]
        }
      ]
    },
    {
      "cell_type": "code",
      "source": [
        "mylist2 = [12, 65, 54, 39, 102, 339, 221, 50, 70]\n",
        "divby13 = list(filter(lambda x: (x%13==0), mylist2))\n",
        "print(divby13)"
      ],
      "metadata": {
        "colab": {
          "base_uri": "https://localhost:8080/"
        },
        "id": "oJJMgk8Wq6y1",
        "outputId": "874f387f-bad9-4002-89c0-166a388ed9ac"
      },
      "execution_count": null,
      "outputs": [
        {
          "output_type": "stream",
          "name": "stdout",
          "text": [
            "[65, 39, 221]\n"
          ]
        }
      ]
    },
    {
      "cell_type": "markdown",
      "source": [
        "### map() function:"
      ],
      "metadata": {
        "id": "Pc8k0uXit6-S"
      }
    },
    {
      "cell_type": "markdown",
      "source": [
        "We can also use lambda expressions with map to achieve above result."
      ],
      "metadata": {
        "id": "lVUL6oHguldf"
      }
    },
    {
      "cell_type": "code",
      "source": [
        "numbers = [1, 2, 3, 4]\n",
        "result = map(lambda x: x + x, numbers)\n",
        "print(list(result))"
      ],
      "metadata": {
        "colab": {
          "base_uri": "https://localhost:8080/"
        },
        "id": "9Z76efV8to3j",
        "outputId": "f931d68c-0694-4cb8-e21d-81c1aabc4a56"
      },
      "execution_count": null,
      "outputs": [
        {
          "output_type": "stream",
          "name": "stdout",
          "text": [
            "[2, 4, 6, 8]\n"
          ]
        }
      ]
    },
    {
      "cell_type": "code",
      "source": [
        "a = [1, 2, 3]\n",
        "b = [4, 5, 6]\n",
        "\n",
        "result = map(lambda x, y: x + y, a, b)\n",
        "print(list(result))"
      ],
      "metadata": {
        "colab": {
          "base_uri": "https://localhost:8080/"
        },
        "id": "oVv8FizQvOLS",
        "outputId": "719f1c81-afd0-46e6-8fcf-7a84ac16971d"
      },
      "execution_count": null,
      "outputs": [
        {
          "output_type": "stream",
          "name": "stdout",
          "text": [
            "[5, 7, 9]\n"
          ]
        }
      ]
    },
    {
      "cell_type": "code",
      "source": [
        "a = input(\"Enter name : \")\n",
        "b = input(\"Enter course : \")\n",
        "class Student:\n",
        "  def __init__(self, name, course):\n",
        "    self.name = name\n",
        "    self.course = course"
      ],
      "metadata": {
        "colab": {
          "base_uri": "https://localhost:8080/"
        },
        "id": "ruoQpOJ7vlmy",
        "outputId": "81b9f279-fd8e-42ab-c445-a4ac14216d34"
      },
      "execution_count": null,
      "outputs": [
        {
          "name": "stdout",
          "output_type": "stream",
          "text": [
            "Enter name : Akash\n",
            "Enter course : Python\n"
          ]
        }
      ]
    },
    {
      "cell_type": "code",
      "source": [
        "o = Student(a,b)"
      ],
      "metadata": {
        "id": "Ya_kqet8vmco"
      },
      "execution_count": null,
      "outputs": []
    },
    {
      "cell_type": "code",
      "source": [
        "print(f\"{o.name} is enrolled in {o.course}\")"
      ],
      "metadata": {
        "colab": {
          "base_uri": "https://localhost:8080/"
        },
        "id": "vY9hndbYvymM",
        "outputId": "02b7e4f3-48d8-4a0b-831f-571d63afd833"
      },
      "execution_count": null,
      "outputs": [
        {
          "output_type": "stream",
          "name": "stdout",
          "text": [
            "Akash is enrolled in Python\n"
          ]
        }
      ]
    },
    {
      "cell_type": "markdown",
      "source": [
        "# Intersection():"
      ],
      "metadata": {
        "id": "CU3Fy7AZqavc"
      }
    },
    {
      "cell_type": "code",
      "source": [
        "class Animals():                         #1 parent class and 2 chilren class\n",
        "  def __init__(self, name, age):\n",
        "    self.name = name\n",
        "    self.age = age\n",
        "\n",
        "class cat(Animals):\n",
        "  def speek(self):\n",
        "    print(\"meow\")\n",
        "\n",
        "class mouse(Animals):\n",
        "  def speek(self):\n",
        "    print(\"squeeze\")\n",
        "\n",
        "\n",
        "\n",
        "obj1 = cat(\"tom\", 5)\n",
        "obj2 = mouse(\"jerry\", 3)\n",
        "\n",
        "\n",
        "print(f\"{obj1.name} is {obj1.age} years old\")\n",
        "obj1.speek()\n",
        "\n",
        "print(f\"{obj2.name} is {obj2.age} years old\")\n",
        "obj2.speek()"
      ],
      "metadata": {
        "id": "fRQQzwSPwCqE",
        "colab": {
          "base_uri": "https://localhost:8080/"
        },
        "outputId": "3621940a-7ec0-46e6-d3b8-9e0d3d7d730d"
      },
      "execution_count": null,
      "outputs": [
        {
          "output_type": "stream",
          "name": "stdout",
          "text": [
            "tom is 5 years old\n",
            "meow\n",
            "jerry is 3 years old\n",
            "squeeze\n"
          ]
        }
      ]
    },
    {
      "cell_type": "code",
      "source": [
        "class Animals():                         #1 parent class and 1 chilren class\n",
        "  def __init__(self, name, age):\n",
        "    self.name = name\n",
        "    self.age = age\n",
        "\n",
        "class panther(Animals):\n",
        "  def speek(self):\n",
        "    print(\"grump\")\n",
        "\n",
        "obj1 = panther(\"tom\", 5)\n",
        "\n",
        "print(f\"{obj1.name} is {obj1.age} years old\")\n",
        "obj1.speek()"
      ],
      "metadata": {
        "colab": {
          "base_uri": "https://localhost:8080/"
        },
        "id": "c7fOKoExlDQY",
        "outputId": "ac66e0cc-97f6-4fa7-ea9e-d8b429ac4532"
      },
      "execution_count": null,
      "outputs": [
        {
          "output_type": "stream",
          "name": "stdout",
          "text": [
            "tom is 5 years old\n",
            "grump\n"
          ]
        }
      ]
    },
    {
      "cell_type": "code",
      "source": [
        "# 2 parent class and 1 children class\n",
        "class twoweeler():\n",
        "  def __init__(self, name):\n",
        "    self.name = name\n",
        "\n",
        "class fourweeler():\n",
        "  def __init__(self, name):\n",
        "    self.name = name\n",
        "\n",
        "class vehicle(twoweeler, fourweeler):\n",
        "  def ride(self):\n",
        "    print(f\"{self.name} is riding\")\n",
        "\n",
        "obj1 = vehicle(\"Tom\")\n",
        "obj1.ride()\n",
        "\n",
        "obj2 = vehicle(\"Jerry\")\n",
        "obj2.ride()"
      ],
      "metadata": {
        "colab": {
          "base_uri": "https://localhost:8080/"
        },
        "id": "xhAy_c8umdTs",
        "outputId": "c9ab05ca-71a3-4083-9186-bac94357bf7b"
      },
      "execution_count": null,
      "outputs": [
        {
          "output_type": "stream",
          "name": "stdout",
          "text": [
            "Tom is riding\n",
            "Jerry is riding\n"
          ]
        }
      ]
    },
    {
      "cell_type": "code",
      "source": [
        "# 2 parent class and 2 children class\n",
        "class twoweeler():\n",
        "  def __init__(self, name):\n",
        "    self.name = name\n",
        "\n",
        "class fourweeler():\n",
        "  def __init__(self, name):\n",
        "    self.name = name\n",
        "\n",
        "class bike(twoweeler):\n",
        "  def ride1(self):\n",
        "    print(f\"{self.name} is riding bike\")\n",
        "\n",
        "class car(fourweeler):\n",
        "  def ride2(self):\n",
        "    print(f\"{self.name} is riding car\")\n",
        "\n",
        "obj1 = bike(\"Tom\")\n",
        "obj1.ride1()\n",
        "\n",
        "obj2 = car(\"Jerry\")\n",
        "obj2.ride2()"
      ],
      "metadata": {
        "colab": {
          "base_uri": "https://localhost:8080/"
        },
        "id": "GfkOgKtQooNh",
        "outputId": "f5193c48-d4be-4e70-b77d-5978bd059d74"
      },
      "execution_count": null,
      "outputs": [
        {
          "output_type": "stream",
          "name": "stdout",
          "text": [
            "Tom is riding bike\n",
            "Jerry is riding car\n"
          ]
        }
      ]
    },
    {
      "cell_type": "markdown",
      "source": [
        "# Encapsulation():"
      ],
      "metadata": {
        "id": "P3qRsulwq9lM"
      }
    },
    {
      "cell_type": "code",
      "source": [
        "class Base:\n",
        "    def __init__(self,name,age):\n",
        "        self._a = name # Protected\n",
        "        self.__b =  age# Private\n",
        "        print(f\"{self._a} is {self.__b} years old.\")\n",
        "\n",
        "    def call(self):\n",
        "        print(self._a)\n",
        "        print(self.__b)\n",
        "\n",
        "\n",
        "\n",
        "class Derived(Base):\n",
        "    def out(self):\n",
        "        print(self._a)\n",
        "\n"
      ],
      "metadata": {
        "id": "XdSnAZp8pmcA"
      },
      "execution_count": 25,
      "outputs": []
    },
    {
      "cell_type": "code",
      "source": [
        "obj1 = Base(\"steve\",20)\n",
        "obj1.call()"
      ],
      "metadata": {
        "colab": {
          "base_uri": "https://localhost:8080/"
        },
        "id": "SP9ZBnw14icT",
        "outputId": "0429ec68-3ffa-4ce8-9441-fbcd562eebbb"
      },
      "execution_count": 26,
      "outputs": [
        {
          "output_type": "stream",
          "name": "stdout",
          "text": [
            "steve is 20 years old.\n",
            "steve\n",
            "20\n"
          ]
        }
      ]
    },
    {
      "cell_type": "code",
      "source": [
        "oj2 = Derived(1,2)\n",
        "oj2.out()"
      ],
      "metadata": {
        "colab": {
          "base_uri": "https://localhost:8080/"
        },
        "id": "xaYZTARh4r15",
        "outputId": "5dc8d175-aa06-4f2c-f52b-8fafcf0bd16d"
      },
      "execution_count": 22,
      "outputs": [
        {
          "output_type": "stream",
          "name": "stdout",
          "text": [
            "1\n"
          ]
        }
      ]
    },
    {
      "cell_type": "code",
      "source": [
        "# polymorphism\n",
        "def add(x, y, z = 0):\n",
        "    return x + y + z\n",
        "\n",
        "print(add(5, 4))\n",
        "print(add(2, 3, 4))\n"
      ],
      "metadata": {
        "colab": {
          "base_uri": "https://localhost:8080/"
        },
        "id": "uoSQUMqRt5Vk",
        "outputId": "a6352cef-00d3-4ad9-b888-c6d81cab222f"
      },
      "execution_count": null,
      "outputs": [
        {
          "output_type": "stream",
          "name": "stdout",
          "text": [
            "9\n",
            "9\n"
          ]
        }
      ]
    },
    {
      "cell_type": "code",
      "source": [
        "class add():\n",
        "  def adding(self, x, y, z):\n",
        "    return x + y + z\n"
      ],
      "metadata": {
        "id": "xrpJ0Ifa53l5"
      },
      "execution_count": 2,
      "outputs": []
    },
    {
      "cell_type": "code",
      "source": [
        "ob1 = add()\n",
        "ob1.adding(78,32,54)"
      ],
      "metadata": {
        "colab": {
          "base_uri": "https://localhost:8080/"
        },
        "id": "nS4wYDI56IE2",
        "outputId": "2df715dd-3c01-439a-c65a-70ffabaeb6fb"
      },
      "execution_count": 3,
      "outputs": [
        {
          "output_type": "execute_result",
          "data": {
            "text/plain": [
              "164"
            ]
          },
          "metadata": {},
          "execution_count": 3
        }
      ]
    },
    {
      "cell_type": "code",
      "source": [
        "ob2 = add()\n",
        "ob2.adding(\"Python \",\" data \",\" science\")"
      ],
      "metadata": {
        "colab": {
          "base_uri": "https://localhost:8080/",
          "height": 36
        },
        "id": "kaLeMCsn6RxV",
        "outputId": "1dc2ee0f-8ef7-4ac6-f387-f3b01c2278b0"
      },
      "execution_count": 4,
      "outputs": [
        {
          "output_type": "execute_result",
          "data": {
            "text/plain": [
              "'Python  data  science'"
            ],
            "application/vnd.google.colaboratory.intrinsic+json": {
              "type": "string"
            }
          },
          "metadata": {},
          "execution_count": 4
        }
      ]
    },
    {
      "cell_type": "code",
      "source": [
        "# abstraction\n",
        "class car():\n",
        "  def engine(self):\n",
        "    print(\"engine is running\")\n",
        "class doors():\n",
        "  def door(self):\n",
        "    print(\"doors are closed\")\n",
        "class safety():\n",
        "  def seat(self):\n",
        "    print(\"seat belts are on\")"
      ],
      "metadata": {
        "id": "DZBRvWidveEU"
      },
      "execution_count": 38,
      "outputs": []
    },
    {
      "cell_type": "code",
      "source": [
        "o1 = car()\n",
        "o1.engine()\n",
        "\n",
        "o2 = doors()\n",
        "o2.door()\n",
        "\n",
        "o3 = safety()\n",
        "o3.seat()"
      ],
      "metadata": {
        "colab": {
          "base_uri": "https://localhost:8080/"
        },
        "id": "tF68-tAz9thY",
        "outputId": "67ae8cf1-4ec6-4c3a-a752-bffe738dc319"
      },
      "execution_count": 39,
      "outputs": [
        {
          "output_type": "stream",
          "name": "stdout",
          "text": [
            "engine is running\n",
            "doors are closed\n",
            "seat belts are on\n"
          ]
        }
      ]
    },
    {
      "cell_type": "code",
      "source": [],
      "metadata": {
        "id": "U1N4B8Uf-Jzo"
      },
      "execution_count": null,
      "outputs": []
    }
  ]
}