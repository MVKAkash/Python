{
  "nbformat": 4,
  "nbformat_minor": 0,
  "metadata": {
    "colab": {
      "provenance": []
    },
    "kernelspec": {
      "name": "python3",
      "display_name": "Python 3"
    },
    "language_info": {
      "name": "python"
    }
  },
  "cells": [
    {
      "cell_type": "markdown",
      "source": [
        "# **Python Variables**"
      ],
      "metadata": {
        "id": "wBNOIvtx131K"
      }
    },
    {
      "cell_type": "markdown",
      "source": [
        "### What is a Variable?"
      ],
      "metadata": {
        "id": "iUvALZhr2E5i"
      }
    },
    {
      "cell_type": "markdown",
      "source": [
        "A variable is like a storage box in your computer’s memory where you can keep data that you want to use later in your program. You can think of it like labeling a box to remember what's inside. In Python, when you create a variable, you give it a name and store a value in it."
      ],
      "metadata": {
        "id": "40v5Haft2N8k"
      }
    },
    {
      "cell_type": "markdown",
      "source": [
        "### How to Create a Variable"
      ],
      "metadata": {
        "id": "EMVgl5hn3UtX"
      }
    },
    {
      "cell_type": "markdown",
      "source": [
        "To create a variable in Python, you just need to choose a name and use the equal sign '=' to assign a value to it. For example:"
      ],
      "metadata": {
        "id": "lmAtVBwq3cTK"
      }
    },
    {
      "cell_type": "code",
      "source": [
        "x = \"Apple\"\n",
        "y = 10\n",
        "print(x)\n",
        "print(y)"
      ],
      "metadata": {
        "colab": {
          "base_uri": "https://localhost:8080/"
        },
        "id": "7kj_jOCi3UTQ",
        "outputId": "b16833e4-9bb6-4f52-eb38-d2da519b01bc"
      },
      "execution_count": 7,
      "outputs": [
        {
          "output_type": "stream",
          "name": "stdout",
          "text": [
            "Apple\n",
            "10\n"
          ]
        }
      ]
    },
    {
      "cell_type": "markdown",
      "source": [
        "## Rules for Naming Variables"
      ],
      "metadata": {
        "id": "QDRx0u-Y36FF"
      }
    },
    {
      "cell_type": "markdown",
      "source": [
        "\n",
        "\n",
        "1.   Variable names must start with a letter (a-z, A-Z) or an underscore '_'. They can’t start with a number.\n",
        "2.   You can only use letters, numbers, and underscores in your variable names. No spaces or special characters like @, #, !, etc.\n",
        "3.   Variable names are case-sensitive, which means 'Age', 'age', and 'AGE' would be considered different variables.\n",
        "4.   Python resrved Keywords cannot be used by naming a variable.\n",
        "5.   Variable names cannot be start with digits.\n",
        "\n",
        "\n",
        "\n",
        "\n",
        "\n",
        "\n"
      ],
      "metadata": {
        "id": "fl7dQw6M4E8M"
      }
    },
    {
      "cell_type": "markdown",
      "source": [
        "## Valid variables"
      ],
      "metadata": {
        "id": "nPOHHO_954ji"
      }
    },
    {
      "cell_type": "markdown",
      "source": [
        "*   They use descriptive names that explain what the variable might store.\n",
        "*   They start with a letter or an underscore.\n",
        "*   They only contain letters, numbers, and underscores."
      ],
      "metadata": {
        "id": "3DVmqb8_6Wo7"
      }
    },
    {
      "cell_type": "code",
      "source": [
        "#Valid Variable\n",
        "Fruit = \"Apple\"\n",
        "_Quantity = 10\n",
        "print(Fruit)\n",
        "print(_Quantity)"
      ],
      "metadata": {
        "colab": {
          "base_uri": "https://localhost:8080/"
        },
        "id": "WiViBwdz93tN",
        "outputId": "e36fd9ad-5e7f-4c53-c8a4-d54546bf48e3"
      },
      "execution_count": 9,
      "outputs": [
        {
          "output_type": "stream",
          "name": "stdout",
          "text": [
            "Apple\n",
            "10\n"
          ]
        }
      ]
    },
    {
      "cell_type": "markdown",
      "source": [
        "Examples:"
      ],
      "metadata": {
        "id": "pFc3hYbg6si9"
      }
    },
    {
      "cell_type": "markdown",
      "source": [
        "'student_name',\n",
        "'total_amount',\n",
        "'_counter',\n",
        "'age',\n",
        "'temperature',\n",
        "'is_valid',\n",
        "'first_name',\n",
        "'lastName',\n",
        "'score_1',\n",
        "'user_id',\n",
        "'MAX_SPEED',\n",
        "'min_value',\n",
        "'averageGrade',\n",
        "'file_path',\n",
        "'product_price',\n",
        "'isLoggedIn',\n",
        "'phone_number',\n",
        "'number_of_students',\n",
        "'currentYear',\n",
        "'result_list'."
      ],
      "metadata": {
        "id": "mFI90cXF6zXw"
      }
    },
    {
      "cell_type": "markdown",
      "source": [
        "## Invalid variables"
      ],
      "metadata": {
        "id": "I6n6QaUA7lga"
      }
    },
    {
      "cell_type": "markdown",
      "source": [
        "In Python, variable names cannot start with a number, contain spaces, or use special characters other than the underscore '_'. Additionally, you can't use Python reserved keywords as variable names."
      ],
      "metadata": {
        "id": "eTtlMcbq7vPh"
      }
    },
    {
      "cell_type": "code",
      "source": [
        "#Invalid Variables\n",
        "2nd_place = 'Ryuk'\n",
        "first-name = 'Light'\n",
        "print(2nd_place)\n",
        "print(first-name)"
      ],
      "metadata": {
        "colab": {
          "base_uri": "https://localhost:8080/",
          "height": 106
        },
        "id": "RkSLh72D-Sc4",
        "outputId": "52ef3c26-cae5-4b83-9de2-a516483fef04"
      },
      "execution_count": 11,
      "outputs": [
        {
          "output_type": "error",
          "ename": "SyntaxError",
          "evalue": "invalid decimal literal (<ipython-input-11-378d0be90e14>, line 2)",
          "traceback": [
            "\u001b[0;36m  File \u001b[0;32m\"<ipython-input-11-378d0be90e14>\"\u001b[0;36m, line \u001b[0;32m2\u001b[0m\n\u001b[0;31m    2nd_place = 'Ryuk'\u001b[0m\n\u001b[0m    ^\u001b[0m\n\u001b[0;31mSyntaxError\u001b[0m\u001b[0;31m:\u001b[0m invalid decimal literal\n"
          ]
        }
      ]
    },
    {
      "cell_type": "markdown",
      "source": [
        "Examples:"
      ],
      "metadata": {
        "id": "1RYagiYv-Psf"
      }
    },
    {
      "cell_type": "markdown",
      "source": [
        "'2nd_place' (Starts with a number),\n",
        "'first-name' (Contains a hyphen),\n",
        "'total amount' (Contains a space),\n",
        "'@username' (Contains a special character @),\n",
        "'#value' (Contains a special character #),\n",
        "'class' (Uses a reserved keyword in Python),\n",
        "'first.name' (Contains a period),\n",
        "'user#balance' (Contains a special character $),\n",
        "'total%' (Contains a special character %),\n",
        "'123abc' (Starts with a number),\n",
        "'final!result' (Contains a special character !),\n",
        "'*item' (Contains a special character *),\n",
        "'&count' (Contains a special character &),\n",
        "'new#value' (Contains a special character #),\n",
        "'None' (Uses a reserved keyword in Python),\n",
        "'user-id' (Contains a hyphen),\n",
        "'def' (Uses a reserved keyword in Python),\n",
        "'print' (While technically allowed, using it can overwrite the built-in print 'function, which is bad practice),\n",
        "'for' (Uses a reserved keyword in Python),\n",
        "'pass' (Uses a reserved keyword in Python)."
      ],
      "metadata": {
        "id": "LXyOmpKr8NcI"
      }
    }
  ]
}