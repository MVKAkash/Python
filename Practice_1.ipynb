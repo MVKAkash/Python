{
  "nbformat": 4,
  "nbformat_minor": 0,
  "metadata": {
    "colab": {
      "provenance": []
    },
    "kernelspec": {
      "name": "python3",
      "display_name": "Python 3"
    },
    "language_info": {
      "name": "python"
    }
  },
  "cells": [
    {
      "cell_type": "code",
      "source": [
        "# 1 code to find the largest of three numbers entered by the user\n",
        "a = int(input(\"Enter the first number: \"))\n",
        "b = int(input(\"Enter the second number: \"))\n",
        "c = int(input(\"Enter the third number: \"))\n",
        "if a > b and a > c:\n",
        "    print(a, \"is the largest number\")\n",
        "elif b > a and b > c:\n",
        "    print(b, \"is the largest number\")\n",
        "else:\n",
        "    print(c, \"is the largest number\")"
      ],
      "metadata": {
        "colab": {
          "base_uri": "https://localhost:8080/"
        },
        "id": "L5xqEkZJEr4J",
        "outputId": "c0b0056b-7ec6-48bc-8de4-f330e6f90d15"
      },
      "execution_count": null,
      "outputs": [
        {
          "output_type": "stream",
          "name": "stdout",
          "text": [
            "Enter the first number: 10\n",
            "Enter the second number: 32\n",
            "Enter the third number: 12\n",
            "32 is the largest number\n"
          ]
        }
      ]
    },
    {
      "cell_type": "code",
      "source": [
        "# 2 if number is divisible by both 5 and 11 or not\n",
        "a = int(input(\"Enter number:\"))\n",
        "print(a)\n",
        "if a % 5 == 0 and a % 11 == 0:\n",
        "  print(\"divisible by both 5 and 11\")\n",
        "else:\n",
        "  print(\"not divisible by both 5 and 11\")"
      ],
      "metadata": {
        "colab": {
          "base_uri": "https://localhost:8080/"
        },
        "id": "9wxkfRGtFXPg",
        "outputId": "aba4c1a0-1f10-4691-ee10-9b730b14c8cc"
      },
      "execution_count": null,
      "outputs": [
        {
          "output_type": "stream",
          "name": "stdout",
          "text": [
            "Enter number:110\n",
            "110\n",
            "divisible by both 5 and 11\n"
          ]
        }
      ]
    },
    {
      "cell_type": "code",
      "source": [
        "#3 if character is alphabet or digit or special character\n",
        "character = input(\"Enter a character: \")\n",
        "if character.isalpha():\n",
        "  print(\"Alphabet\")\n",
        "elif character.isdigit():\n",
        "  print(\"Digit\")\n",
        "else:\n",
        "  print(\"Special character\")"
      ],
      "metadata": {
        "colab": {
          "base_uri": "https://localhost:8080/"
        },
        "id": "7t3ACFcAU3O3",
        "outputId": "c8a1249e-7f6d-4ca9-fdd5-3f9bf1259bc5"
      },
      "execution_count": null,
      "outputs": [
        {
          "output_type": "stream",
          "name": "stdout",
          "text": [
            "Enter a character: $\n",
            "Special character\n"
          ]
        }
      ]
    },
    {
      "cell_type": "code",
      "source": [
        "# 4 to check if 3 sides can form a valid triangle\n",
        "a = int(input(\"Enter the a: \"))\n",
        "b = int(input(\"Enter the b: \"))\n",
        "c = int(input(\"Enter the c: \"))\n",
        "if a+b > c and a+c > b and b+c > a:\n",
        "  print(\"Triangle is valid\")\n",
        "else:\n",
        "  print(\"Triangle is not valid\")"
      ],
      "metadata": {
        "colab": {
          "base_uri": "https://localhost:8080/"
        },
        "id": "RVvjRrhQF3q8",
        "outputId": "b7153699-591a-4d1d-8099-8632e60ef794"
      },
      "execution_count": null,
      "outputs": [
        {
          "output_type": "stream",
          "name": "stdout",
          "text": [
            "Enter the a: 11\n",
            "Enter the b: 12\n",
            "Enter the c: 13\n",
            "Triangle is valid\n"
          ]
        }
      ]
    },
    {
      "cell_type": "code",
      "source": [
        "#5 to find the absolute value of a number\n",
        "a = int(input(\"Enter the number: \"))\n",
        "if a < 0:\n",
        "  print(-a)\n",
        "else:\n",
        "  print(a)"
      ],
      "metadata": {
        "colab": {
          "base_uri": "https://localhost:8080/"
        },
        "id": "mLgPnIPvTCru",
        "outputId": "1ec63119-61fa-41b1-b5cf-4c9e33ac33c4"
      },
      "execution_count": 2,
      "outputs": [
        {
          "output_type": "stream",
          "name": "stdout",
          "text": [
            "Enter the number: -72\n",
            "72\n"
          ]
        }
      ]
    },
    {
      "cell_type": "code",
      "source": [
        "# 6 to determine whether given year is century year or not\n",
        "year = int(input(\"Enter year:\"))\n",
        "if year % 100 == 0:\n",
        "  print(\"Century year\")\n",
        "else:\n",
        "  print(\"Not a century year\")"
      ],
      "metadata": {
        "colab": {
          "base_uri": "https://localhost:8080/"
        },
        "id": "eAJDV8ReG-nD",
        "outputId": "38708be2-af62-497e-9c9c-087fea8f3deb"
      },
      "execution_count": null,
      "outputs": [
        {
          "output_type": "stream",
          "name": "stdout",
          "text": [
            "Enter year:2000\n",
            "Century year\n"
          ]
        }
      ]
    },
    {
      "cell_type": "code",
      "source": [
        "# 7 bmi\n",
        "weight = float(input(\"Enter weight in kg: \"))\n",
        "height = float(input(\"Enter height in meters: \"))\n",
        "bmi = weight / (height ** 2)\n",
        "if bmi < 18.5:\n",
        "  print(\"Underweight\")\n",
        "elif bmi >= 18.5 and bmi <= 24.9:\n",
        "  print(\"Normal weight\")\n",
        "elif bmi >= 25 and bmi <= 29.9:\n",
        "  print(\"Overweight\")\n",
        "else:\n",
        "  print(\"Obese\")"
      ],
      "metadata": {
        "colab": {
          "base_uri": "https://localhost:8080/"
        },
        "id": "eMmiTsGJIMVV",
        "outputId": "7315c2ea-5455-41d6-d60d-ebada80607d1"
      },
      "execution_count": null,
      "outputs": [
        {
          "output_type": "stream",
          "name": "stdout",
          "text": [
            "Enter weight in kg: 75\n",
            "Enter height in meters: 1.75\n",
            "Normal weight\n"
          ]
        }
      ]
    },
    {
      "cell_type": "code",
      "source": [
        "#8 if uppercase or lowercase character\n",
        "char = input(\"Enter a character: \")\n",
        "if char.isupper():\n",
        "  print(\"Uppercase\")\n",
        "else:\n",
        "  print(\"Lowercase\")"
      ],
      "metadata": {
        "id": "p86RS_UTIPko",
        "colab": {
          "base_uri": "https://localhost:8080/"
        },
        "outputId": "91bf58d7-c5ba-470e-f60c-a6928343131a"
      },
      "execution_count": null,
      "outputs": [
        {
          "output_type": "stream",
          "name": "stdout",
          "text": [
            "Enter a character: p\n",
            "Lowercase\n"
          ]
        }
      ]
    },
    {
      "cell_type": "code",
      "source": [
        "#9 to classify a number as small, medium, or large based on given thresholds.\n",
        "number = int(input(\"Enter a number: \"))\n",
        "if number < 10:\n",
        "  print(\"Small\")\n",
        "elif number >= 10 and number <= 100:\n",
        "  print(\"Medium\")\n",
        "else:\n",
        "  print(\"Large\")"
      ],
      "metadata": {
        "colab": {
          "base_uri": "https://localhost:8080/"
        },
        "id": "IcrlYRwITgaP",
        "outputId": "6f9f34cb-f3d7-45e7-e052-5e2b23d04234"
      },
      "execution_count": 3,
      "outputs": [
        {
          "output_type": "stream",
          "name": "stdout",
          "text": [
            "Enter a number: 99\n",
            "Medium\n"
          ]
        }
      ]
    },
    {
      "cell_type": "code",
      "source": [
        "#10 equilatrel or iscseles or scalene\n",
        "a = int(input(\"Enter length of a: \"))\n",
        "b = int(input(\"Enter length of b: \"))\n",
        "c = int(input(\"Enter length of c: \"))\n",
        "if a == b == c:\n",
        "  print(\"Equilateral triangle\")\n",
        "elif a == b or b == c or a == c:\n",
        "  print(\"Isosceles triangle\")\n",
        "else:\n",
        "  print(\"Scalene triangle\")"
      ],
      "metadata": {
        "colab": {
          "base_uri": "https://localhost:8080/"
        },
        "id": "U34DaKgRQSTd",
        "outputId": "eb090dc0-99f2-46f9-ee99-df5753f3d52d"
      },
      "execution_count": null,
      "outputs": [
        {
          "output_type": "stream",
          "name": "stdout",
          "text": [
            "Enter length of a: 12\n",
            "Enter length of b: 12\n",
            "Enter length of c: 12\n",
            "Equilateral triangle\n"
          ]
        }
      ]
    },
    {
      "cell_type": "code",
      "source": [
        "#to check if a number is a palindrome.\n",
        "character = input(\"enter :\")\n",
        "if character == character[::-1]:\n",
        "  print(\"palindrome\")\n",
        "else:\n",
        "  print(\"not palindrome\")"
      ],
      "metadata": {
        "colab": {
          "base_uri": "https://localhost:8080/"
        },
        "id": "9t9IJrNhTvPp",
        "outputId": "869028f8-090e-437b-b016-f784407ce497"
      },
      "execution_count": 4,
      "outputs": [
        {
          "output_type": "stream",
          "name": "stdout",
          "text": [
            "enter :12321\n",
            "palindrome\n"
          ]
        }
      ]
    },
    {
      "cell_type": "code",
      "source": [
        "#12 to find whether the angle is acute or right or obtuse\n",
        "a = int(input(\"Enter angle a: \"))\n",
        "if a < 90:\n",
        "  print(\"Acute triangle\")\n",
        "elif a == 90:\n",
        "  print(\"Right triangle\")\n",
        "else:\n",
        "  print(\"Obtuse triangle\")"
      ],
      "metadata": {
        "colab": {
          "base_uri": "https://localhost:8080/"
        },
        "id": "Tmc1mt4ySu_c",
        "outputId": "bf54ee77-1535-485f-ec52-2b9b8bd901ca"
      },
      "execution_count": null,
      "outputs": [
        {
          "output_type": "stream",
          "name": "stdout",
          "text": [
            "Enter angle a:90\n",
            "Right triangle\n"
          ]
        }
      ]
    },
    {
      "cell_type": "code",
      "source": [
        "#13 sum of 2 numbers is equal to 3rd number or not\n",
        "a = int(input(\"Enter first number: \"))\n",
        "b = int(input(\"Enter second number: \"))\n",
        "c = int(input(\"Enter third number: \"))\n",
        "if a + b == c:\n",
        "  print(\"Sum of two numbers is equal to third number\")\n",
        "else:\n",
        "  print(\"Sum of two numbers is not equal to third number\")"
      ],
      "metadata": {
        "colab": {
          "base_uri": "https://localhost:8080/"
        },
        "id": "ZyJcrCN9TfuJ",
        "outputId": "c9acdcca-132e-4fbb-eef5-9176b2c5d638"
      },
      "execution_count": null,
      "outputs": [
        {
          "output_type": "stream",
          "name": "stdout",
          "text": [
            "Enter first number: 1\n",
            "Enter second number: 2\n",
            "Enter third number: 3\n",
            "Sum of two numbers is equal to third number\n"
          ]
        }
      ]
    }
  ]
}