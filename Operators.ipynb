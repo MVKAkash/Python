{
  "nbformat": 4,
  "nbformat_minor": 0,
  "metadata": {
    "colab": {
      "provenance": []
    },
    "kernelspec": {
      "name": "python3",
      "display_name": "Python 3"
    },
    "language_info": {
      "name": "python"
    }
  },
  "cells": [
    {
      "cell_type": "markdown",
      "source": [
        "# **Operators in Python**"
      ],
      "metadata": {
        "id": "id046FQyJ5vT"
      }
    },
    {
      "cell_type": "markdown",
      "source": [
        "In Python, operators are special symbols or keywords that are used to perform operations on values or variables. These operations can involve arithmetic, comparison, logical evaluations, and more. Operators are essential in writing expressions that produce specific results.\n",
        "\n",
        "Here's a breakdown of the different types of operators in Python:\n",
        "\n",
        "\n",
        "\n",
        "*   Arithmetic Operators\n",
        "*   Assignment Operators\n",
        "*   Comparison Operators\n",
        "*   Logical Operators\n",
        "*   Identity Operators\n",
        "*   Membership Operators\n",
        "*   Bitwise Operators\n",
        "\n",
        "\n",
        "\n",
        "\n",
        "\n"
      ],
      "metadata": {
        "id": "pZmJOPPUJT8N"
      }
    },
    {
      "cell_type": "markdown",
      "source": [
        "## 1. Arithmetic Operators"
      ],
      "metadata": {
        "id": "VmjLWpqOKH2K"
      }
    },
    {
      "cell_type": "markdown",
      "source": [
        "These operators are used to perform mathematical operations."
      ],
      "metadata": {
        "id": "XbWr8V5lKxAh"
      }
    },
    {
      "cell_type": "markdown",
      "source": [
        "\n",
        "*    (+) : Addition (e.g., a + b)\n",
        "*   (-) : Subtraction (e.g., a - b)\n",
        "*   (*) : Multiplication (e.g., a * b)\n",
        "*   (/) : Division (e.g., a / b)\n",
        "*   (//) : Floor division (division that results in the floor value of the quotient) (e.g., a // b)\n",
        "*   (**) : Exponentiation (e.g., a ** b for a raised to the power b)\n",
        "*   (%) : Modulus (remainder of division) (e.g., a % b)\n",
        "\n",
        "\n",
        "\n",
        "\n",
        "\n",
        "\n",
        "\n"
      ],
      "metadata": {
        "id": "j3c4Gz4oK0xf"
      }
    },
    {
      "cell_type": "markdown",
      "source": [
        "Examples for arithmetic operator"
      ],
      "metadata": {
        "id": "FzLDX4b-S322"
      }
    },
    {
      "cell_type": "code",
      "source": [
        "# Addition(+)\n",
        "\n",
        "print(5 + 3)         # 8\n",
        "print(10 + 20)       # 30\n",
        "print(-7 + 2)        # -5\n",
        "print(3.5 + 4.5)     # 8.0\n",
        "print(0 + 15)        # 15\n",
        "print(99 + 1)        # 100\n",
        "print(-10 + (-5))    # -15\n",
        "print(100 + 250)     # 350\n",
        "print(0.1 + 0.2)     # 0.30000000000000004\n",
        "print(1000 + 1)      # 1001"
      ],
      "metadata": {
        "colab": {
          "base_uri": "https://localhost:8080/"
        },
        "id": "iuAks4YrRXN2",
        "outputId": "ef226c2f-fc4e-4867-9f0b-efaa508b5bcc"
      },
      "execution_count": null,
      "outputs": [
        {
          "output_type": "stream",
          "name": "stdout",
          "text": [
            "8\n",
            "30\n",
            "-5\n",
            "8.0\n",
            "15\n",
            "100\n",
            "-15\n",
            "350\n",
            "0.30000000000000004\n",
            "1001\n"
          ]
        }
      ]
    },
    {
      "cell_type": "code",
      "source": [
        "# Substraction(-)\n",
        "\n",
        "print(10 - 5)        # 5\n",
        "print(20 - 30)       # -10\n",
        "print(-7 - 2)        # -9\n",
        "print(3.5 - 1.5)     # 2.0\n",
        "print(0 - 15)        # -15\n",
        "print(100 - 50)      # 50\n",
        "print(-10 - (-5))    # -5\n",
        "print(1000 - 250)    # 750\n",
        "print(0.1 - 0.05)    # 0.05\n",
        "print(500 - 499)     # 1"
      ],
      "metadata": {
        "colab": {
          "base_uri": "https://localhost:8080/"
        },
        "id": "53itqVlFRtk2",
        "outputId": "c49ebbb0-89bf-43a8-a942-79b8dd2fa483"
      },
      "execution_count": null,
      "outputs": [
        {
          "output_type": "stream",
          "name": "stdout",
          "text": [
            "5\n",
            "-10\n",
            "-9\n",
            "2.0\n",
            "-15\n",
            "50\n",
            "-5\n",
            "750\n",
            "0.05\n",
            "1\n"
          ]
        }
      ]
    },
    {
      "cell_type": "code",
      "source": [
        "# Multiplication(*)\n",
        "\n",
        "print(5 * 3)         # 15\n",
        "print(10 * 20)       # 200\n",
        "print(-7 * 2)        # -14\n",
        "print(3.5 * 2.5)     # 8.75\n",
        "print(0 * 15)        # 0\n",
        "print(99 * 1)        # 99\n",
        "print(-10 * (-5))    # 50\n",
        "print(100 * 250)     # 25000\n",
        "print(0.1 * 0.2)     # 0.02\n",
        "print(1000 * 0.1)    # 100.0"
      ],
      "metadata": {
        "colab": {
          "base_uri": "https://localhost:8080/"
        },
        "id": "lgLdcQDKR2VV",
        "outputId": "4048b689-4111-4d49-9d72-6854b382a23e"
      },
      "execution_count": null,
      "outputs": [
        {
          "output_type": "stream",
          "name": "stdout",
          "text": [
            "15\n",
            "200\n",
            "-14\n",
            "8.75\n",
            "0\n",
            "99\n",
            "50\n",
            "25000\n",
            "0.020000000000000004\n",
            "100.0\n"
          ]
        }
      ]
    },
    {
      "cell_type": "code",
      "source": [
        "# Division(/)\n",
        "\n",
        "print(10 / 2)        # 5.0\n",
        "print(20 / 4)        # 5.0\n",
        "print(-15 / 3)       # -5.0\n",
        "print(7.5 / 2.5)     # 3.0\n",
        "print(1 / 2)         # 0.5\n",
        "print(99 / 3)        # 33.0\n",
        "print(-10 / (-5))    # 2.0\n",
        "print(1000 / 250)    # 4.0\n",
        "print(0.1 / 0.2)     # 0.5\n",
        "print(5 / 2)         # 2.5"
      ],
      "metadata": {
        "colab": {
          "base_uri": "https://localhost:8080/"
        },
        "id": "lTbOEnTCSC8M",
        "outputId": "88a4dd38-1ae3-4faf-a9bd-351945e93507"
      },
      "execution_count": null,
      "outputs": [
        {
          "output_type": "stream",
          "name": "stdout",
          "text": [
            "5.0\n",
            "5.0\n",
            "-5.0\n",
            "3.0\n",
            "0.5\n",
            "33.0\n",
            "2.0\n",
            "4.0\n",
            "0.5\n",
            "2.5\n"
          ]
        }
      ]
    },
    {
      "cell_type": "code",
      "source": [
        "# Floor Division(//)\n",
        "\n",
        "print(10 // 3)       # 3\n",
        "print(20 // 7)       # 2\n",
        "print(15 // 4)       # 3\n",
        "print(7 // 2)        # 3\n",
        "print(99 // 5)       # 19\n",
        "print(-10 // 3)      # -4\n",
        "print(100 // 250)    # 0\n",
        "print(12 // 6)       # 2\n",
        "print(8 // 3)        # 2\n",
        "print(5 // 2)        # 2"
      ],
      "metadata": {
        "colab": {
          "base_uri": "https://localhost:8080/"
        },
        "id": "YctmGoJMSJS_",
        "outputId": "529302e3-281f-49b9-f79c-4334a4fd0f66"
      },
      "execution_count": null,
      "outputs": [
        {
          "output_type": "stream",
          "name": "stdout",
          "text": [
            "3\n",
            "2\n",
            "3\n",
            "3\n",
            "19\n",
            "-4\n",
            "0\n",
            "2\n",
            "2\n",
            "2\n"
          ]
        }
      ]
    },
    {
      "cell_type": "code",
      "source": [
        "# Exponentiation (**)\n",
        "\n",
        "print(2 ** 3)        # 8\n",
        "print(3 ** 2)        # 9\n",
        "print(5 ** 3)        # 125\n",
        "print(10 ** 2)       # 100\n",
        "print(2 ** 10)       # 1024\n",
        "print(7 ** 4)        # 2401\n",
        "print(4 ** 3)        # 64\n",
        "print(9 ** 0.5)      # 3.0\n",
        "print(8 ** 1)        # 8\n",
        "print(5 ** 0)        # 1"
      ],
      "metadata": {
        "colab": {
          "base_uri": "https://localhost:8080/"
        },
        "id": "TkJG79_OSSoB",
        "outputId": "d5258333-2e1c-44de-aad6-c2483d730da9"
      },
      "execution_count": null,
      "outputs": [
        {
          "output_type": "stream",
          "name": "stdout",
          "text": [
            "8\n",
            "9\n",
            "125\n",
            "100\n",
            "1024\n",
            "2401\n",
            "64\n",
            "3.0\n",
            "8\n",
            "1\n"
          ]
        }
      ]
    },
    {
      "cell_type": "code",
      "source": [
        "# Modulus (%)\n",
        "\n",
        "print(10 % 3)        # 1\n",
        "print(20 % 7)        # 6\n",
        "print(15 % 4)        # 3\n",
        "print(7 % 2)         # 1\n",
        "print(99 % 5)        # 4\n",
        "print(-10 % 3)       # 2\n",
        "print(100 % 250)     # 100\n",
        "print(12 % 6)        # 0\n",
        "print(8 % 3)         # 2\n",
        "print(5 % 2)         # 1"
      ],
      "metadata": {
        "colab": {
          "base_uri": "https://localhost:8080/"
        },
        "id": "-Mfb7xdaSg3n",
        "outputId": "5a82167f-a756-4715-8829-e73e98b6b902"
      },
      "execution_count": null,
      "outputs": [
        {
          "output_type": "stream",
          "name": "stdout",
          "text": [
            "1\n",
            "6\n",
            "3\n",
            "1\n",
            "4\n",
            "2\n",
            "100\n",
            "0\n",
            "2\n",
            "1\n"
          ]
        }
      ]
    },
    {
      "cell_type": "markdown",
      "source": [
        "## 2. Assignment Operators"
      ],
      "metadata": {
        "id": "aJ84ToOGMVC_"
      }
    },
    {
      "cell_type": "markdown",
      "source": [
        "These operators are used to assign values to variables."
      ],
      "metadata": {
        "id": "P1oTbHEzMc0K"
      }
    },
    {
      "cell_type": "markdown",
      "source": [
        "\n",
        "\n",
        "*   (=) : Simple assignment (e.g., a = 5)\n",
        "*   (+=) : Add and assign (e.g., a += 5 which is equivalent to a = a + 5)\n",
        "\n",
        "*   (-=) : Subtract and assign (e.g., a -= 5 which is equivalent to a = a - 5)\n",
        "*   (*=) : Multiply and assign (e.g., a *= 5 which is equivalent to a = a * 5)\n",
        "\n",
        "*   (/=) : Divide and assign (e.g., a /= 5 which is equivalent to a = a / 5)\n",
        "*   (%=) : Modulus and assign (e.g., a %= 5 which is equivalent to a = a % 5)\n",
        "\n",
        "*   (//=) : Floor divide and assign (e.g., a //= 5 which is equivalent to a = a // 5)\n",
        "*   (**=) : Exponentiate and assign (e.g., a **= 5 which is equivalent to a = a ** 5)\n",
        "\n",
        "\n",
        "\n",
        "\n",
        "\n",
        "\n",
        "\n"
      ],
      "metadata": {
        "id": "OQaignyAMkJh"
      }
    },
    {
      "cell_type": "markdown",
      "source": [
        "Examples for assignment operators"
      ],
      "metadata": {
        "id": "jfBCEI9MWDiK"
      }
    },
    {
      "cell_type": "code",
      "source": [
        "# Assignment (=)\n",
        "\n",
        "a = 5\n",
        "print(a)  # 5\n",
        "\n",
        "b = 10\n",
        "print(b)  # 10\n",
        "\n",
        "c = -7\n",
        "print(c)  # -7\n",
        "\n",
        "d = 3.5\n",
        "print(d)  # 3.5\n",
        "\n",
        "e = 0\n",
        "print(e)  # 0\n",
        "\n",
        "f = 99\n",
        "print(f)  # 99\n",
        "\n",
        "g = -10\n",
        "print(g)  # -10\n",
        "\n",
        "h = 1000\n",
        "print(h)  # 1000\n",
        "\n",
        "i = 0.1\n",
        "print(i)  # 0.1\n",
        "\n",
        "j = 500\n",
        "print(j)  # 500\n"
      ],
      "metadata": {
        "colab": {
          "base_uri": "https://localhost:8080/"
        },
        "id": "N7uNZ-UxS0vO",
        "outputId": "f0c23abf-4fa9-4163-a4b1-c4a5055f22c1"
      },
      "execution_count": null,
      "outputs": [
        {
          "output_type": "stream",
          "name": "stdout",
          "text": [
            "5\n",
            "10\n",
            "-7\n",
            "3.5\n",
            "0\n",
            "99\n",
            "-10\n",
            "1000\n",
            "0.1\n",
            "500\n"
          ]
        }
      ]
    },
    {
      "cell_type": "code",
      "source": [
        "# Add and Assign (+=)\n",
        "\n",
        "a = 5\n",
        "a += 3\n",
        "print(a)  # 8\n",
        "\n",
        "b = 10\n",
        "b += 20\n",
        "print(b)  # 30\n",
        "\n",
        "c = -7\n",
        "c += 2\n",
        "print(c)  # -5\n",
        "\n",
        "d = 3.5\n",
        "d += 1.5\n",
        "print(d)  # 5.0\n",
        "\n",
        "e = 0\n",
        "e += 15\n",
        "print(e)  # 15\n",
        "\n",
        "f = 99\n",
        "f += 1\n",
        "print(f)  # 100\n",
        "\n",
        "g = -10\n",
        "g += -5\n",
        "print(g)  # -15\n",
        "\n",
        "h = 1000\n",
        "h += 250\n",
        "print(h)  # 1250\n",
        "\n",
        "i = 0.1\n",
        "i += 0.2\n",
        "print(i)  # 0.30000000000000004\n",
        "\n",
        "j = 500\n",
        "j += 499\n",
        "print(j)  # 999\n"
      ],
      "metadata": {
        "colab": {
          "base_uri": "https://localhost:8080/"
        },
        "id": "MUoIckOZTZ_g",
        "outputId": "3feb4bcf-1278-45b0-d0dd-6cd3ce6b150a"
      },
      "execution_count": null,
      "outputs": [
        {
          "output_type": "stream",
          "name": "stdout",
          "text": [
            "8\n",
            "30\n",
            "-5\n",
            "5.0\n",
            "15\n",
            "100\n",
            "-15\n",
            "1250\n",
            "0.30000000000000004\n",
            "999\n"
          ]
        }
      ]
    },
    {
      "cell_type": "code",
      "source": [
        "# Subtract and Assign (-=)\n",
        "\n",
        "a = 5\n",
        "a -= 3\n",
        "print(a)  # 2\n",
        "\n",
        "b = 10\n",
        "b -= 20\n",
        "print(b)  # -10\n",
        "\n",
        "c = -7\n",
        "c -= 2\n",
        "print(c)  # -9\n",
        "\n",
        "d = 3.5\n",
        "d -= 1.5\n",
        "print(d)  # 2.0\n",
        "\n",
        "e = 0\n",
        "e -= 15\n",
        "print(e)  # -15\n",
        "\n",
        "f = 99\n",
        "f -= 1\n",
        "print(f)  # 98\n",
        "\n",
        "g = -10\n",
        "g -= -5\n",
        "print(g)  # -5\n",
        "\n",
        "h = 1000\n",
        "h -= 250\n",
        "print(h)  # 750\n",
        "\n",
        "i = 0.1\n",
        "i -= 0.05\n",
        "print(i)  # 0.05\n",
        "\n",
        "j = 500\n",
        "j -= 499\n",
        "print(j)  # 1\n"
      ],
      "metadata": {
        "colab": {
          "base_uri": "https://localhost:8080/"
        },
        "id": "rKgwv4KWTi4G",
        "outputId": "614fe0d6-75e6-4b41-f40c-c04f9523d187"
      },
      "execution_count": null,
      "outputs": [
        {
          "output_type": "stream",
          "name": "stdout",
          "text": [
            "2\n",
            "-10\n",
            "-9\n",
            "2.0\n",
            "-15\n",
            "98\n",
            "-5\n",
            "750\n",
            "0.05\n",
            "1\n"
          ]
        }
      ]
    },
    {
      "cell_type": "code",
      "source": [
        "# Multiply and Assign (*=)\n",
        "\n",
        "a = 5\n",
        "a *= 3\n",
        "print(a)  # 15\n",
        "\n",
        "b = 10\n",
        "b *= 20\n",
        "print(b)  # 200\n",
        "\n",
        "c = -7\n",
        "c *= 2\n",
        "print(c)  # -14\n",
        "\n",
        "d = 3.5\n",
        "d *= 2.5\n",
        "print(d)  # 8.75\n",
        "\n",
        "e = 0\n",
        "e *= 15\n",
        "print(e)  # 0\n",
        "\n",
        "f = 99\n",
        "f *= 1\n",
        "print(f)  # 99\n",
        "\n",
        "g = -10\n",
        "g *= -5\n",
        "print(g)  # 50\n",
        "\n",
        "h = 100\n",
        "h *= 250\n",
        "print(h)  # 25000\n",
        "\n",
        "i = 0.1\n",
        "i *= 0.2\n",
        "print(i)  # 0.020000000000000004\n",
        "\n",
        "j = 1000\n",
        "j *= 0.1\n",
        "print(j)  # 100.0\n"
      ],
      "metadata": {
        "colab": {
          "base_uri": "https://localhost:8080/"
        },
        "id": "bSeVS9eoTpuV",
        "outputId": "56e351a0-ba15-48e3-eb9a-fd701f246445"
      },
      "execution_count": null,
      "outputs": [
        {
          "output_type": "stream",
          "name": "stdout",
          "text": [
            "15\n",
            "200\n",
            "-14\n",
            "8.75\n",
            "0\n",
            "99\n",
            "50\n",
            "25000\n",
            "0.020000000000000004\n",
            "100.0\n"
          ]
        }
      ]
    },
    {
      "cell_type": "code",
      "source": [
        "# Divide and Assign (/=)\n",
        "\n",
        "a = 10\n",
        "a /= 2\n",
        "print(a)  # 5.0\n",
        "\n",
        "b = 20\n",
        "b /= 4\n",
        "print(b)  # 5.0\n",
        "\n",
        "c = -15\n",
        "c /= 3\n",
        "print(c)  # -5.0\n",
        "\n",
        "d = 7.5\n",
        "d /= 2.5\n",
        "print(d)  # 3.0\n",
        "\n",
        "e = 1\n",
        "e /= 2\n",
        "print(e)  # 0.5\n",
        "\n",
        "f = 99\n",
        "f /= 3\n",
        "print(f)  # 33.0\n",
        "\n",
        "g = -10\n",
        "g /= -5\n",
        "print(g)  # 2.0\n",
        "\n",
        "h = 1000\n",
        "h /= 250\n",
        "print(h)  # 4.0\n",
        "\n",
        "i = 0.1\n",
        "i /= 0.2\n",
        "print(i)  # 0.5\n",
        "\n",
        "j = 5\n",
        "j /= 2\n",
        "print(j)  # 2.5\n"
      ],
      "metadata": {
        "colab": {
          "base_uri": "https://localhost:8080/"
        },
        "id": "l3nOmAqxTyZw",
        "outputId": "fa3d08a9-ffb5-47f8-cc6d-262ffee3c9e5"
      },
      "execution_count": null,
      "outputs": [
        {
          "output_type": "stream",
          "name": "stdout",
          "text": [
            "5.0\n",
            "5.0\n",
            "-5.0\n",
            "3.0\n",
            "0.5\n",
            "33.0\n",
            "2.0\n",
            "4.0\n",
            "0.5\n",
            "2.5\n"
          ]
        }
      ]
    },
    {
      "cell_type": "code",
      "source": [
        "# Floor Divide and Assign (//=)\n",
        "\n",
        "a = 10\n",
        "a //= 3\n",
        "print(a)  # 3\n",
        "\n",
        "b = 20\n",
        "b //= 7\n",
        "print(b)  # 2\n",
        "\n",
        "c = 15\n",
        "c //= 4\n",
        "print(c)  # 3\n",
        "\n",
        "d = 7\n",
        "d //= 2\n",
        "print(d)  # 3\n",
        "\n",
        "e = 99\n",
        "e //= 5\n",
        "print(e)  # 19\n",
        "\n",
        "f = -10\n",
        "f //= 3\n",
        "print(f)  # -4\n",
        "\n",
        "g = 100\n",
        "g //= 250\n",
        "print(g)  # 0\n",
        "\n",
        "h = 12\n",
        "h //= 6\n",
        "print(h)  # 2\n",
        "\n",
        "i = 8\n",
        "i //= 3\n",
        "print(i)  # 2\n",
        "\n",
        "j = 5\n",
        "j //= 2\n",
        "print(j)  # 2\n"
      ],
      "metadata": {
        "colab": {
          "base_uri": "https://localhost:8080/"
        },
        "id": "3JNvJ4ncT9wJ",
        "outputId": "4e85a43c-bbb0-4c80-d157-d20a51b58dd6"
      },
      "execution_count": null,
      "outputs": [
        {
          "output_type": "stream",
          "name": "stdout",
          "text": [
            "3\n",
            "2\n",
            "3\n",
            "3\n",
            "19\n",
            "-4\n",
            "0\n",
            "2\n",
            "2\n",
            "2\n"
          ]
        }
      ]
    },
    {
      "cell_type": "code",
      "source": [
        "# Exponentiate and Assign (**=)\n",
        "\n",
        "a = 2\n",
        "a **= 3\n",
        "print(a)  # 8\n",
        "\n",
        "b = 3\n",
        "b **= 2\n",
        "print(b)  # 9\n",
        "\n",
        "c = 5\n",
        "c **= 3\n",
        "print(c)  # 125\n",
        "\n",
        "d = 10\n",
        "d **= 2\n",
        "print(d)  # 100\n",
        "\n",
        "e = 2\n",
        "e **= 10\n",
        "print(e)  # 1024\n",
        "\n",
        "f = 7\n",
        "f **= 4\n",
        "print(f)  # 2401\n",
        "\n",
        "g = 4\n",
        "g **= 3\n",
        "print(g)  # 64\n",
        "\n",
        "h = 9\n",
        "h **= 0.5\n",
        "print(h)  # 3.0\n",
        "\n",
        "i = 8\n",
        "i **= 1\n",
        "print(i)  # 8\n",
        "\n",
        "j = 5\n",
        "j **= 0\n",
        "print(j)  # 1\n"
      ],
      "metadata": {
        "colab": {
          "base_uri": "https://localhost:8080/"
        },
        "id": "F6Ps1_65UET0",
        "outputId": "5d059a93-873b-48fa-f7a5-96a7d0a53773"
      },
      "execution_count": null,
      "outputs": [
        {
          "output_type": "stream",
          "name": "stdout",
          "text": [
            "8\n",
            "9\n",
            "125\n",
            "100\n",
            "1024\n",
            "2401\n",
            "64\n",
            "3.0\n",
            "8\n",
            "1\n"
          ]
        }
      ]
    },
    {
      "cell_type": "code",
      "source": [
        "# Modulus and Assign (%=)\n",
        "\n",
        "a = 10\n",
        "a %= 3\n",
        "print(a)  # 1\n",
        "\n",
        "b = 20\n",
        "b %= 7\n",
        "print(b)  # 6\n",
        "\n",
        "c = 15\n",
        "c %= 4\n",
        "print(c)  # 3\n",
        "\n",
        "d = 7\n",
        "d %= 2\n",
        "print(d)  # 1\n",
        "\n",
        "e = 99\n",
        "e %= 5\n",
        "print(e)  # 4\n",
        "\n",
        "f = -10\n",
        "f %= 3\n",
        "print(f)  # 2\n",
        "\n",
        "g = 100\n",
        "g %= 250\n",
        "print(g)  # 100\n",
        "\n",
        "h = 12\n",
        "h %= 6\n",
        "print(h)  # 0\n",
        "\n",
        "i = 8\n",
        "i %= 3\n",
        "print(i)  # 2\n",
        "\n",
        "j = 5\n",
        "j %= 2\n",
        "print(j)  # 1\n"
      ],
      "metadata": {
        "colab": {
          "base_uri": "https://localhost:8080/"
        },
        "id": "t4BiegFkUPq0",
        "outputId": "bdb93b4f-0dff-4255-bbb3-4a7de3b07e35"
      },
      "execution_count": null,
      "outputs": [
        {
          "output_type": "stream",
          "name": "stdout",
          "text": [
            "1\n",
            "6\n",
            "3\n",
            "1\n",
            "4\n",
            "2\n",
            "100\n",
            "0\n",
            "2\n",
            "1\n"
          ]
        }
      ]
    },
    {
      "cell_type": "markdown",
      "source": [
        "## 3. Comparison Operators"
      ],
      "metadata": {
        "id": "60aMcDQ0NOXV"
      }
    },
    {
      "cell_type": "markdown",
      "source": [
        "These operators are used to compare two values. They return a Boolean value (True or False)."
      ],
      "metadata": {
        "id": "mH-8XKkRNcer"
      }
    },
    {
      "cell_type": "markdown",
      "source": [
        "\n",
        "\n",
        "*   (==) : Equal to (e.g., a == b)\n",
        "*   (!=) : Not equal to (e.g., a != b)\n",
        "\n",
        "*   (>) : Greater than (e.g., a > b)\n",
        "*   (<) : Less than (e.g., a < b)\n",
        "\n",
        "*   (>=) : Greater than or equal to (e.g., a >= b)\n",
        "*   (<=) : Less than or equal to (e.g., a <= b)\n",
        "\n",
        "\n",
        "\n",
        "\n",
        "\n"
      ],
      "metadata": {
        "id": "DlBtvdxmNgtM"
      }
    },
    {
      "cell_type": "markdown",
      "source": [
        "Examples for comparison operators"
      ],
      "metadata": {
        "id": "aeqZqf1eV5_H"
      }
    },
    {
      "cell_type": "code",
      "source": [
        "# Equal (==)\n",
        "\n",
        "print(5 == 5)        # True\n",
        "print(10 == 20)      # False\n",
        "print(-7 == -7)      # True\n",
        "print(3.5 == 3.5)    # True\n",
        "print(0 == 0)        # True\n",
        "print(99 == 100)     # False\n",
        "print(-10 == 10)     # False\n",
        "print(1000 == 1000)  # True\n",
        "print(0.1 == 0.2)    # False\n",
        "print(500 == 500)    # True\n"
      ],
      "metadata": {
        "colab": {
          "base_uri": "https://localhost:8080/"
        },
        "id": "AkStuYI_UXmy",
        "outputId": "83f99a3c-bf3a-42c3-e8e4-3f9b416ee751"
      },
      "execution_count": null,
      "outputs": [
        {
          "output_type": "stream",
          "name": "stdout",
          "text": [
            "True\n",
            "False\n",
            "True\n",
            "True\n",
            "True\n",
            "False\n",
            "False\n",
            "True\n",
            "False\n",
            "True\n"
          ]
        }
      ]
    },
    {
      "cell_type": "code",
      "source": [
        "# Not Equal (!=)\n",
        "\n",
        "print(5 != 5)        # False\n",
        "print(10 != 20)      # True\n",
        "print(-7 != -7)      # False\n",
        "print(3.5 != 3.5)    # False\n",
        "print(0 != 1)        # True\n",
        "print(99 != 100)     # True\n",
        "print(-10 != 10)     # True\n",
        "print(1000 != 999)   # True\n",
        "print(0.1 != 0.2)    # True\n",
        "print(500 != 500)    # False\n"
      ],
      "metadata": {
        "colab": {
          "base_uri": "https://localhost:8080/"
        },
        "id": "rBbe_PN_Uov3",
        "outputId": "b8814004-2862-4a9c-8d7c-7427df04b0ad"
      },
      "execution_count": null,
      "outputs": [
        {
          "output_type": "stream",
          "name": "stdout",
          "text": [
            "False\n",
            "True\n",
            "False\n",
            "False\n",
            "True\n",
            "True\n",
            "True\n",
            "True\n",
            "True\n",
            "False\n"
          ]
        }
      ]
    },
    {
      "cell_type": "code",
      "source": [
        "# Greater Than (>)\n",
        "\n",
        "print(5 > 3)         # True\n",
        "print(10 > 20)       # False\n",
        "print(-7 > -10)      # True\n",
        "print(3.5 > 2.5)     # True\n",
        "print(0 > -1)        # True\n",
        "print(99 > 100)      # False\n",
        "print(-10 > -15)     # True\n",
        "print(1000 > 999)    # True\n",
        "print(0.1 > 0.05)    # True\n",
        "print(500 > 600)     # False\n"
      ],
      "metadata": {
        "colab": {
          "base_uri": "https://localhost:8080/"
        },
        "id": "jKjbiLPgUug8",
        "outputId": "8d15c4a3-2638-496b-d8a4-af93449dfc06"
      },
      "execution_count": null,
      "outputs": [
        {
          "output_type": "stream",
          "name": "stdout",
          "text": [
            "True\n",
            "False\n",
            "True\n",
            "True\n",
            "True\n",
            "False\n",
            "True\n",
            "True\n",
            "True\n",
            "False\n"
          ]
        }
      ]
    },
    {
      "cell_type": "code",
      "source": [
        "# Less Than (<)\n",
        "\n",
        "print(5 < 3)         # False\n",
        "print(10 < 20)       # True\n",
        "print(-7 < -10)      # False\n",
        "print(3.5 < 2.5)     # False\n",
        "print(0 < -1)        # False\n",
        "print(99 < 100)      # True\n",
        "print(-10 < -5)      # True\n",
        "print(1000 < 999)    # False\n",
        "print(0.1 < 0.05)    # False\n",
        "print(500 < 600)     # True\n"
      ],
      "metadata": {
        "colab": {
          "base_uri": "https://localhost:8080/"
        },
        "id": "Eak30uy-U0zm",
        "outputId": "8072c27d-4bd1-445a-d3bb-7f2738f58039"
      },
      "execution_count": null,
      "outputs": [
        {
          "output_type": "stream",
          "name": "stdout",
          "text": [
            "False\n",
            "True\n",
            "False\n",
            "False\n",
            "False\n",
            "True\n",
            "True\n",
            "False\n",
            "False\n",
            "True\n"
          ]
        }
      ]
    },
    {
      "cell_type": "code",
      "source": [
        "# Greater Than or Equal To (>=)\n",
        "\n",
        "print(5 >= 3)        # True\n",
        "print(10 >= 20)      # False\n",
        "print(-7 >= -7)      # True\n",
        "print(3.5 >= 3.5)    # True\n",
        "print(0 >= -1)       # True\n",
        "print(99 >= 100)     # False\n",
        "print(-10 >= -15)    # True\n",
        "print(1000 >= 999)   # True\n",
        "print(0.1 >= 0.1)    # True\n",
        "print(500 >= 500)    # True\n"
      ],
      "metadata": {
        "colab": {
          "base_uri": "https://localhost:8080/"
        },
        "id": "wssWQi35U75Y",
        "outputId": "e0d4e69f-9d53-4ba5-b905-8157e4768a6a"
      },
      "execution_count": null,
      "outputs": [
        {
          "output_type": "stream",
          "name": "stdout",
          "text": [
            "True\n",
            "False\n",
            "True\n",
            "True\n",
            "True\n",
            "False\n",
            "True\n",
            "True\n",
            "True\n",
            "True\n"
          ]
        }
      ]
    },
    {
      "cell_type": "code",
      "source": [
        "# Less Than or Equal To (<=)\n",
        "\n",
        "print(5 <= 3)        # False\n",
        "print(10 <= 20)      # True\n",
        "print(-7 <= -7)      # True\n",
        "print(3.5 <= 3.5)    # True\n",
        "print(0 <= -1)       # False\n",
        "print(99 <= 100)     # True\n",
        "print(-10 <= -5)     # True\n",
        "print(1000 <= 999)   # False\n",
        "print(0.1 <= 0.1)    # True\n",
        "print(500 <= 600)    # True\n"
      ],
      "metadata": {
        "colab": {
          "base_uri": "https://localhost:8080/"
        },
        "id": "XnPLu2jTVBT3",
        "outputId": "62b6137c-f4f0-4d66-8eee-d4c57d2997d7"
      },
      "execution_count": null,
      "outputs": [
        {
          "output_type": "stream",
          "name": "stdout",
          "text": [
            "False\n",
            "True\n",
            "True\n",
            "True\n",
            "False\n",
            "True\n",
            "True\n",
            "False\n",
            "True\n",
            "True\n"
          ]
        }
      ]
    },
    {
      "cell_type": "markdown",
      "source": [
        "## 4. Logical Operators"
      ],
      "metadata": {
        "id": "2SbXGXyQOSlW"
      }
    },
    {
      "cell_type": "markdown",
      "source": [
        "These operators are used to combine conditional statements."
      ],
      "metadata": {
        "id": "Esi2PoqeOm4g"
      }
    },
    {
      "cell_type": "markdown",
      "source": [
        "\n",
        "\n",
        "*   (and) : Returns True if both statements are true (e.g., a and b)\n",
        "*   (or) : Returns True if at least one statement is true (e.g., a or b)\n",
        "*   (not) : Reverses the result, returns False if the statement is true (e.g., not a)\n",
        "\n"
      ],
      "metadata": {
        "id": "KlEfNPkYOrB9"
      }
    },
    {
      "cell_type": "markdown",
      "source": [
        "Examples for and, or, not."
      ],
      "metadata": {
        "id": "ya-VAY8EVyCb"
      }
    },
    {
      "cell_type": "code",
      "source": [
        "# Logical AND (and)\n",
        "\n",
        "print(5 > 3 and 10 > 5)     # True and True -> True\n",
        "print(10 > 20 and 20 > 10)  # False and True -> False\n",
        "print(-7 < 0 and -7 > -10)  # True and True -> True\n",
        "print(3.5 == 3.5 and 2 > 3) # True and False -> False\n",
        "print(0 > 0 and 1 > 0)      # False and True -> False\n",
        "print(99 != 100 and 100 > 99)  # True and True -> True\n",
        "print(-10 > 0 and 10 < 20)  # False and True -> False\n",
        "print(1000 == 1000 and 999 < 1000)  # True and True -> True\n",
        "print(0.1 > 0.2 and 0.1 == 0.1)  # False and True -> False\n",
        "print(500 < 600 and 600 < 700)  # True and True -> True\n"
      ],
      "metadata": {
        "colab": {
          "base_uri": "https://localhost:8080/"
        },
        "id": "wY8aqaVIJ3l4",
        "outputId": "25403fe0-e604-4ff8-9de6-330e6d5f1264"
      },
      "execution_count": null,
      "outputs": [
        {
          "output_type": "stream",
          "name": "stdout",
          "text": [
            "True\n",
            "False\n",
            "True\n",
            "False\n",
            "False\n",
            "True\n",
            "False\n",
            "True\n",
            "False\n",
            "True\n"
          ]
        }
      ]
    },
    {
      "cell_type": "code",
      "source": [
        "# Logical OR (or)\n",
        "\n",
        "print(5 > 3 or 10 < 5)      # True or False -> True\n",
        "print(10 > 20 or 20 > 10)   # False or True -> True\n",
        "print(-7 < 0 or -7 > 0)     # True or False -> True\n",
        "print(3.5 == 3.5 or 2 > 3)  # True or False -> True\n",
        "print(0 > 0 or 1 > 0)       # False or True -> True\n",
        "print(99 != 100 or 100 < 99)  # True or False -> True\n",
        "print(-10 > 0 or 10 < 20)   # False or True -> True\n",
        "print(1000 == 1001 or 999 > 1000)  # False or False -> False\n",
        "print(0.1 > 0.2 or 0.1 == 0.1)  # False or True -> True\n",
        "print(500 > 600 or 600 < 700)  # False or True -> True\n"
      ],
      "metadata": {
        "colab": {
          "base_uri": "https://localhost:8080/"
        },
        "id": "WD7vqTisVfbT",
        "outputId": "4a546264-925f-48af-9367-bd0a4dcf45d1"
      },
      "execution_count": null,
      "outputs": [
        {
          "output_type": "stream",
          "name": "stdout",
          "text": [
            "True\n",
            "True\n",
            "True\n",
            "True\n",
            "True\n",
            "True\n",
            "True\n",
            "False\n",
            "True\n",
            "True\n"
          ]
        }
      ]
    },
    {
      "cell_type": "code",
      "source": [
        "# Logical NOT (not)\n",
        "\n",
        "print(not(5 > 3))           # not(True) -> False\n",
        "print(not(10 > 20))         # not(False) -> True\n",
        "print(not(-7 < 0))          # not(True) -> False\n",
        "print(not(3.5 == 3.5))      # not(True) -> False\n",
        "print(not(0 > 0))           # not(False) -> True\n",
        "print(not(99 != 100))       # not(True) -> False\n",
        "print(not(-10 > 0))         # not(False) -> True\n",
        "print(not(1000 == 1001))    # not(False) -> True\n",
        "print(not(0.1 > 0.2))       # not(False) -> True\n",
        "print(not(500 > 600))       # not(False) -> True\n"
      ],
      "metadata": {
        "colab": {
          "base_uri": "https://localhost:8080/"
        },
        "id": "P1KY-ej9VmF1",
        "outputId": "60a126c6-3902-4ba5-c87e-ae38da81c7b9"
      },
      "execution_count": null,
      "outputs": [
        {
          "output_type": "stream",
          "name": "stdout",
          "text": [
            "False\n",
            "True\n",
            "False\n",
            "False\n",
            "True\n",
            "False\n",
            "True\n",
            "True\n",
            "True\n",
            "True\n"
          ]
        }
      ]
    },
    {
      "cell_type": "markdown",
      "source": [
        "\n",
        "\n",
        "\n",
        "\n",
        "\n",
        "## 5.   Identity Operators\n",
        "\n",
        "\n",
        "\n"
      ],
      "metadata": {
        "id": "o2CREB69ZFfJ"
      }
    },
    {
      "cell_type": "markdown",
      "source": [
        "Identity operators in Python are used to compare the memory locations of two objects to check if they refer to the same object in memory. There are two identity operators:"
      ],
      "metadata": {
        "id": "9Aoh2cP8ZXfG"
      }
    },
    {
      "cell_type": "markdown",
      "source": [
        "\n",
        "\n",
        "1.   is: Evaluates to True if both variables point to the same object (i.e., have the same memory location).\n",
        "\n"
      ],
      "metadata": {
        "id": "F6MGVoJRZl6v"
      }
    },
    {
      "cell_type": "code",
      "source": [
        "x = [1, 2, 3]\n",
        "y = x\n",
        "print(x is y)  # True"
      ],
      "metadata": {
        "colab": {
          "base_uri": "https://localhost:8080/"
        },
        "id": "MWRhopqEZ3Jd",
        "outputId": "ff511bcd-0703-4197-fb62-8e843515ab39"
      },
      "execution_count": 7,
      "outputs": [
        {
          "output_type": "stream",
          "name": "stdout",
          "text": [
            "True\n"
          ]
        }
      ]
    },
    {
      "cell_type": "markdown",
      "source": [
        "Examples:"
      ],
      "metadata": {
        "id": "-dVhbCCuaPXv"
      }
    },
    {
      "cell_type": "code",
      "source": [
        "x = [1, 2, 3]\n",
        "y = x\n",
        "print(x is y)  # True\n",
        "\n",
        "a = 10\n",
        "b = 10\n",
        "print(a is b)  # True\n",
        "\n",
        "str1 = \"Hello\"\n",
        "str2 = \"Hello\"\n",
        "print(str1 is str2)  # True\n",
        "\n",
        "list1 = [1, 2, 3]\n",
        "list2 = [1, 2, 3]\n",
        "print(list1 is list2)  # False\n",
        "\n",
        "x = 5\n",
        "y = 5\n",
        "print(x is y)  # True"
      ],
      "metadata": {
        "colab": {
          "base_uri": "https://localhost:8080/"
        },
        "id": "jH7bWSeNaPDz",
        "outputId": "99b492a5-fd38-4390-8950-afe87192406a"
      },
      "execution_count": 12,
      "outputs": [
        {
          "output_type": "stream",
          "name": "stdout",
          "text": [
            "True\n",
            "True\n",
            "True\n",
            "False\n",
            "True\n"
          ]
        }
      ]
    },
    {
      "cell_type": "markdown",
      "source": [
        "\n",
        "\n",
        "**2**.   is not: Evaluates to True if the variables point to different objects (i.e., have different memory locations).\n",
        "\n"
      ],
      "metadata": {
        "id": "3KEqeFPkZsMs"
      }
    },
    {
      "cell_type": "code",
      "source": [
        "x = [1, 2, 3]\n",
        "y = [1, 2, 3]\n",
        "print(x is not y)  # True, because x and y are two different objects, even though they have the same content."
      ],
      "metadata": {
        "colab": {
          "base_uri": "https://localhost:8080/"
        },
        "id": "_sk0n9C6Z9lh",
        "outputId": "12bdbea4-273f-46ee-9a68-49af6feb4f71"
      },
      "execution_count": 10,
      "outputs": [
        {
          "output_type": "stream",
          "name": "stdout",
          "text": [
            "True\n"
          ]
        }
      ]
    },
    {
      "cell_type": "markdown",
      "source": [
        "Examples:"
      ],
      "metadata": {
        "id": "GpwIoSD9aSaI"
      }
    },
    {
      "cell_type": "code",
      "source": [
        "x = [1, 2, 3]\n",
        "y = [1, 2, 3]\n",
        "print(x is not y)  # True\n",
        "\n",
        "a = 10\n",
        "b = 20\n",
        "print(a is not b)  # True\n",
        "\n",
        "str1 = \"Hello\"\n",
        "str2 = \"World\"\n",
        "print(str1 is not str2)  # True\n",
        "\n",
        "list1 = [1, 2, 3]\n",
        "list2 = [4, 5, 6]\n",
        "print(list1 is not list2)  # True\n",
        "\n",
        "x = 5\n",
        "y = 5\n",
        "print(x is not y)  # False\n"
      ],
      "metadata": {
        "colab": {
          "base_uri": "https://localhost:8080/"
        },
        "id": "g6GINfJ7ZW0T",
        "outputId": "b1326bb3-d238-4dfb-db00-513d97ef9cb1"
      },
      "execution_count": 11,
      "outputs": [
        {
          "output_type": "stream",
          "name": "stdout",
          "text": [
            "True\n",
            "True\n",
            "True\n",
            "True\n",
            "False\n"
          ]
        }
      ]
    },
    {
      "cell_type": "markdown",
      "source": [
        "\n",
        "\n",
        "## 6.   Membership Operator\n",
        "\n"
      ],
      "metadata": {
        "id": "f99R2Rq1b-rW"
      }
    },
    {
      "cell_type": "markdown",
      "source": [
        "Membership operators in Python are used to test whether a value is found within a sequence, such as a string, list, tuple, or set. There are two membership operators:"
      ],
      "metadata": {
        "id": "dCZ2jQEdc2qZ"
      }
    },
    {
      "cell_type": "markdown",
      "source": [
        "\n",
        "\n",
        "1.   in: Evaluates to True if the specified value is present in the sequence.\n",
        "\n"
      ],
      "metadata": {
        "id": "u3BXGSU1c7ko"
      }
    },
    {
      "cell_type": "code",
      "source": [
        "x = [1, 2, 3, 4]\n",
        "print(2 in x)  # True, because 2 is in the list x"
      ],
      "metadata": {
        "colab": {
          "base_uri": "https://localhost:8080/"
        },
        "id": "GG8BrvqndKEm",
        "outputId": "d0af6cf3-d209-4ff4-f06d-4c652111de60"
      },
      "execution_count": 13,
      "outputs": [
        {
          "output_type": "stream",
          "name": "stdout",
          "text": [
            "True\n"
          ]
        }
      ]
    },
    {
      "cell_type": "markdown",
      "source": [
        "Examples:"
      ],
      "metadata": {
        "id": "9f5Mb5t-dWJd"
      }
    },
    {
      "cell_type": "code",
      "source": [
        "text = \"Hello\"\n",
        "print(\"H\" in text)  # True\n",
        "\n",
        "numbers = [1, 2, 3, 4, 5]\n",
        "print(3 in numbers)  # True\n",
        "\n",
        "fruits = (\"apple\", \"banana\", \"cherry\")\n",
        "print(\"banana\" in fruits)  # True\n",
        "\n",
        "my_dict = {\"name\": \"Alice\", \"age\": 30}\n",
        "print(\"name\" in my_dict)  # True\n",
        "\n",
        "colors = {\"red\", \"green\", \"blue\"}\n",
        "print(\"green\" in colors)  # True\n"
      ],
      "metadata": {
        "colab": {
          "base_uri": "https://localhost:8080/"
        },
        "id": "PNZo8lUhdVc8",
        "outputId": "4fd321bc-b987-47a6-a4cb-988396a86139"
      },
      "execution_count": 16,
      "outputs": [
        {
          "output_type": "stream",
          "name": "stdout",
          "text": [
            "True\n",
            "True\n",
            "True\n",
            "True\n",
            "True\n"
          ]
        }
      ]
    },
    {
      "cell_type": "markdown",
      "source": [
        "\n",
        "\n",
        "2.   not in: Evaluates to True if the specified value is not present in the sequence.\n",
        "\n"
      ],
      "metadata": {
        "id": "GtSihPH-dDf9"
      }
    },
    {
      "cell_type": "code",
      "source": [
        "x = [1, 2, 3, 4]\n",
        "print(5 not in x)  # True, because 5 is not in the list x"
      ],
      "metadata": {
        "colab": {
          "base_uri": "https://localhost:8080/"
        },
        "id": "q81ecqvXb6Ii",
        "outputId": "0d3ee603-dd0d-4737-ad81-7d8c5235b68b"
      },
      "execution_count": 15,
      "outputs": [
        {
          "output_type": "stream",
          "name": "stdout",
          "text": [
            "True\n"
          ]
        }
      ]
    },
    {
      "cell_type": "markdown",
      "source": [
        "Examples:"
      ],
      "metadata": {
        "id": "v_x4dRVjdaQC"
      }
    },
    {
      "cell_type": "code",
      "source": [
        "text = \"Hello\"\n",
        "print(\"Z\" not in text)  # True\n",
        "\n",
        "numbers = [1, 2, 3, 4, 5]\n",
        "print(10 not in numbers)  # True\n",
        "\n",
        "fruits = (\"apple\", \"banana\", \"cherry\")\n",
        "print(\"orange\" not in fruits)  # True\n",
        "\n",
        "my_dict = {\"name\": \"Alice\", \"age\": 30}\n",
        "print(\"city\" not in my_dict)  # True\n",
        "\n",
        "colors = {\"red\", \"green\", \"blue\"}\n",
        "print(\"yellow\" not in colors)  # True\n"
      ],
      "metadata": {
        "colab": {
          "base_uri": "https://localhost:8080/"
        },
        "id": "Oe076FpedSS9",
        "outputId": "c422e043-5ca5-4cec-c56b-5c44203e8026"
      },
      "execution_count": 17,
      "outputs": [
        {
          "output_type": "stream",
          "name": "stdout",
          "text": [
            "True\n",
            "True\n",
            "True\n",
            "True\n",
            "True\n"
          ]
        }
      ]
    },
    {
      "cell_type": "markdown",
      "source": [
        "\n",
        "\n",
        "## 7.   Bitwise Operators\n",
        "\n"
      ],
      "metadata": {
        "id": "9xJd1V6Pedye"
      }
    },
    {
      "cell_type": "markdown",
      "source": [
        "Bitwise operators in Python operate at the bit level, meaning they perform operations on the binary representations of integers. These operators are used to manipulate bits and are commonly used in low-level programming tasks."
      ],
      "metadata": {
        "id": "BsxiUFKifNAK"
      }
    },
    {
      "cell_type": "markdown",
      "source": [
        "Here are the bitwise operators:"
      ],
      "metadata": {
        "id": "VMUyelc9fRxk"
      }
    },
    {
      "cell_type": "markdown",
      "source": [
        "\n",
        "\n",
        "\n",
        "\n",
        "\n",
        "\n",
        "*   AND (&): Compares each bit, returns 1 if both bits are 1.\n",
        "\n",
        "\n",
        "*   OR (|): Compares each bit, returns 1 if any bit is 1.\n",
        "\n",
        "\n",
        "*   XOR (^): Compares each bit, returns 1 if bits are different.\n",
        "\n",
        "\n",
        "*   NOT (~): Inverts all bits.\n",
        "\n",
        "\n",
        "*   Left Shift (<<): Shifts bits to the left.\n",
        "\n",
        "\n",
        "*   Right Shift (>>): Shifts bits to the right.\n",
        "\n",
        "\n",
        "\n",
        "\n"
      ],
      "metadata": {
        "id": "ICM3Ti8TfTZu"
      }
    },
    {
      "cell_type": "markdown",
      "source": [
        "Examples for all Bitwise operators:"
      ],
      "metadata": {
        "id": "NbyD1H_VfuiC"
      }
    },
    {
      "cell_type": "code",
      "source": [
        "# AND (&)\n",
        "print(5 & 3)  # Output: 1\n",
        "print(10 & 7) # Output: 2\n",
        "\n",
        "# OR (|)\n",
        "print(5 | 3)  # Output: 7\n",
        "print(10 | 7) # Output: 15\n",
        "\n",
        "# XOR (^)\n",
        "print(5 ^ 3)  # Output: 6\n",
        "print(10 ^ 7) # Output: 13\n",
        "\n",
        "# NOT (~)\n",
        "print(~5)  # Output: -6\n",
        "print(~10) # Output: -11\n",
        "\n",
        "# Left Shift (<<)\n",
        "print(5 << 2)  # Output: 20\n",
        "print(10 << 1) # Output: 20\n",
        "\n",
        "# Right Shift (>>)\n",
        "print(5 >> 2)  # Output: 1\n",
        "print(10 >> 1) # Output: 5"
      ],
      "metadata": {
        "colab": {
          "base_uri": "https://localhost:8080/"
        },
        "id": "mQLfIlDEebk6",
        "outputId": "41ed51f1-9e7b-4a9d-d65d-166ce8c6b53e"
      },
      "execution_count": 19,
      "outputs": [
        {
          "output_type": "stream",
          "name": "stdout",
          "text": [
            "1\n",
            "2\n",
            "7\n",
            "15\n",
            "6\n",
            "13\n",
            "-6\n",
            "-11\n",
            "20\n",
            "20\n",
            "1\n",
            "5\n"
          ]
        }
      ]
    }
  ]
}