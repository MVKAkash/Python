{
  "nbformat": 4,
  "nbformat_minor": 0,
  "metadata": {
    "colab": {
      "provenance": []
    },
    "kernelspec": {
      "name": "python3",
      "display_name": "Python 3"
    },
    "language_info": {
      "name": "python"
    }
  },
  "cells": [
    {
      "cell_type": "markdown",
      "source": [
        "# **Python Lists**"
      ],
      "metadata": {
        "id": "EE7O_jC76FjL"
      }
    },
    {
      "cell_type": "markdown",
      "source": [
        "A list is a built-in data structure that allows you to store an ordered collection of items. Lists can contain elements of different data types, such as integers, floats, strings, or even other lists. The items in a list are mutable, meaning you can change them (add, remove, or modify elements) after the list is created."
      ],
      "metadata": {
        "id": "Z_qIU5rrBgBm"
      }
    },
    {
      "cell_type": "markdown",
      "source": [
        "\n",
        "\n",
        "*   Items have a defined order, and this order is maintained.\n",
        "*   You can modify a list after its creation (e.g., append, remove, update).\n",
        "*   Lists are used to store multiple items in a single variable.\n",
        "*   These items can be of any data type including numbers, strings, float, boolean, or even other lists.\n",
        "*   Lists are created using square brackets, and the items are seperated by commas.\n",
        "*   Any kind of data type can be added into a single list.\n",
        "*   Items in a list can be accessed by their index, which starts from 0.\n",
        "*   Items can also be accessed by elements from the end of the list using negative indexing starts from -1(right to left).\n",
        "\n",
        "\n",
        "\n",
        "\n",
        "\n",
        "\n",
        "\n"
      ],
      "metadata": {
        "id": "qsQJP_zl6Nxk"
      }
    },
    {
      "cell_type": "markdown",
      "source": [
        "Example:"
      ],
      "metadata": {
        "id": "FS8hV5Gr8yBw"
      }
    },
    {
      "cell_type": "code",
      "source": [
        "list = [1, 2, 3.14, \"Hello\", True, 1 + 3j, [4, 5, 6]]\n",
        "print(list)"
      ],
      "metadata": {
        "colab": {
          "base_uri": "https://localhost:8080/"
        },
        "id": "wJnryTJN8YJR",
        "outputId": "810dc077-2c0d-4fd3-8f75-51261bf85afe"
      },
      "execution_count": null,
      "outputs": [
        {
          "output_type": "stream",
          "name": "stdout",
          "text": [
            "[1, 2, 3.14, 'Hello', True, (1+3j), [4, 5, 6]]\n"
          ]
        }
      ]
    },
    {
      "cell_type": "markdown",
      "source": [
        "Exaples for lists with different data types:"
      ],
      "metadata": {
        "id": "2R-fXa178Fv1"
      }
    },
    {
      "cell_type": "code",
      "source": [
        "\n",
        "# Numbers\n",
        "num_list = [10, 42, 67, 39, 22, 49, 82, 56, 73, 51]\n",
        "print(num_list)\n",
        "\n",
        "# Strings\n",
        "str_list = [\"apple\", \"banana\", \"Car\", \"57\", \"time\", \"Steve\"]\n",
        "print(str_list)\n",
        "\n",
        "# Floats\n",
        "floats_list = [3.14, 9.71, 8.3, 6.1, 3.3]\n",
        "print(floats_list)\n",
        "\n",
        "# Booleans\n",
        "booleans_list = [True, False]\n",
        "print(booleans_list)\n",
        "\n",
        "# Complex\n",
        "complex_list = [1 + 2j, 3 + 4j]\n",
        "print(complex_list)\n",
        "\n",
        "# List of Lists\n",
        "list_of_lists = [[1, 2, 3], [4, 5, 6], [7, 8, 9]]\n",
        "print(list_of_lists)\n"
      ],
      "metadata": {
        "colab": {
          "base_uri": "https://localhost:8080/"
        },
        "id": "SBlCElmb6NDp",
        "outputId": "ce0b38ac-9b1f-4793-b95b-f4adf3989431"
      },
      "execution_count": 2,
      "outputs": [
        {
          "output_type": "stream",
          "name": "stdout",
          "text": [
            "[10, 42, 67, 39, 22, 49, 82, 56, 73, 51]\n",
            "['apple', 'banana', 'Car', '57', 'time', 'Steve']\n",
            "[3.14, 9.71, 8.3, 6.1, 3.3]\n",
            "[True, False]\n",
            "[(1+2j), (3+4j)]\n",
            "[[1, 2, 3], [4, 5, 6], [7, 8, 9]]\n"
          ]
        }
      ]
    },
    {
      "cell_type": "markdown",
      "source": [
        "Different types of lists with different datatypes"
      ],
      "metadata": {
        "id": "-Wgg4zl4Hty-"
      }
    },
    {
      "cell_type": "code",
      "source": [
        "list1 = [1, 2, 3, 4, 5]\n",
        "list2 = [1.1, 2.2, 3.3, 4.4, 5.5]\n",
        "list3 = [\"apple\", \"banana\", \"cherry\", \"date\", \"elderberry\"]\n",
        "list4 = [True, False, True, False, True]\n",
        "list5 = [1, \"apple\", True, 3.14]\n",
        "list6 = [1 + 2j, 2 + 3j, 3 + 4j, 4 + 5j, 5 + 6j]\n",
        "list7 = [[1, 2], [3, 4], [5, 6]]\n",
        "list8 = [51, 72, 67, 84, 96]\n",
        "list9 = [[1, 2], [3, 4]]\n",
        "list10 = [[1, 2, 3], [4, 5, 6], [7, 8, 9]]"
      ],
      "metadata": {
        "id": "srqg2B-XF989"
      },
      "execution_count": 26,
      "outputs": []
    },
    {
      "cell_type": "code",
      "source": [
        "print(list1)\n",
        "print(list2)\n",
        "print(list3)\n",
        "print(list4)\n",
        "print(list5)\n",
        "print(list6)\n",
        "print(list7)\n",
        "print(list8)\n",
        "print(list9)\n",
        "print(list10)"
      ],
      "metadata": {
        "colab": {
          "base_uri": "https://localhost:8080/"
        },
        "id": "IRGdN87lH8WA",
        "outputId": "8b1733ab-3c06-4248-8a09-7d10723278b6"
      },
      "execution_count": 27,
      "outputs": [
        {
          "output_type": "stream",
          "name": "stdout",
          "text": [
            "[1, 2, 3, 4, 5]\n",
            "[1.1, 2.2, 3.3, 4.4, 5.5]\n",
            "['apple', 'banana', 'cherry', 'date', 'elderberry']\n",
            "[True, False, True, False, True]\n",
            "[1, 'apple', True, 3.14]\n",
            "[(1+2j), (2+3j), (3+4j), (4+5j), (5+6j)]\n",
            "[[1, 2], [3, 4], [5, 6]]\n",
            "[51, 72, 67, 84, 96]\n",
            "[[1, 2], [3, 4]]\n",
            "[[1, 2, 3], [4, 5, 6], [7, 8, 9]]\n"
          ]
        }
      ]
    },
    {
      "cell_type": "markdown",
      "source": [
        "## Indexing in Python"
      ],
      "metadata": {
        "id": "KUqtq_OkD3zo"
      }
    },
    {
      "cell_type": "markdown",
      "source": [
        "Indexing in python allows you to access elements in a list using their position. Indexing starts from 0 for the first element. Python also supports negative indexing, where -1 refers to the last element, -2 refers to the second-last element, and so on."
      ],
      "metadata": {
        "id": "ZSBCGLGhEhol"
      }
    },
    {
      "cell_type": "markdown",
      "source": [
        "Example from above 10 lists for indexing"
      ],
      "metadata": {
        "id": "16cmUAEgIJbM"
      }
    },
    {
      "cell_type": "code",
      "source": [
        "list2[1]"
      ],
      "metadata": {
        "colab": {
          "base_uri": "https://localhost:8080/"
        },
        "id": "9rx1DsJXHDtH",
        "outputId": "3f8cc855-2b43-4547-e200-2ae194af6279"
      },
      "execution_count": 15,
      "outputs": [
        {
          "output_type": "execute_result",
          "data": {
            "text/plain": [
              "2.2"
            ]
          },
          "metadata": {},
          "execution_count": 15
        }
      ]
    },
    {
      "cell_type": "code",
      "source": [
        "list6[-3]"
      ],
      "metadata": {
        "colab": {
          "base_uri": "https://localhost:8080/"
        },
        "id": "vMDQf5UYHRgH",
        "outputId": "0c208c04-be70-478e-8e8b-17ad83f7f5e7"
      },
      "execution_count": 17,
      "outputs": [
        {
          "output_type": "execute_result",
          "data": {
            "text/plain": [
              "(3+4j)"
            ]
          },
          "metadata": {},
          "execution_count": 17
        }
      ]
    },
    {
      "cell_type": "code",
      "source": [
        "list10[0]"
      ],
      "metadata": {
        "colab": {
          "base_uri": "https://localhost:8080/"
        },
        "id": "wwJ1M00hHbn2",
        "outputId": "be7153fb-28ba-4975-8748-63f0b9358b66"
      },
      "execution_count": 20,
      "outputs": [
        {
          "output_type": "execute_result",
          "data": {
            "text/plain": [
              "[1, 2, 3]"
            ]
          },
          "metadata": {},
          "execution_count": 20
        }
      ]
    },
    {
      "cell_type": "markdown",
      "source": [
        "## Slicing of List"
      ],
      "metadata": {
        "id": "GisvFkLy32fT"
      }
    },
    {
      "cell_type": "markdown",
      "source": [
        "Consider a Python list, in order to access a range of elements in a list, you need to slice a list. One way to do this is to use the simple slicing operator i.e. colon(:). With this operator, one can specify where to start the slicing, where to end, and specify the step."
      ],
      "metadata": {
        "id": "SQKXIHQM38fP"
      }
    },
    {
      "cell_type": "code",
      "source": [
        "my_list = [1, 2, 3, 4, 5, 6, 7, 8, 9, 10]\n",
        "print(my_list[0]) # for first element (Indexing)\n",
        "print(my_list[-1]) # for last element (Indexing)\n",
        "print(my_list[2:5]) # elements from index 2 to 5 (slicing)\n",
        "print(my_list[:5]) # elements from the beginning to index 5 (Slicing)\n",
        "print(my_list[3:]) # elements from index 3 to the end (Slicing)\n",
        "print(my_list[:]) # all elements from the list (Slicing)"
      ],
      "metadata": {
        "colab": {
          "base_uri": "https://localhost:8080/"
        },
        "id": "A_aeCfEDAB7I",
        "outputId": "89681098-8280-464a-fa21-2c8ead14007d"
      },
      "execution_count": 3,
      "outputs": [
        {
          "output_type": "stream",
          "name": "stdout",
          "text": [
            "1\n",
            "10\n",
            "[3, 4, 5]\n",
            "[1, 2, 3, 4, 5]\n",
            "[4, 5, 6, 7, 8, 9, 10]\n",
            "[1, 2, 3, 4, 5, 6, 7, 8, 9, 10]\n"
          ]
        }
      ]
    },
    {
      "cell_type": "markdown",
      "source": [
        "Positive Indexes:"
      ],
      "metadata": {
        "id": "u2PAYcfg9l9J"
      }
    },
    {
      "cell_type": "markdown",
      "source": [
        "In the case of Positive Indexing, the first element of the list has the index number 0, and the last element of the list has the index number N-1, where N is the total number of elements in the list (size of the list).\n"
      ],
      "metadata": {
        "id": "9c-zXiOa9vFC"
      }
    },
    {
      "cell_type": "markdown",
      "source": [
        "Negative Indexes:"
      ],
      "metadata": {
        "id": "1lZTCN45_e2c"
      }
    },
    {
      "cell_type": "markdown",
      "source": [
        "The below diagram illustrates a list along with its negative indexes. Index -1 represents the last element and -N represents the first element of the list, where N is the length of the list."
      ],
      "metadata": {
        "id": "01IhkCOs_jsa"
      }
    },
    {
      "cell_type": "markdown",
      "source": [
        "Example for slicing:"
      ],
      "metadata": {
        "id": "_FTI2_6E_vWU"
      }
    },
    {
      "cell_type": "code",
      "source": [
        "Lst = [50, 70, 30, 20, 90, 10, 50]\n",
        "print(Lst[:4])  #positive slicing\n",
        "print(Lst[-4:]) #negative slicing"
      ],
      "metadata": {
        "id": "WGfyo8w6_scH",
        "colab": {
          "base_uri": "https://localhost:8080/"
        },
        "outputId": "80469480-04f1-4731-c597-8b272b0589fc"
      },
      "execution_count": null,
      "outputs": [
        {
          "output_type": "stream",
          "name": "stdout",
          "text": [
            "[50, 70, 30, 20]\n",
            "[20, 90, 10, 50]\n"
          ]
        }
      ]
    },
    {
      "cell_type": "code",
      "source": [
        "my_list = [10, \"hello\", 3.14, True, 2 + 3j, 5, \"world\", 2.71, False, 1 - 1j, 15, \"Apple\", 1.618, True, 4 + 5j, 20, \"Car\", 0.577, False, 6 - 2j]\n",
        "print(my_list)\n",
        "\n",
        "print(my_list[:10]) # access first 10 elements with possitive index\n",
        "print(my_list[:-10]) # access first 10 elements with negative index\n",
        "print(my_list[10:]) # access last 10 elements with possitive index\n",
        "print(my_list[-10:]) # access last 10 elements with negative index"
      ],
      "metadata": {
        "colab": {
          "base_uri": "https://localhost:8080/"
        },
        "id": "C27IEk6nKp5z",
        "outputId": "2af1b463-f17e-4109-b698-0c5809360aec"
      },
      "execution_count": 25,
      "outputs": [
        {
          "output_type": "stream",
          "name": "stdout",
          "text": [
            "[10, 'hello', 3.14, True, (2+3j), 5, 'world', 2.71, False, (1-1j), 15, 'Apple', 1.618, True, (4+5j), 20, 'Car', 0.577, False, (6-2j)]\n",
            "[10, 'hello', 3.14, True, (2+3j), 5, 'world', 2.71, False, (1-1j)]\n",
            "[10, 'hello', 3.14, True, (2+3j), 5, 'world', 2.71, False, (1-1j)]\n",
            "[15, 'Apple', 1.618, True, (4+5j), 20, 'Car', 0.577, False, (6-2j)]\n",
            "[15, 'Apple', 1.618, True, (4+5j), 20, 'Car', 0.577, False, (6-2j)]\n"
          ]
        }
      ]
    },
    {
      "cell_type": "markdown",
      "source": [
        "## List Operations"
      ],
      "metadata": {
        "id": "BARrf-cSCmHW"
      }
    },
    {
      "cell_type": "markdown",
      "source": [
        "\n",
        "\n",
        "### 1.   Concatenation of Lists\n",
        "\n"
      ],
      "metadata": {
        "id": "f7NXqp8hCsVV"
      }
    },
    {
      "cell_type": "markdown",
      "source": [
        "Concatenation refers to joining two or more lists together to create a new list. In Python, you can concatenate lists using the ' + ' operator. Concatenation creates a new list, and the original lists remain unchanged."
      ],
      "metadata": {
        "id": "MnWeEXfxEFoC"
      }
    },
    {
      "cell_type": "markdown",
      "source": [
        "Example:"
      ],
      "metadata": {
        "id": "08RiS4FOEpUG"
      }
    },
    {
      "cell_type": "code",
      "source": [
        "list1 = [1, 2, 3]\n",
        "list2 = [4, 5, 6]\n",
        "list3 = list1 + list2\n",
        "print(list3)"
      ],
      "metadata": {
        "colab": {
          "base_uri": "https://localhost:8080/"
        },
        "id": "1y8-18-EFFLy",
        "outputId": "c59e5afa-7b3f-480c-857b-1a99824ae1b8"
      },
      "execution_count": 5,
      "outputs": [
        {
          "output_type": "stream",
          "name": "stdout",
          "text": [
            "[1, 2, 3, 4, 5, 6]\n"
          ]
        }
      ]
    },
    {
      "cell_type": "code",
      "source": [
        "list1 = [1, 2, 3]\n",
        "list2 = [4, 5, 6]\n",
        "list1 += list2  # list1 = list1 + list2\n",
        "print(list1)"
      ],
      "metadata": {
        "colab": {
          "base_uri": "https://localhost:8080/"
        },
        "id": "rTzM3MytIn1P",
        "outputId": "32c3c114-7abf-444f-e332-1eabc22ed366"
      },
      "execution_count": 24,
      "outputs": [
        {
          "output_type": "stream",
          "name": "stdout",
          "text": [
            "[1, 2, 3, 4, 5, 6]\n"
          ]
        }
      ]
    },
    {
      "cell_type": "markdown",
      "source": [
        "\n",
        "\n",
        "###    2. Repetition of Lists\n",
        "\n"
      ],
      "metadata": {
        "id": "ok2uUZmDD5bq"
      }
    },
    {
      "cell_type": "markdown",
      "source": [
        "Repetition involves repeating the elements of a list a specified number of times. You can repeat a list using the ' * ' operator. The * operator creates a new list where the original list is repeated n times."
      ],
      "metadata": {
        "id": "jbuOTacaEX1_"
      }
    },
    {
      "cell_type": "markdown",
      "source": [
        "Example:"
      ],
      "metadata": {
        "id": "jRMr-D9BE7m_"
      }
    },
    {
      "cell_type": "code",
      "source": [
        "list1 = [1, 2, 3]\n",
        "list2 = list1 * 7\n",
        "print(list2)"
      ],
      "metadata": {
        "colab": {
          "base_uri": "https://localhost:8080/"
        },
        "id": "x15sOZqOCrRK",
        "outputId": "3f5418e7-3611-4306-a725-dc3192c31b63"
      },
      "execution_count": 11,
      "outputs": [
        {
          "output_type": "stream",
          "name": "stdout",
          "text": [
            "[1, 2, 3, 1, 2, 3, 1, 2, 3, 1, 2, 3, 1, 2, 3, 1, 2, 3, 1, 2, 3]\n"
          ]
        }
      ]
    },
    {
      "cell_type": "code",
      "source": [
        "list1 = ['apple', 'ball', 'cat']\n",
        "list2 = list1 * 5\n",
        "print(list2)"
      ],
      "metadata": {
        "colab": {
          "base_uri": "https://localhost:8080/"
        },
        "id": "Hxt8mSH3FRXv",
        "outputId": "b54eec4c-a617-4ea3-9cf9-9d910e79279e"
      },
      "execution_count": 22,
      "outputs": [
        {
          "output_type": "stream",
          "name": "stdout",
          "text": [
            "['apple', 'ball', 'cat', 'apple', 'ball', 'cat', 'apple', 'ball', 'cat', 'apple', 'ball', 'cat', 'apple', 'ball', 'cat']\n"
          ]
        }
      ]
    }
  ]
}