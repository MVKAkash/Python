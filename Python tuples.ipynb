{
  "nbformat": 4,
  "nbformat_minor": 0,
  "metadata": {
    "colab": {
      "provenance": []
    },
    "kernelspec": {
      "name": "python3",
      "display_name": "Python 3"
    },
    "language_info": {
      "name": "python"
    }
  },
  "cells": [
    {
      "cell_type": "markdown",
      "source": [
        "# **Python Tuples**"
      ],
      "metadata": {
        "id": "90a9i7LgQB1u"
      }
    },
    {
      "cell_type": "markdown",
      "source": [
        "\n",
        "\n",
        "\n",
        "*   Tuples are used to store multiple items in a single variable.\n",
        "*   A tuple is a collection which is ordered and unchangeable.\n",
        "*   Tuples are written with round brackets.\n",
        "\n",
        "\n",
        "\n"
      ],
      "metadata": {
        "id": "r5UBqWlyQ_yP"
      }
    },
    {
      "cell_type": "markdown",
      "source": [
        "## Creating a tuple"
      ],
      "metadata": {
        "id": "8ZBLjZHpRdNh"
      }
    },
    {
      "cell_type": "code",
      "source": [
        "mytuple = (\"apple\", \"banana\", \"cherry\")\n",
        "print(mytuple)\n",
        "print(type(mytuple))"
      ],
      "metadata": {
        "colab": {
          "base_uri": "https://localhost:8080/"
        },
        "id": "nRyYfXtuQ9E5",
        "outputId": "77299544-43ec-46c9-b2e2-f8af0912c31c"
      },
      "execution_count": 1,
      "outputs": [
        {
          "output_type": "stream",
          "name": "stdout",
          "text": [
            "('apple', 'banana', 'cherry')\n",
            "<class 'tuple'>\n"
          ]
        }
      ]
    },
    {
      "cell_type": "code",
      "source": [
        "mixed_mytuple = (\"apple\", 1, True, 5.92)\n",
        "print(mytuple)"
      ],
      "metadata": {
        "colab": {
          "base_uri": "https://localhost:8080/"
        },
        "id": "vHj4rIsFSBO8",
        "outputId": "b001d4c5-7d32-4dda-a349-646e4e54fa72"
      },
      "execution_count": 3,
      "outputs": [
        {
          "output_type": "stream",
          "name": "stdout",
          "text": [
            "('apple', 'banana', 'cherry')\n"
          ]
        }
      ]
    },
    {
      "cell_type": "code",
      "source": [
        "single_element_tuple = (\"apple\",)\n",
        "print(single_element_tuple)\n",
        "print(type(single_element_tuple))"
      ],
      "metadata": {
        "colab": {
          "base_uri": "https://localhost:8080/"
        },
        "id": "dsasDvYbSf9K",
        "outputId": "ac286a3a-8ab7-43e6-e2f1-c55e69750bdf"
      },
      "execution_count": 4,
      "outputs": [
        {
          "output_type": "stream",
          "name": "stdout",
          "text": [
            "('apple',)\n",
            "<class 'tuple'>\n"
          ]
        }
      ]
    },
    {
      "cell_type": "code",
      "source": [
        "print(single_element_tuple)"
      ],
      "metadata": {
        "colab": {
          "base_uri": "https://localhost:8080/"
        },
        "id": "nllvitwaSs8J",
        "outputId": "a3d91943-b2a6-4692-f2a9-eea2708a7480"
      },
      "execution_count": 5,
      "outputs": [
        {
          "output_type": "stream",
          "name": "stdout",
          "text": [
            "('apple',)\n"
          ]
        }
      ]
    },
    {
      "cell_type": "markdown",
      "source": [
        "## Accessing tuples with index"
      ],
      "metadata": {
        "id": "y4cbAbuwTEaX"
      }
    },
    {
      "cell_type": "markdown",
      "source": [
        "tuple supports indexing"
      ],
      "metadata": {
        "id": "1Ab-EewHTnmD"
      }
    },
    {
      "cell_type": "markdown",
      "source": [
        "Example:"
      ],
      "metadata": {
        "id": "HyU9k2FhT3j1"
      }
    },
    {
      "cell_type": "code",
      "source": [
        "mytuple= (\"apple\", \"banana\", \"cherry\")\n",
        "print(mytuple[0])"
      ],
      "metadata": {
        "colab": {
          "base_uri": "https://localhost:8080/"
        },
        "id": "N2ebowGtS2tA",
        "outputId": "0c9baf9c-e90e-4b73-cf47-7fd7fdcd3a63"
      },
      "execution_count": 6,
      "outputs": [
        {
          "output_type": "stream",
          "name": "stdout",
          "text": [
            "apple\n"
          ]
        }
      ]
    },
    {
      "cell_type": "code",
      "source": [
        "mytuple= (\"apple\", \"banana\", \"cherry\")\n",
        "print(mytuple[0])\n",
        "print(mytuple[0:9])"
      ],
      "metadata": {
        "colab": {
          "base_uri": "https://localhost:8080/"
        },
        "id": "ZZvor4sNTU-6",
        "outputId": "6d1c3667-087e-4f4e-f773-3de8454948ed"
      },
      "execution_count": 7,
      "outputs": [
        {
          "output_type": "stream",
          "name": "stdout",
          "text": [
            "apple\n",
            "('apple', 'banana', 'cherry')\n"
          ]
        }
      ]
    },
    {
      "cell_type": "markdown",
      "source": [
        "## Immutability"
      ],
      "metadata": {
        "id": "ORH727pwTk4M"
      }
    },
    {
      "cell_type": "markdown",
      "source": [
        "Once a tuple is created you can't make changes in the tuple."
      ],
      "metadata": {
        "id": "25_OUpABUBXx"
      }
    },
    {
      "cell_type": "code",
      "source": [
        "mylist = (\"apple\", \"banana\", \"cherry\")\n",
        "mylist[0] = \"orange\"\n",
        "print(mylist)"
      ],
      "metadata": {
        "colab": {
          "base_uri": "https://localhost:8080/",
          "height": 176
        },
        "id": "BqHTqa5YUaJ3",
        "outputId": "a1aba943-657d-4469-d43f-adbdf5f1d979"
      },
      "execution_count": 8,
      "outputs": [
        {
          "output_type": "error",
          "ename": "TypeError",
          "evalue": "'tuple' object does not support item assignment",
          "traceback": [
            "\u001b[0;31m---------------------------------------------------------------------------\u001b[0m",
            "\u001b[0;31mTypeError\u001b[0m                                 Traceback (most recent call last)",
            "\u001b[0;32m<ipython-input-8-832d531a9ea9>\u001b[0m in \u001b[0;36m<cell line: 2>\u001b[0;34m()\u001b[0m\n\u001b[1;32m      1\u001b[0m \u001b[0mmylist\u001b[0m \u001b[0;34m=\u001b[0m \u001b[0;34m(\u001b[0m\u001b[0;34m\"apple\"\u001b[0m\u001b[0;34m,\u001b[0m \u001b[0;34m\"banana\"\u001b[0m\u001b[0;34m,\u001b[0m \u001b[0;34m\"cherry\"\u001b[0m\u001b[0;34m)\u001b[0m\u001b[0;34m\u001b[0m\u001b[0;34m\u001b[0m\u001b[0m\n\u001b[0;32m----> 2\u001b[0;31m \u001b[0mmylist\u001b[0m\u001b[0;34m[\u001b[0m\u001b[0;36m0\u001b[0m\u001b[0;34m]\u001b[0m \u001b[0;34m=\u001b[0m \u001b[0;34m\"orange\"\u001b[0m\u001b[0;34m\u001b[0m\u001b[0;34m\u001b[0m\u001b[0m\n\u001b[0m\u001b[1;32m      3\u001b[0m \u001b[0mprint\u001b[0m\u001b[0;34m(\u001b[0m\u001b[0mmylist\u001b[0m\u001b[0;34m)\u001b[0m\u001b[0;34m\u001b[0m\u001b[0;34m\u001b[0m\u001b[0m\n",
            "\u001b[0;31mTypeError\u001b[0m: 'tuple' object does not support item assignment"
          ]
        }
      ]
    },
    {
      "cell_type": "markdown",
      "source": [
        "## Tuple Operations"
      ],
      "metadata": {
        "id": "gZvQXNt0UpaW"
      }
    },
    {
      "cell_type": "markdown",
      "source": [
        "\n",
        "\n",
        "**1.   Concatination**\n",
        "\n"
      ],
      "metadata": {
        "id": "8hX5v-MQUtco"
      }
    },
    {
      "cell_type": "markdown",
      "source": [
        "combines two tuples"
      ],
      "metadata": {
        "id": "cjy-GMajVyF5"
      }
    },
    {
      "cell_type": "code",
      "source": [
        "tuple1 = (\"a\", \"b\" , \"c\")\n",
        "tuple2 = (1, 2, 3)\n",
        "tuple3 = tuple1 + tuple2\n",
        "print(tuple3)"
      ],
      "metadata": {
        "colab": {
          "base_uri": "https://localhost:8080/"
        },
        "id": "BLITkD6fWDKW",
        "outputId": "7d039428-5ebe-442e-de31-cd5c2f8f001f"
      },
      "execution_count": 9,
      "outputs": [
        {
          "output_type": "stream",
          "name": "stdout",
          "text": [
            "('a', 'b', 'c', 1, 2, 3)\n"
          ]
        }
      ]
    },
    {
      "cell_type": "code",
      "source": [
        "tuple1 = (\"a\", \"b\" , \"c\")\n",
        "tuple2 = (1, 2, 3)\n",
        "tuple1 += tuple2\n",
        "print(tuple1)"
      ],
      "metadata": {
        "colab": {
          "base_uri": "https://localhost:8080/"
        },
        "id": "uaKUwyVebESU",
        "outputId": "f17b0d40-6c24-4dd8-a9ae-636f4082a0b1"
      },
      "execution_count": 27,
      "outputs": [
        {
          "output_type": "stream",
          "name": "stdout",
          "text": [
            "('a', 'b', 'c', 1, 2, 3)\n"
          ]
        }
      ]
    },
    {
      "cell_type": "markdown",
      "source": [
        "\n",
        "\n",
        "**2.   Repetition**\n",
        "\n"
      ],
      "metadata": {
        "id": "bXYYinS8Vmdp"
      }
    },
    {
      "cell_type": "markdown",
      "source": [
        "repeating a tuple"
      ],
      "metadata": {
        "id": "IR1gvGkpWfjk"
      }
    },
    {
      "cell_type": "code",
      "source": [
        "tuple1 = (\"a\", \"b\" , \"c\")\n",
        "tuple2 = tuple1 * 2\n",
        "print(tuple2)"
      ],
      "metadata": {
        "colab": {
          "base_uri": "https://localhost:8080/"
        },
        "id": "aC0leKzeUewo",
        "outputId": "6c48a1bd-6c87-4eb6-c190-c2c9a0456e56"
      },
      "execution_count": 10,
      "outputs": [
        {
          "output_type": "stream",
          "name": "stdout",
          "text": [
            "('a', 'b', 'c', 'a', 'b', 'c')\n"
          ]
        }
      ]
    },
    {
      "cell_type": "code",
      "source": [
        "tuple1 = (\"a\", \"b\" , \"c\")\n",
        "tuple1 *= 2\n",
        "print(tuple1)"
      ],
      "metadata": {
        "colab": {
          "base_uri": "https://localhost:8080/"
        },
        "id": "buyahQ_3bQxe",
        "outputId": "745c039d-7ab3-41d0-b7dc-97f406447bd9"
      },
      "execution_count": 28,
      "outputs": [
        {
          "output_type": "stream",
          "name": "stdout",
          "text": [
            "('a', 'b', 'c', 'a', 'b', 'c')\n"
          ]
        }
      ]
    },
    {
      "cell_type": "markdown",
      "source": [
        "## Tuple Methods"
      ],
      "metadata": {
        "id": "QMovwQcYXJ_9"
      }
    },
    {
      "cell_type": "markdown",
      "source": [
        "\n",
        "\n",
        "**1.   index():**\n",
        "\n"
      ],
      "metadata": {
        "id": "9PPvs0GhXNk7"
      }
    },
    {
      "cell_type": "markdown",
      "source": [
        "returns the index of the item."
      ],
      "metadata": {
        "id": "EyMq1LlyZYEZ"
      }
    },
    {
      "cell_type": "code",
      "source": [
        "thistuple = (\"apple\", \"banana\", \"cherry\")\n",
        "x = thistuple.index(\"cherry\")\n",
        "print(x)"
      ],
      "metadata": {
        "colab": {
          "base_uri": "https://localhost:8080/"
        },
        "id": "OAQWyApNX9GL",
        "outputId": "a5d32d73-c9a8-44bb-a2a1-8fe7a5ba4ff6"
      },
      "execution_count": 11,
      "outputs": [
        {
          "output_type": "stream",
          "name": "stdout",
          "text": [
            "2\n"
          ]
        }
      ]
    },
    {
      "cell_type": "code",
      "source": [
        "mytuple = (2, 4, 6, 3, 7, 9)\n",
        "print(mytuple.index(7))"
      ],
      "metadata": {
        "colab": {
          "base_uri": "https://localhost:8080/"
        },
        "id": "w0V9-9TyaHln",
        "outputId": "1a5d1258-0939-4a30-cba5-18eef4d106bb"
      },
      "execution_count": 19,
      "outputs": [
        {
          "output_type": "stream",
          "name": "stdout",
          "text": [
            "4\n"
          ]
        }
      ]
    },
    {
      "cell_type": "markdown",
      "source": [
        "\n",
        "\n",
        "**2.   count():**\n",
        "\n"
      ],
      "metadata": {
        "id": "Pda_MhthXVRq"
      }
    },
    {
      "cell_type": "markdown",
      "source": [
        "returns the count of the item."
      ],
      "metadata": {
        "id": "ENTnm1AqZcoA"
      }
    },
    {
      "cell_type": "code",
      "source": [
        "thistuple = (\"apple\", \"banana\", \"cherry\", \"apple\")\n",
        "x = thistuple.count(\"apple\")\n",
        "print(x)"
      ],
      "metadata": {
        "colab": {
          "base_uri": "https://localhost:8080/"
        },
        "id": "E_38kBZCYH8l",
        "outputId": "1ec1e80c-de85-4c3f-9828-570726a328c8"
      },
      "execution_count": 12,
      "outputs": [
        {
          "output_type": "stream",
          "name": "stdout",
          "text": [
            "2\n"
          ]
        }
      ]
    },
    {
      "cell_type": "code",
      "source": [
        "mytuple = (2, 4, 6, 3, 7, 9, 7)\n",
        "print(mytuple.count(7))"
      ],
      "metadata": {
        "colab": {
          "base_uri": "https://localhost:8080/"
        },
        "id": "NKHkfhfnaj2Y",
        "outputId": "8a944b0f-f56f-41eb-a47c-d4d0dac86af2"
      },
      "execution_count": 20,
      "outputs": [
        {
          "output_type": "stream",
          "name": "stdout",
          "text": [
            "2\n"
          ]
        }
      ]
    },
    {
      "cell_type": "markdown",
      "source": [
        "\n",
        "\n",
        "**3.   len():**\n",
        "\n"
      ],
      "metadata": {
        "id": "XUF2s-K8Xd6M"
      }
    },
    {
      "cell_type": "markdown",
      "source": [
        "returns the length of the tuple."
      ],
      "metadata": {
        "id": "ktUq3XdkZky-"
      }
    },
    {
      "cell_type": "code",
      "source": [
        "thistuple = (\"apple\", \"banana\", \"cherry\")\n",
        "x = len(thistuple)\n",
        "print(x)"
      ],
      "metadata": {
        "colab": {
          "base_uri": "https://localhost:8080/"
        },
        "id": "osyuVKxsYVya",
        "outputId": "88e58766-aebe-4e71-d88b-d4c811488eb2"
      },
      "execution_count": 13,
      "outputs": [
        {
          "output_type": "stream",
          "name": "stdout",
          "text": [
            "3\n"
          ]
        }
      ]
    },
    {
      "cell_type": "code",
      "source": [
        "mytuple = (2, 4, 6, 3, 7, 9)\n",
        "print(len(mytuple))"
      ],
      "metadata": {
        "colab": {
          "base_uri": "https://localhost:8080/"
        },
        "id": "45mfWXNkapVC",
        "outputId": "4398c84b-760a-4e8a-92b2-df4f02f3a954"
      },
      "execution_count": 21,
      "outputs": [
        {
          "output_type": "stream",
          "name": "stdout",
          "text": [
            "6\n"
          ]
        }
      ]
    },
    {
      "cell_type": "markdown",
      "source": [
        "\n",
        "\n",
        "**4.   min():**\n",
        "\n"
      ],
      "metadata": {
        "id": "VhjoZSQjXmLY"
      }
    },
    {
      "cell_type": "markdown",
      "source": [
        "returns the minimum element in a tuple."
      ],
      "metadata": {
        "id": "zWlb569IZrO4"
      }
    },
    {
      "cell_type": "code",
      "source": [
        "thistuple = (1, 2, 3)\n",
        "x = min(thistuple)\n",
        "print(x)"
      ],
      "metadata": {
        "colab": {
          "base_uri": "https://localhost:8080/"
        },
        "id": "n39DYeX1YkhZ",
        "outputId": "c7fda3a8-949f-48bb-e3de-c871e668db77"
      },
      "execution_count": 14,
      "outputs": [
        {
          "output_type": "stream",
          "name": "stdout",
          "text": [
            "1\n"
          ]
        }
      ]
    },
    {
      "cell_type": "code",
      "source": [
        "mytuple = (\"apple\", \"Banana\", \"cherry\")\n",
        "print(min(mytuple))"
      ],
      "metadata": {
        "colab": {
          "base_uri": "https://localhost:8080/"
        },
        "id": "m1JeRRmpaviq",
        "outputId": "8ed81ef4-1da5-4c77-93cc-458a297f2663"
      },
      "execution_count": 24,
      "outputs": [
        {
          "output_type": "stream",
          "name": "stdout",
          "text": [
            "Banana\n"
          ]
        }
      ]
    },
    {
      "cell_type": "markdown",
      "source": [
        "\n",
        "\n",
        "**5.   max():**\n",
        "\n"
      ],
      "metadata": {
        "id": "FcikQefiXtnd"
      }
    },
    {
      "cell_type": "markdown",
      "source": [
        "returns the maximum element in the tuple."
      ],
      "metadata": {
        "id": "OJIDl6OtZzqh"
      }
    },
    {
      "cell_type": "code",
      "source": [
        "thistuple = (1, 2, 3)\n",
        "x = max(thistuple)\n",
        "print(x)"
      ],
      "metadata": {
        "colab": {
          "base_uri": "https://localhost:8080/"
        },
        "id": "0vHZmr2yYw8o",
        "outputId": "7c1c8c62-fc0e-4059-f0ec-7bab273443f2"
      },
      "execution_count": 16,
      "outputs": [
        {
          "output_type": "stream",
          "name": "stdout",
          "text": [
            "3\n"
          ]
        }
      ]
    },
    {
      "cell_type": "code",
      "source": [
        "mytuple = (\"apple\", \"Banana\", \"cherry\")\n",
        "print(max(mytuple))"
      ],
      "metadata": {
        "colab": {
          "base_uri": "https://localhost:8080/"
        },
        "id": "bLas7sd5a9Xz",
        "outputId": "4900731b-71ff-4fff-dcd4-0d5e039b3b09"
      },
      "execution_count": 25,
      "outputs": [
        {
          "output_type": "stream",
          "name": "stdout",
          "text": [
            "cherry\n"
          ]
        }
      ]
    },
    {
      "cell_type": "markdown",
      "source": [
        "\n",
        "\n",
        "**6.   del():**\n",
        "\n"
      ],
      "metadata": {
        "id": "HpOrpZHbXzgD"
      }
    },
    {
      "cell_type": "markdown",
      "source": [
        "deletes the entire tuple."
      ],
      "metadata": {
        "id": "E2MpwROxZ8rd"
      }
    },
    {
      "cell_type": "code",
      "source": [
        "thistuple = (\"apple\", \"banana\", \"cherry\")\n",
        "del thistuple\n",
        "print(thistuple) # error causes because tuple named thistuple does not exist"
      ],
      "metadata": {
        "colab": {
          "base_uri": "https://localhost:8080/",
          "height": 176
        },
        "id": "jRxNi7-nZC42",
        "outputId": "4fe065d5-ecd8-48bd-838e-d1e228fe2414"
      },
      "execution_count": 18,
      "outputs": [
        {
          "output_type": "error",
          "ename": "NameError",
          "evalue": "name 'thistuple' is not defined",
          "traceback": [
            "\u001b[0;31m---------------------------------------------------------------------------\u001b[0m",
            "\u001b[0;31mNameError\u001b[0m                                 Traceback (most recent call last)",
            "\u001b[0;32m<ipython-input-18-6ffedde97d5c>\u001b[0m in \u001b[0;36m<cell line: 3>\u001b[0;34m()\u001b[0m\n\u001b[1;32m      1\u001b[0m \u001b[0mthistuple\u001b[0m \u001b[0;34m=\u001b[0m \u001b[0;34m(\u001b[0m\u001b[0;34m\"apple\"\u001b[0m\u001b[0;34m,\u001b[0m \u001b[0;34m\"banana\"\u001b[0m\u001b[0;34m,\u001b[0m \u001b[0;34m\"cherry\"\u001b[0m\u001b[0;34m)\u001b[0m\u001b[0;34m\u001b[0m\u001b[0;34m\u001b[0m\u001b[0m\n\u001b[1;32m      2\u001b[0m \u001b[0;32mdel\u001b[0m \u001b[0mthistuple\u001b[0m\u001b[0;34m\u001b[0m\u001b[0;34m\u001b[0m\u001b[0m\n\u001b[0;32m----> 3\u001b[0;31m \u001b[0mprint\u001b[0m\u001b[0;34m(\u001b[0m\u001b[0mthistuple\u001b[0m\u001b[0;34m)\u001b[0m \u001b[0;31m# error causes because tuple named thistuple does not exist\u001b[0m\u001b[0;34m\u001b[0m\u001b[0;34m\u001b[0m\u001b[0m\n\u001b[0m",
            "\u001b[0;31mNameError\u001b[0m: name 'thistuple' is not defined"
          ]
        }
      ]
    }
  ]
}