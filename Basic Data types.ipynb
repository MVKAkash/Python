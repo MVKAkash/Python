{
  "nbformat": 4,
  "nbformat_minor": 0,
  "metadata": {
    "colab": {
      "provenance": []
    },
    "kernelspec": {
      "name": "python3",
      "display_name": "Python 3"
    },
    "language_info": {
      "name": "python"
    }
  },
  "cells": [
    {
      "cell_type": "markdown",
      "source": [
        "# **Data Types in Python**"
      ],
      "metadata": {
        "id": "yKFVxEe67nE5"
      }
    },
    {
      "cell_type": "markdown",
      "source": [
        "Python data types can be broadly classified into two categories: Basic and Advanced."
      ],
      "metadata": {
        "id": "3y-JtJZNCdfO"
      }
    },
    {
      "cell_type": "markdown",
      "source": [
        "## Basic Data Types in Python"
      ],
      "metadata": {
        "id": "YAczRfej724m"
      }
    },
    {
      "cell_type": "markdown",
      "source": [
        "## *   **int:**\n",
        "\n",
        "Represents integer values, both positive and negative, without a fractional component."
      ],
      "metadata": {
        "id": "mb-HrIv4_rH9"
      }
    },
    {
      "cell_type": "markdown",
      "source": [
        "**Example:** '5', '-10', '0', '2024', '-12345', '999', '-1', '45000', '-9765', '7'."
      ],
      "metadata": {
        "id": "NHuNhYkMA5rq"
      }
    },
    {
      "cell_type": "markdown",
      "source": [
        "### *   **float:**\n",
        "\n",
        "Represents real numbers with a fractional component (decimals)."
      ],
      "metadata": {
        "id": "D2DCopjG_8h4"
      }
    },
    {
      "cell_type": "markdown",
      "source": [
        "**Example:** '3.14', '-0.001', '2.71828',\n",
        "'-45.67',\n",
        "'0.0',\n",
        "'1.2345e2' (which is 123.45),\n",
        "'-6.022e23' (which is -6.022 × 10²³),\n",
        "'7.89',\n",
        "'0.3333',\n",
        "'-9.81'."
      ],
      "metadata": {
        "id": "hc_EJta8A0Oi"
      }
    },
    {
      "cell_type": "markdown",
      "source": [
        "### *   **boolean:**\n",
        "\n",
        "Represents truth values, typically used in conditional statements.\n"
      ],
      "metadata": {
        "id": "o97K_JTcAQpP"
      }
    },
    {
      "cell_type": "markdown",
      "source": [
        "**Only possible values:** '1' or '0' and 'True' or 'False'."
      ],
      "metadata": {
        "id": "d2_V5cT1BAOl"
      }
    },
    {
      "cell_type": "markdown",
      "source": [
        "\n",
        "\n",
        "\n",
        "\n",
        "\n",
        "\n",
        "\n",
        "### *   **complex:**\n",
        "\n",
        "Represents complex numbers, which have a real and an imaginary part.\n"
      ],
      "metadata": {
        "id": "S8n9dlN29Ukk"
      }
    },
    {
      "cell_type": "markdown",
      "source": [
        "**Example:** '3 + 4j', where '3' is the real part and '4j' is the imaginary part. more examples: '-3 - 4j',\n",
        "'5 + 0j',\n",
        "'-0.5 + 0.5j',\n",
        "'3j' (which is 0 + 3j),\n",
        "'-2j' (which is 0 - 2j),\n",
        "'6 - 1j',\n",
        "'2 + 3.5j',\n",
        "'-7.2 + 8j',\n",
        "'0.001 + 0.002j'."
      ],
      "metadata": {
        "id": "3GDPJR4R_W_0"
      }
    },
    {
      "cell_type": "code",
      "source": [
        "x = 7 #int\n",
        "y = 2.9 #float\n",
        "z = 1j #complex\n",
        "print(type(x))\n",
        "print(type(y))\n",
        "print(type(z))"
      ],
      "metadata": {
        "colab": {
          "base_uri": "https://localhost:8080/"
        },
        "id": "FJu7wL8VuNL7",
        "outputId": "2e193a12-ae18-4638-f2c8-b7283bf603cc"
      },
      "execution_count": 5,
      "outputs": [
        {
          "output_type": "stream",
          "name": "stdout",
          "text": [
            "<class 'int'>\n",
            "<class 'float'>\n",
            "<class 'complex'>\n"
          ]
        }
      ]
    },
    {
      "cell_type": "markdown",
      "source": [
        "## Type Conversion"
      ],
      "metadata": {
        "id": "FpljtjiyAeyH"
      }
    },
    {
      "cell_type": "code",
      "source": [
        "x = 7\n",
        "y = 2.9\n",
        "z = 1j\n",
        "# int to float\n",
        "a = float(x)\n",
        "# float to int\n",
        "b = int(y)\n",
        "# int to complex\n",
        "c = complex(x)\n",
        "# float to complex\n",
        "d = complex(y)\n",
        "print(a)\n",
        "print(b)\n",
        "print(c)\n",
        "print(d)\n",
        "print(type(a))\n",
        "print(type(b))\n",
        "print(type(c))\n",
        "print(type(d))"
      ],
      "metadata": {
        "colab": {
          "base_uri": "https://localhost:8080/"
        },
        "id": "lD_tZMoauTmc",
        "outputId": "00141fd7-12e8-40b2-dbde-eac843d28f0f"
      },
      "execution_count": 6,
      "outputs": [
        {
          "output_type": "stream",
          "name": "stdout",
          "text": [
            "7.0\n",
            "2\n",
            "(7+0j)\n",
            "(2.9+0j)\n",
            "<class 'float'>\n",
            "<class 'int'>\n",
            "<class 'complex'>\n",
            "<class 'complex'>\n"
          ]
        }
      ]
    }
  ]
}