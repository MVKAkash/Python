{
  "nbformat": 4,
  "nbformat_minor": 0,
  "metadata": {
    "colab": {
      "provenance": []
    },
    "kernelspec": {
      "name": "python3",
      "display_name": "Python 3"
    },
    "language_info": {
      "name": "python"
    }
  },
  "cells": [
    {
      "cell_type": "markdown",
      "source": [
        "# **Python Sets**"
      ],
      "metadata": {
        "id": "U1DYkPe3XZmU"
      }
    },
    {
      "cell_type": "markdown",
      "source": [
        "\n",
        "\n",
        "*   Sets are used to store multiple items in a single variable.\n",
        "*   Set is one of 4 built-in data types in Python used to store collections of data, the other 3 are List, Tuple, and Dictionary, all with different qualities and usage.\n",
        "\n",
        "*   It is an unordered collection of unique items.\n",
        "*   Sets are written with curly brackets {}.\n",
        "\n",
        "*   Set items are unchangeable, but you can remove items and add new items.\n",
        "\n",
        "*   Sets cannot have two items with the same value.\n",
        "\n",
        "\n",
        "\n",
        "\n",
        "\n",
        "\n",
        "\n",
        "\n"
      ],
      "metadata": {
        "id": "zx3aDhIgX1Jn"
      }
    },
    {
      "cell_type": "markdown",
      "source": [
        "## Creating Sets"
      ],
      "metadata": {
        "id": "rGfaelhYZjs-"
      }
    },
    {
      "cell_type": "code",
      "source": [
        "myset = {\"apple\", \"banana\", \"cherry\"} # myset with elements"
      ],
      "metadata": {
        "id": "vaWK-VzeXwXs"
      },
      "execution_count": 3,
      "outputs": []
    },
    {
      "cell_type": "code",
      "source": [
        "print(myset)"
      ],
      "metadata": {
        "colab": {
          "base_uri": "https://localhost:8080/"
        },
        "id": "mqKWDbk4ZtgX",
        "outputId": "e2035b0f-9860-48cc-fb62-7175a5138195"
      },
      "execution_count": 4,
      "outputs": [
        {
          "output_type": "stream",
          "name": "stdout",
          "text": [
            "{'banana', 'apple', 'cherry'}\n"
          ]
        }
      ]
    },
    {
      "cell_type": "markdown",
      "source": [
        "## Converting a list to set"
      ],
      "metadata": {
        "id": "763i49NcaXC7"
      }
    },
    {
      "cell_type": "code",
      "source": [
        "num = set([1,2,3,4,5]) # num list conversion to set\n",
        "num"
      ],
      "metadata": {
        "colab": {
          "base_uri": "https://localhost:8080/"
        },
        "id": "UltdIDC8aAI-",
        "outputId": "0ca8d2fb-ac10-4a3d-be94-705364dfd7a9"
      },
      "execution_count": 6,
      "outputs": [
        {
          "output_type": "execute_result",
          "data": {
            "text/plain": [
              "{1, 2, 3, 4, 5}"
            ]
          },
          "metadata": {},
          "execution_count": 6
        }
      ]
    },
    {
      "cell_type": "code",
      "source": [
        "print(type(num))"
      ],
      "metadata": {
        "colab": {
          "base_uri": "https://localhost:8080/"
        },
        "id": "uWZnBnq-a00N",
        "outputId": "e7cad208-6fd5-4767-ad5f-0a95fc9ed5f1"
      },
      "execution_count": 8,
      "outputs": [
        {
          "output_type": "stream",
          "name": "stdout",
          "text": [
            "<class 'set'>\n"
          ]
        }
      ]
    },
    {
      "cell_type": "code",
      "source": [
        "numbers = {1, 2, 3, 4, 5, 6, 7, 8, 9, 2, 4, 6, 8, 10, 3, 1, 5, 6} # duplicate elements\n",
        "numbers"
      ],
      "metadata": {
        "colab": {
          "base_uri": "https://localhost:8080/"
        },
        "id": "2xpjgyk4a7Ee",
        "outputId": "03042a61-c48e-46ca-d665-12fb4e374a76"
      },
      "execution_count": 9,
      "outputs": [
        {
          "output_type": "execute_result",
          "data": {
            "text/plain": [
              "{1, 2, 3, 4, 5, 6, 7, 8, 9, 10}"
            ]
          },
          "metadata": {},
          "execution_count": 9
        }
      ]
    },
    {
      "cell_type": "code",
      "source": [
        "highnums = {23, 46, 72, 69, 33, 50, 12, 4, 59, 23, 69, 72} # duplicate elements\n",
        "highnums"
      ],
      "metadata": {
        "colab": {
          "base_uri": "https://localhost:8080/"
        },
        "id": "Dz9_UcQxbm2l",
        "outputId": "3f3e01f4-bcee-40bc-e8e2-2bc49b2bbabb"
      },
      "execution_count": 10,
      "outputs": [
        {
          "output_type": "execute_result",
          "data": {
            "text/plain": [
              "{4, 12, 23, 33, 46, 50, 59, 69, 72}"
            ]
          },
          "metadata": {},
          "execution_count": 10
        }
      ]
    },
    {
      "cell_type": "code",
      "source": [
        "mixnums = {46, 64, 52, 73, 55, 98, 87, 52, 64, 73, 98} # duplicate elements\n",
        "mixnums"
      ],
      "metadata": {
        "colab": {
          "base_uri": "https://localhost:8080/"
        },
        "id": "rRI_LkBqcKmf",
        "outputId": "0963024f-cfea-48dd-b074-79c9bc047e27"
      },
      "execution_count": 11,
      "outputs": [
        {
          "output_type": "execute_result",
          "data": {
            "text/plain": [
              "{46, 52, 55, 64, 73, 87, 98}"
            ]
          },
          "metadata": {},
          "execution_count": 11
        }
      ]
    },
    {
      "cell_type": "markdown",
      "source": [
        "## Add Items"
      ],
      "metadata": {
        "id": "7JvU_jfycwUX"
      }
    },
    {
      "cell_type": "markdown",
      "source": [
        "To add one item to a set use the add() method."
      ],
      "metadata": {
        "id": "g3ODgy12cziK"
      }
    },
    {
      "cell_type": "code",
      "source": [
        "myset = {\"apple\", \"banana\", \"cherry\"}\n",
        "myset.add(\"orange\")\n",
        "print(myset)"
      ],
      "metadata": {
        "colab": {
          "base_uri": "https://localhost:8080/"
        },
        "id": "-Vvnfah9ccgO",
        "outputId": "c41bff26-5081-417b-9d8f-8fae4a66597b"
      },
      "execution_count": 12,
      "outputs": [
        {
          "output_type": "stream",
          "name": "stdout",
          "text": [
            "{'orange', 'banana', 'apple', 'cherry'}\n"
          ]
        }
      ]
    },
    {
      "cell_type": "code",
      "source": [
        "numbers = {1, 2, 3, 4, 5, 6, 7, 8, 9, 2, 4, 6, 8, 10, 3, 1, 5, 6}\n",
        "numbers.add(\"allnumbers\")\n",
        "print(numbers)"
      ],
      "metadata": {
        "colab": {
          "base_uri": "https://localhost:8080/"
        },
        "id": "VEDtRxkPdgYq",
        "outputId": "f164062e-9304-4499-9193-79abe19c4487"
      },
      "execution_count": 14,
      "outputs": [
        {
          "output_type": "stream",
          "name": "stdout",
          "text": [
            "{1, 2, 3, 4, 5, 6, 7, 8, 9, 10, 'allnumbers'}\n"
          ]
        }
      ]
    },
    {
      "cell_type": "markdown",
      "source": [
        "## Update sets"
      ],
      "metadata": {
        "id": "zJ8YweWzd8eI"
      }
    },
    {
      "cell_type": "markdown",
      "source": [
        "The object in the update() method does not have to be a set, it can be any iterable object (tuples, lists, dictionaries etc.)."
      ],
      "metadata": {
        "id": "KZU-T9YZeTNm"
      }
    },
    {
      "cell_type": "code",
      "source": [
        "myset = {\"apple\", \"banana\", \"cherry\"}\n",
        "numbers = {1, 2, 3, 4, 5, 6, 7, 8, 9, 2, 4, 6, 8, 10, 3, 1, 5, 6}\n",
        "myset.update(numbers)\n",
        "print(myset)"
      ],
      "metadata": {
        "colab": {
          "base_uri": "https://localhost:8080/"
        },
        "id": "hfyckWn-d54G",
        "outputId": "cc98c3ce-fb73-43fe-857f-3b7054ecf462"
      },
      "execution_count": 16,
      "outputs": [
        {
          "output_type": "stream",
          "name": "stdout",
          "text": [
            "{1, 2, 3, 'banana', 4, 'apple', 5, 6, 7, 8, 9, 10, 'cherry'}\n"
          ]
        }
      ]
    },
    {
      "cell_type": "markdown",
      "source": [
        "## Remove a set element"
      ],
      "metadata": {
        "id": "5v22-wf2ehyB"
      }
    },
    {
      "cell_type": "markdown",
      "source": [
        "To remove an item in a set, use the remove(), or the discard() method."
      ],
      "metadata": {
        "id": "kiuLRn-neozn"
      }
    },
    {
      "cell_type": "code",
      "source": [
        "myset = {\"apple\", \"banana\", \"cherry\"}\n",
        "myset.remove(\"banana\")\n",
        "print(myset)"
      ],
      "metadata": {
        "colab": {
          "base_uri": "https://localhost:8080/"
        },
        "id": "i5mtCxgLeL8S",
        "outputId": "9a1637dc-2449-4318-811e-4b03000e783e"
      },
      "execution_count": 17,
      "outputs": [
        {
          "output_type": "stream",
          "name": "stdout",
          "text": [
            "{'apple', 'cherry'}\n"
          ]
        }
      ]
    },
    {
      "cell_type": "code",
      "source": [
        "numbers = {1, 2, 3, 4, 5, 6, 7, 8, 9, 2, 4, 6, 8, 10, 3, 1, 5, 6}\n",
        "print(\"Before removing 10\")\n",
        "print(numbers)\n",
        "numbers.discard(10) # using discard()\n",
        "print(\"After removing 10\")\n",
        "print(numbers)"
      ],
      "metadata": {
        "colab": {
          "base_uri": "https://localhost:8080/"
        },
        "id": "B7DvRI1_fEQd",
        "outputId": "dbc201a2-1908-42ef-acf2-ba3d70276223"
      },
      "execution_count": 20,
      "outputs": [
        {
          "output_type": "stream",
          "name": "stdout",
          "text": [
            "Before removing 10\n",
            "{1, 2, 3, 4, 5, 6, 7, 8, 9, 10}\n",
            "After removing 10\n",
            "{1, 2, 3, 4, 5, 6, 7, 8, 9}\n"
          ]
        }
      ]
    },
    {
      "cell_type": "markdown",
      "source": [
        "## Set operations"
      ],
      "metadata": {
        "id": "HsmRYBerf3Z-"
      }
    },
    {
      "cell_type": "markdown",
      "source": [
        "Set provides built-in methods such as union, intersection, substraction and symmetric difference to perform mathematical operations among sets."
      ],
      "metadata": {
        "id": "FmHzmgvpgBw2"
      }
    },
    {
      "cell_type": "markdown",
      "source": [
        "\n",
        "\n",
        "**1.   Union:**\n",
        "\n"
      ],
      "metadata": {
        "id": "bNj8cz2Wgwc5"
      }
    },
    {
      "cell_type": "markdown",
      "source": [
        "combines elements from two sets, removing duplicates."
      ],
      "metadata": {
        "id": "4tXKD-nuhJ8-"
      }
    },
    {
      "cell_type": "code",
      "source": [
        "a = {1, 2, 3}\n",
        "b = {3, 4, 5}\n",
        "\n",
        "print(\"a|b :\", a|b)\n",
        "\n",
        "union_set = a.union(b)\n",
        "print(\"a.union(b):\",union_set)"
      ],
      "metadata": {
        "colab": {
          "base_uri": "https://localhost:8080/"
        },
        "id": "-Uo21vJqfEy6",
        "outputId": "f6e4600b-73c3-415c-b23f-85921342ff62"
      },
      "execution_count": 23,
      "outputs": [
        {
          "output_type": "stream",
          "name": "stdout",
          "text": [
            "a|b : {1, 2, 3, 4, 5}\n",
            "a.union(b): {1, 2, 3, 4, 5}\n"
          ]
        }
      ]
    },
    {
      "cell_type": "code",
      "source": [
        "a = {91, 22, 43, 89}\n",
        "b = {35, 43, 57, 89}\n",
        "\n",
        "print(\"a|b :\", a|b)\n",
        "\n",
        "union_set = a.union(b)\n",
        "print(\"a.union(b):\",union_set)"
      ],
      "metadata": {
        "colab": {
          "base_uri": "https://localhost:8080/"
        },
        "id": "Qqx7uGq_hvxK",
        "outputId": "1724a10e-be95-480c-b8f2-929f13875530"
      },
      "execution_count": 24,
      "outputs": [
        {
          "output_type": "stream",
          "name": "stdout",
          "text": [
            "a|b : {35, 43, 22, 89, 91, 57}\n",
            "a.union(b): {35, 43, 22, 89, 91, 57}\n"
          ]
        }
      ]
    },
    {
      "cell_type": "markdown",
      "source": [
        "\n",
        "\n",
        "\n",
        "**2.   Intersection():**\n",
        "\n"
      ],
      "metadata": {
        "id": "sXglBPN6iTaI"
      }
    },
    {
      "cell_type": "markdown",
      "source": [
        "Returns common elements between two sets."
      ],
      "metadata": {
        "id": "eNO5TixXieq9"
      }
    },
    {
      "cell_type": "code",
      "source": [
        "a = {91, 22, 43, 89}\n",
        "b = {35, 43, 57, 89}\n",
        "\n",
        "print(\"a.intersection(b):\", a.intersection(b) )\n",
        "\n",
        "print(\"a & b:\",a & b)"
      ],
      "metadata": {
        "colab": {
          "base_uri": "https://localhost:8080/"
        },
        "id": "P-tbqMhdiIAB",
        "outputId": "3838a9bf-d598-4efe-8ab0-5e3cf6a5e3a9"
      },
      "execution_count": 26,
      "outputs": [
        {
          "output_type": "stream",
          "name": "stdout",
          "text": [
            "a.intersection(b): {89, 43}\n",
            "a & b: {89, 43}\n"
          ]
        }
      ]
    },
    {
      "cell_type": "markdown",
      "source": [
        "\n",
        "\n",
        "**3.   Difference:**\n",
        "\n"
      ],
      "metadata": {
        "id": "5QI3MwkMjb2o"
      }
    },
    {
      "cell_type": "markdown",
      "source": [
        "Finds the elements that are present in the first set but not in the second set."
      ],
      "metadata": {
        "id": "ekvQRZd2j5Y5"
      }
    },
    {
      "cell_type": "code",
      "source": [
        "a = {91, 22, 43, 89}\n",
        "b = {35, 43, 57, 89}\n",
        "\n",
        "print(\"a.difference(b):\", a.difference(b) )\n",
        "\n",
        "print(\"a - b:\",a - b)"
      ],
      "metadata": {
        "colab": {
          "base_uri": "https://localhost:8080/"
        },
        "id": "4qigKenLjF6S",
        "outputId": "d4220970-e919-4bcc-8100-661f9ea80b62"
      },
      "execution_count": 27,
      "outputs": [
        {
          "output_type": "stream",
          "name": "stdout",
          "text": [
            "a.difference(b): {91, 22}\n",
            "a - b: {91, 22}\n"
          ]
        }
      ]
    },
    {
      "cell_type": "code",
      "source": [
        "a = {91, 22, 43, 89}\n",
        "b = {35, 43, 57, 89}\n",
        "\n",
        "print(\"b.difference(a):\", b.difference(a) )\n",
        "\n",
        "print(\"b - a:\",b - a)"
      ],
      "metadata": {
        "colab": {
          "base_uri": "https://localhost:8080/"
        },
        "id": "elVD2xmAlV9T",
        "outputId": "fd8f535a-54d6-4614-fcba-e372a1801ae6"
      },
      "execution_count": 29,
      "outputs": [
        {
          "output_type": "stream",
          "name": "stdout",
          "text": [
            "b.difference(a): {57, 35}\n",
            "b - a: {57, 35}\n"
          ]
        }
      ]
    },
    {
      "cell_type": "markdown",
      "source": [
        "\n",
        "\n",
        "\n",
        "**4.   Symmetric Difference:**\n",
        "\n"
      ],
      "metadata": {
        "id": "no96c0XWkOTP"
      }
    },
    {
      "cell_type": "markdown",
      "source": [
        "Finds the elements that are present in either set, but not in both sets."
      ],
      "metadata": {
        "id": "PDabzxl1kWsO"
      }
    },
    {
      "cell_type": "code",
      "source": [
        "a = {91, 22, 43, 89}\n",
        "b = {35, 43, 57, 89}\n",
        "\n",
        "print(\"a.symmetric_difference(b):\", a.symmetric_difference(b) )\n",
        "\n",
        "print(\"a ^ b:\",a ^ b)"
      ],
      "metadata": {
        "colab": {
          "base_uri": "https://localhost:8080/"
        },
        "id": "3iS_KW-zkMI-",
        "outputId": "1458ae10-3d6a-46e0-c91a-de5f1c6010d5"
      },
      "execution_count": 28,
      "outputs": [
        {
          "output_type": "stream",
          "name": "stdout",
          "text": [
            "a.symmetric_difference(b): {35, 22, 57, 91}\n",
            "a ^ b: {35, 22, 57, 91}\n"
          ]
        }
      ]
    }
  ]
}