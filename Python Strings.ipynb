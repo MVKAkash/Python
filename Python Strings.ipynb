{
  "nbformat": 4,
  "nbformat_minor": 0,
  "metadata": {
    "colab": {
      "provenance": []
    },
    "kernelspec": {
      "name": "python3",
      "display_name": "Python 3"
    },
    "language_info": {
      "name": "python"
    }
  },
  "cells": [
    {
      "cell_type": "markdown",
      "source": [
        "# **Strings in Python**"
      ],
      "metadata": {
        "id": "G8t11o9KKpqI"
      }
    },
    {
      "cell_type": "markdown",
      "source": [
        "## What is string in python?"
      ],
      "metadata": {
        "id": "-2ygyJ70K3ON"
      }
    },
    {
      "cell_type": "markdown",
      "source": [
        "*   In Python, strings are used for representing textual data.\n",
        "*   A string is a sequence of characters enclosed in either single quotes ('') or double quotes (\" \").\n",
        "*   The Python language provides various built-in methods and functionalities to work with strings efficiently.\n",
        "*   Once created, the content of a string cannot be changed.\n",
        "*   Python provides a wide range of built-in methods and operations to manipulate and work with strings effectively.\n",
        "*   It's a fundamental data type used to represent textual data."
      ],
      "metadata": {
        "id": "ZfZ27hu0LIGg"
      }
    },
    {
      "cell_type": "markdown",
      "source": [
        "Example:"
      ],
      "metadata": {
        "id": "xBoPy3JVMF2e"
      }
    },
    {
      "cell_type": "code",
      "source": [
        "my_string = 'Hello, world!'\n",
        "my_string = \"Hello, world!\"\n",
        "my_string = '''Hello, world!'''"
      ],
      "metadata": {
        "id": "sKa187ziMFRU"
      },
      "execution_count": null,
      "outputs": []
    },
    {
      "cell_type": "markdown",
      "source": [
        "## Representation of String"
      ],
      "metadata": {
        "id": "8-4cknz-Kop3"
      }
    },
    {
      "cell_type": "code",
      "source": [
        "string1 = \"This is a string.\"\n",
        "string2 = 'string with single quotes.'\n",
        "string3 = \"12345\"\n",
        "string4 = \"Hello World!\"\n",
        "string5 = \"Python is fun!\""
      ],
      "metadata": {
        "id": "nXpR5rhAMrHI"
      },
      "execution_count": null,
      "outputs": []
    },
    {
      "cell_type": "markdown",
      "source": [
        "## String Operations:"
      ],
      "metadata": {
        "id": "aaiCOqR2NP3Y"
      }
    },
    {
      "cell_type": "markdown",
      "source": [
        "\n",
        "\n",
        "**1.   Concatenation:**\n"
      ],
      "metadata": {
        "id": "PLzE7WlzNYb0"
      }
    },
    {
      "cell_type": "markdown",
      "source": [
        "String concatenation means add strings together. Use the + character to add a variable to another variable."
      ],
      "metadata": {
        "id": "GESMi0q9NqxZ"
      }
    },
    {
      "cell_type": "code",
      "source": [
        "result = string1 + string2 + string3 + string4 + string5\n",
        "print(result)"
      ],
      "metadata": {
        "colab": {
          "base_uri": "https://localhost:8080/"
        },
        "id": "2hqSSFoqNCYf",
        "outputId": "621b8252-533b-4526-f60c-99df506c1e65"
      },
      "execution_count": null,
      "outputs": [
        {
          "output_type": "stream",
          "name": "stdout",
          "text": [
            "This is a string.string with single quotes.12345Hello World!Python is fun!\n"
          ]
        }
      ]
    },
    {
      "cell_type": "code",
      "source": [
        "result1 = string1 + \" \" + string2 + \" \" + string3 + \" \" + string4 + \" \" + string5\n",
        "print(result1)"
      ],
      "metadata": {
        "colab": {
          "base_uri": "https://localhost:8080/"
        },
        "id": "1XwkC7RGN6eA",
        "outputId": "9ea345d0-3069-4570-b4b9-b8f4db9a243b"
      },
      "execution_count": null,
      "outputs": [
        {
          "output_type": "stream",
          "name": "stdout",
          "text": [
            "This is a string. string with single quotes. 12345 Hello World! Python is fun!\n"
          ]
        }
      ]
    },
    {
      "cell_type": "markdown",
      "source": [
        "\n",
        "\n",
        "**2.   Repetition:**\n",
        "\n"
      ],
      "metadata": {
        "id": "sHu-SuhCOSwe"
      }
    },
    {
      "cell_type": "markdown",
      "source": [
        "In Python, you can multiply strings to create a new string that repeats the original string a certain number of times. This technique is known as string repetition or string replication. The multiplication operator (*) is used to repeat a string a specified number of times."
      ],
      "metadata": {
        "id": "-Yr4RZxeOkCz"
      }
    },
    {
      "cell_type": "code",
      "source": [
        "string6 = \"This is a string. \\n\"\n",
        "string7 = 'string with single quotes. \\n'\n",
        "string8 = \"12345 \\n\"\n",
        "string9 = \"Hello World! \\n\"\n",
        "string0 = \"Python is fun! \\n\""
      ],
      "metadata": {
        "id": "M0f0I-vgOMbR"
      },
      "execution_count": null,
      "outputs": []
    },
    {
      "cell_type": "code",
      "source": [
        "result2 = string6 * 3\n",
        "print(result2)"
      ],
      "metadata": {
        "colab": {
          "base_uri": "https://localhost:8080/"
        },
        "id": "lhqeDmKcPLz0",
        "outputId": "55299ee4-e521-42b2-a4c7-34cec804b388"
      },
      "execution_count": null,
      "outputs": [
        {
          "output_type": "stream",
          "name": "stdout",
          "text": [
            "This is a string. \n",
            "This is a string. \n",
            "This is a string. \n",
            "\n"
          ]
        }
      ]
    },
    {
      "cell_type": "code",
      "source": [
        "result3 = string7 * 3\n",
        "print(result3)"
      ],
      "metadata": {
        "colab": {
          "base_uri": "https://localhost:8080/"
        },
        "id": "eFlHcckvPd-e",
        "outputId": "4a92a680-c276-4008-85fb-daf6fccba029"
      },
      "execution_count": null,
      "outputs": [
        {
          "output_type": "stream",
          "name": "stdout",
          "text": [
            "string with single quotes. \n",
            "string with single quotes. \n",
            "string with single quotes. \n",
            "\n"
          ]
        }
      ]
    },
    {
      "cell_type": "code",
      "source": [
        "result4 = string8 * 3\n",
        "print(result4)"
      ],
      "metadata": {
        "colab": {
          "base_uri": "https://localhost:8080/"
        },
        "id": "ulnUpb8dPg4h",
        "outputId": "c3164d84-943c-4d5f-8afc-2f1b0cf75cbd"
      },
      "execution_count": null,
      "outputs": [
        {
          "output_type": "stream",
          "name": "stdout",
          "text": [
            "12345 \n",
            "12345 \n",
            "12345 \n",
            "\n"
          ]
        }
      ]
    },
    {
      "cell_type": "code",
      "source": [
        "result5 = string9 * 3\n",
        "print(result5)"
      ],
      "metadata": {
        "colab": {
          "base_uri": "https://localhost:8080/"
        },
        "id": "EX6UGzWvPjph",
        "outputId": "82995b64-03c5-4038-c06b-dea50f6952dd"
      },
      "execution_count": null,
      "outputs": [
        {
          "output_type": "stream",
          "name": "stdout",
          "text": [
            "Hello World! \n",
            "Hello World! \n",
            "Hello World! \n",
            "\n"
          ]
        }
      ]
    },
    {
      "cell_type": "code",
      "source": [
        "result6 = string0 * 3\n",
        "print(result6)"
      ],
      "metadata": {
        "colab": {
          "base_uri": "https://localhost:8080/"
        },
        "id": "h_Ypu1H_PlY4",
        "outputId": "776a8832-7e66-4338-c371-b4a6a5e54e79"
      },
      "execution_count": null,
      "outputs": [
        {
          "output_type": "stream",
          "name": "stdout",
          "text": [
            "Python is fun! \n",
            "Python is fun! \n",
            "Python is fun! \n",
            "\n"
          ]
        }
      ]
    },
    {
      "cell_type": "markdown",
      "source": [
        "## Python String indexing"
      ],
      "metadata": {
        "id": "_g0LoKEiQQuJ"
      }
    },
    {
      "cell_type": "markdown",
      "source": [
        "The index() method finds the first occurrence of the specified value. It raises an exception if the value is not found."
      ],
      "metadata": {
        "id": "kh2GawW1Qe7Q"
      }
    },
    {
      "cell_type": "markdown",
      "source": [
        "Example:"
      ],
      "metadata": {
        "id": "uJjwHAR4UVrW"
      }
    },
    {
      "cell_type": "code",
      "source": [
        "String500 = \"In today’s fast-paced world, technology continues to shape the way we live, work, and communicate. Advancements in artificial intelligence, data science, and automation have significantly transformed industries, providing solutions that enhance efficiency and decision-making. From healthcare to finance, the integration of these technologies has revolutionized processes. As innovation accelerates, the demand for skilled professionals in these fields is growing rapidly, opening new opportunities for the future.In today’s fast-paced world, technology continues to shape the way we live, work, and communicate. Advancements in artificial intelligence, data science, and automation have significantly transformed industries, providing solutions that enhance efficiency and decision-making. From healthcare to finance, the integration of these technologies has revolutionized processes. As innovation accelerates, the demand for skilled professionals in these fields is growing rapidly, opening new opportunities for the future.\""
      ],
      "metadata": {
        "id": "4ZH-ZHv2Pnov"
      },
      "execution_count": null,
      "outputs": []
    },
    {
      "cell_type": "code",
      "source": [
        "print(String500[7])"
      ],
      "metadata": {
        "colab": {
          "base_uri": "https://localhost:8080/"
        },
        "id": "LPjk7kGyQ9d9",
        "outputId": "8c3593e4-0325-4c89-c4dd-d20442628e66"
      },
      "execution_count": null,
      "outputs": [
        {
          "output_type": "stream",
          "name": "stdout",
          "text": [
            "y\n"
          ]
        }
      ]
    },
    {
      "cell_type": "code",
      "source": [
        "print(String500[21])"
      ],
      "metadata": {
        "colab": {
          "base_uri": "https://localhost:8080/"
        },
        "id": "4c41b-dORLRI",
        "outputId": "d71fec16-a1b2-4209-b5dc-7c246e4b1256"
      },
      "execution_count": null,
      "outputs": [
        {
          "output_type": "stream",
          "name": "stdout",
          "text": [
            " \n"
          ]
        }
      ]
    },
    {
      "cell_type": "code",
      "source": [
        "print(String500[47])"
      ],
      "metadata": {
        "colab": {
          "base_uri": "https://localhost:8080/"
        },
        "id": "-FhW-GdnRXlX",
        "outputId": "6af63f50-2129-4845-d35e-76cf7f566d1b"
      },
      "execution_count": null,
      "outputs": [
        {
          "output_type": "stream",
          "name": "stdout",
          "text": [
            "e\n"
          ]
        }
      ]
    },
    {
      "cell_type": "code",
      "source": [
        "print(String500[105])"
      ],
      "metadata": {
        "colab": {
          "base_uri": "https://localhost:8080/"
        },
        "id": "5hrCcshJRap8",
        "outputId": "721cc01f-d7d8-4d6e-f203-2ac6ce472aa7"
      },
      "execution_count": null,
      "outputs": [
        {
          "output_type": "stream",
          "name": "stdout",
          "text": [
            "e\n"
          ]
        }
      ]
    },
    {
      "cell_type": "code",
      "source": [
        "print(String500[129])"
      ],
      "metadata": {
        "colab": {
          "base_uri": "https://localhost:8080/"
        },
        "id": "0bn76wSJReIF",
        "outputId": "69be3e8e-97f4-4151-bf98-a1eadfc6e97f"
      },
      "execution_count": null,
      "outputs": [
        {
          "output_type": "stream",
          "name": "stdout",
          "text": [
            "e\n"
          ]
        }
      ]
    },
    {
      "cell_type": "code",
      "source": [
        "print(String500[201])"
      ],
      "metadata": {
        "colab": {
          "base_uri": "https://localhost:8080/"
        },
        "id": "9EppMFHGRg6x",
        "outputId": "674196f3-2651-47b3-97f3-2b81e51b2e98"
      },
      "execution_count": null,
      "outputs": [
        {
          "output_type": "stream",
          "name": "stdout",
          "text": [
            "n\n"
          ]
        }
      ]
    },
    {
      "cell_type": "code",
      "source": [
        "print(String500[249])"
      ],
      "metadata": {
        "colab": {
          "base_uri": "https://localhost:8080/"
        },
        "id": "Vr6oeQaiRkkj",
        "outputId": "173a409c-23e7-4265-c2fe-92f8e8a3e744"
      },
      "execution_count": null,
      "outputs": [
        {
          "output_type": "stream",
          "name": "stdout",
          "text": [
            "c\n"
          ]
        }
      ]
    },
    {
      "cell_type": "code",
      "source": [
        "print(String500[311])"
      ],
      "metadata": {
        "colab": {
          "base_uri": "https://localhost:8080/"
        },
        "id": "WraPrvfrRn7p",
        "outputId": "9d11dfc3-588e-46c9-e948-1391c7a50b07"
      },
      "execution_count": null,
      "outputs": [
        {
          "output_type": "stream",
          "name": "stdout",
          "text": [
            "t\n"
          ]
        }
      ]
    },
    {
      "cell_type": "code",
      "source": [
        "print(String500[395])"
      ],
      "metadata": {
        "colab": {
          "base_uri": "https://localhost:8080/"
        },
        "id": "xPHEUhdSRqPk",
        "outputId": "be831020-b9e8-4d6d-85b2-7705292de079"
      },
      "execution_count": null,
      "outputs": [
        {
          "output_type": "stream",
          "name": "stdout",
          "text": [
            "t\n"
          ]
        }
      ]
    },
    {
      "cell_type": "code",
      "source": [
        "print(String500[409])"
      ],
      "metadata": {
        "colab": {
          "base_uri": "https://localhost:8080/"
        },
        "id": "Mzzw94v3RtOl",
        "outputId": "f32fd208-2683-4cc8-ffc7-18ef1d1195f9"
      },
      "execution_count": null,
      "outputs": [
        {
          "output_type": "stream",
          "name": "stdout",
          "text": [
            "d\n"
          ]
        }
      ]
    },
    {
      "cell_type": "code",
      "source": [
        "print(String500[418])"
      ],
      "metadata": {
        "colab": {
          "base_uri": "https://localhost:8080/"
        },
        "id": "i6kbEgKSR03W",
        "outputId": "f7d307a8-8fba-4f67-b6ec-c8669ecf081b"
      },
      "execution_count": null,
      "outputs": [
        {
          "output_type": "stream",
          "name": "stdout",
          "text": [
            "l\n"
          ]
        }
      ]
    },
    {
      "cell_type": "code",
      "source": [
        "print(String500[420])"
      ],
      "metadata": {
        "colab": {
          "base_uri": "https://localhost:8080/"
        },
        "id": "WFKe_rvlR4bc",
        "outputId": "281ef36b-d3a0-408b-ffd0-391b60c9b709"
      },
      "execution_count": null,
      "outputs": [
        {
          "output_type": "stream",
          "name": "stdout",
          "text": [
            "e\n"
          ]
        }
      ]
    },
    {
      "cell_type": "markdown",
      "source": [
        "## Python String Slicing"
      ],
      "metadata": {
        "id": "ldd_YN_-SQ-p"
      }
    },
    {
      "cell_type": "markdown",
      "source": [
        "Slicing is about obtaining a sub-string from the given string by slicing it respectively from start to end."
      ],
      "metadata": {
        "id": "G9tAAQ80S3z_"
      }
    },
    {
      "cell_type": "markdown",
      "source": [
        "Example:"
      ],
      "metadata": {
        "id": "NHgnPEbtUXsL"
      }
    },
    {
      "cell_type": "code",
      "source": [
        "string500 = \"In today’s fast-paced world, technology continues to shape the way we live, work, and communicate. Advancements in artificial intelligence, data science, and automation have significantly transformed industries, providing solutions that enhance efficiency and decision-making. From healthcare to finance, the integration of these technologies has revolutionized processes. As innovation accelerates, the demand for skilled professionals in these fields is growing rapidly, opening new opportunities for the future.\""
      ],
      "metadata": {
        "id": "w9Yd9EpHR6R9"
      },
      "execution_count": null,
      "outputs": []
    },
    {
      "cell_type": "code",
      "source": [
        "print(string500[2:10])"
      ],
      "metadata": {
        "colab": {
          "base_uri": "https://localhost:8080/"
        },
        "id": "CxFHxF-hSulK",
        "outputId": "18fc40d9-1dac-4a89-bffc-a60979065208"
      },
      "execution_count": null,
      "outputs": [
        {
          "output_type": "stream",
          "name": "stdout",
          "text": [
            " today’s\n"
          ]
        }
      ]
    },
    {
      "cell_type": "code",
      "source": [
        "print(string500[2:20])"
      ],
      "metadata": {
        "colab": {
          "base_uri": "https://localhost:8080/"
        },
        "id": "83Fex3NRTZRM",
        "outputId": "07dd801f-d0a0-488f-cd49-6470c86e4cbc"
      },
      "execution_count": null,
      "outputs": [
        {
          "output_type": "stream",
          "name": "stdout",
          "text": [
            " today’s fast-pace\n"
          ]
        }
      ]
    },
    {
      "cell_type": "code",
      "source": [
        "print(string500[78:114])"
      ],
      "metadata": {
        "colab": {
          "base_uri": "https://localhost:8080/"
        },
        "id": "sCEYBYL0Tfhf",
        "outputId": "750076e3-faf1-4b70-a41e-588458334543"
      },
      "execution_count": null,
      "outputs": [
        {
          "output_type": "stream",
          "name": "stdout",
          "text": [
            "rk, and communicate. Advancements in\n"
          ]
        }
      ]
    },
    {
      "cell_type": "code",
      "source": [
        "print(string500[401:410])"
      ],
      "metadata": {
        "colab": {
          "base_uri": "https://localhost:8080/"
        },
        "id": "pTQXQ47uTr4-",
        "outputId": "f0ad0482-358b-485a-b12f-dc1ca8292c53"
      },
      "execution_count": null,
      "outputs": [
        {
          "output_type": "stream",
          "name": "stdout",
          "text": [
            "he demand\n"
          ]
        }
      ]
    },
    {
      "cell_type": "code",
      "source": [
        "print(string500[-10:-1])"
      ],
      "metadata": {
        "colab": {
          "base_uri": "https://localhost:8080/"
        },
        "id": "ZqFLcjWlT0DV",
        "outputId": "53f6d3bf-9b6e-4a1e-cc3e-814115fd45d4"
      },
      "execution_count": null,
      "outputs": [
        {
          "output_type": "stream",
          "name": "stdout",
          "text": [
            "he future\n"
          ]
        }
      ]
    },
    {
      "cell_type": "markdown",
      "source": [
        "## Python String Formatting"
      ],
      "metadata": {
        "id": "O4M0zMdOUcsH"
      }
    },
    {
      "cell_type": "markdown",
      "source": [
        "\n",
        "\n",
        "**1.   How to Format String using % Operator (Old style formatting):**\n",
        "\n"
      ],
      "metadata": {
        "id": "4QpTvbrXUvSH"
      }
    },
    {
      "cell_type": "markdown",
      "source": [
        "It is the oldest method of string formatting. Here we use the modulo % operator. The modulo % is also known as the “string-formatting operator”."
      ],
      "metadata": {
        "id": "PjbPZgLVVUPx"
      }
    },
    {
      "cell_type": "code",
      "source": [
        "name = \"Adam\"\n",
        "age = 22\n",
        "print(\"My name is %s and I am %d years old.\" % (name, age))"
      ],
      "metadata": {
        "colab": {
          "base_uri": "https://localhost:8080/"
        },
        "id": "8pRE8V9qWBtk",
        "outputId": "656865bd-c47d-4819-cda6-b0ee16e7e358"
      },
      "execution_count": null,
      "outputs": [
        {
          "output_type": "stream",
          "name": "stdout",
          "text": [
            "My name is Adam and I am 22 years old.\n"
          ]
        }
      ]
    },
    {
      "cell_type": "code",
      "source": [
        "highscore = 123\n",
        "print(\"The high score is %s.\" % highscore)"
      ],
      "metadata": {
        "colab": {
          "base_uri": "https://localhost:8080/"
        },
        "id": "0pcMjEAeWKmi",
        "outputId": "d9a57444-f0da-4b6c-d4f0-5f4f08bde9df"
      },
      "execution_count": null,
      "outputs": [
        {
          "output_type": "stream",
          "name": "stdout",
          "text": [
            "The high score is 123.\n"
          ]
        }
      ]
    },
    {
      "cell_type": "code",
      "source": [
        "strkrate = 56.05\n",
        "print(\"The strike rate is %f.\" % strkrate)"
      ],
      "metadata": {
        "colab": {
          "base_uri": "https://localhost:8080/"
        },
        "id": "eAkcvK0lWto9",
        "outputId": "33ab46d9-b6c4-4a3e-d1b9-42a8ab68f1a5"
      },
      "execution_count": null,
      "outputs": [
        {
          "output_type": "stream",
          "name": "stdout",
          "text": [
            "The strike rate is 56.050000.\n"
          ]
        }
      ]
    },
    {
      "cell_type": "markdown",
      "source": [
        "\n",
        "\n",
        "**2.   How to Format String using format() Method:**\n",
        "\n"
      ],
      "metadata": {
        "id": "F4g30xJBU-qN"
      }
    },
    {
      "cell_type": "markdown",
      "source": [
        "Format() method was introduced with Python3 for handling complex string formatting more efficiently. Formatters work by putting in one or more replacement fields and placeholders defined by a pair of curly braces { } into a string and calling the str.format()."
      ],
      "metadata": {
        "id": "ValzUb23W8an"
      }
    },
    {
      "cell_type": "code",
      "source": [
        "name = \"Adam\"\n",
        "age = 22\n",
        "print(\"My name is {} and I am {} years old.\".format(name, age))"
      ],
      "metadata": {
        "colab": {
          "base_uri": "https://localhost:8080/"
        },
        "id": "IZIziN-nXXDN",
        "outputId": "cf11977a-79b4-45eb-9f6d-e043cfbeb47f"
      },
      "execution_count": null,
      "outputs": [
        {
          "output_type": "stream",
          "name": "stdout",
          "text": [
            "My name is Adam and I am 22 years old.\n"
          ]
        }
      ]
    },
    {
      "cell_type": "code",
      "source": [
        "city = \"Hyderabad\"\n",
        "country = \"India\"\n",
        "print(\"I live in {}, {}.\".format(city, country))"
      ],
      "metadata": {
        "colab": {
          "base_uri": "https://localhost:8080/"
        },
        "id": "qjpE4KhdXduP",
        "outputId": "622650d9-7e2a-4f4c-83cd-713c5b78b635"
      },
      "execution_count": null,
      "outputs": [
        {
          "output_type": "stream",
          "name": "stdout",
          "text": [
            "I live in Hyderabad, India.\n"
          ]
        }
      ]
    },
    {
      "cell_type": "code",
      "source": [
        "hs = 123\n",
        "sr = 56.05\n",
        "print(\"The high score is {} and strike rate {}.\".format(hs, sr))"
      ],
      "metadata": {
        "colab": {
          "base_uri": "https://localhost:8080/"
        },
        "id": "I6CZw_OBXonH",
        "outputId": "73241a6b-1cca-4815-a0ef-893f7f90bb52"
      },
      "execution_count": null,
      "outputs": [
        {
          "output_type": "stream",
          "name": "stdout",
          "text": [
            "The high score is 123 and strike rate 56.05.\n"
          ]
        }
      ]
    },
    {
      "cell_type": "markdown",
      "source": [
        "\n",
        "\n",
        "**3.   Understanding Python f-string:**\n",
        "\n"
      ],
      "metadata": {
        "id": "uHA_yZhsVIz9"
      }
    },
    {
      "cell_type": "markdown",
      "source": [
        "PEP 498 introduced a new string formatting mechanism known as Literal String Interpolation or more commonly as F-strings (because of the leading f character preceding the string literal). The idea behind f-String in Python is to make string interpolation simpler. To create an f-string in Python, prefix the string with the letter “f”. The string itself can be formatted in much the same way that you would with str. format(). F-strings provide a concise and convenient way to embed Python expressions inside string literals for formatting."
      ],
      "metadata": {
        "id": "OKdgJYSbYjJL"
      }
    },
    {
      "cell_type": "code",
      "source": [
        "name = \"Adam\"\n",
        "age = 22\n",
        "print(f\"My name is {name} and I am {age} years old.\")"
      ],
      "metadata": {
        "colab": {
          "base_uri": "https://localhost:8080/"
        },
        "id": "c-MU7sS3ZHpR",
        "outputId": "4f9ebecb-da86-4229-a807-2adafcbb0f1e"
      },
      "execution_count": null,
      "outputs": [
        {
          "output_type": "stream",
          "name": "stdout",
          "text": [
            "My name is Adam and I am 22 years old.\n"
          ]
        }
      ]
    },
    {
      "cell_type": "code",
      "source": [
        "city = \"Hyderabad\"\n",
        "country = \"India\"\n",
        "print(f\"I live in {city}, {country}.\")"
      ],
      "metadata": {
        "colab": {
          "base_uri": "https://localhost:8080/"
        },
        "id": "4w-x77csZLUF",
        "outputId": "ecd8f2ea-24b7-440c-fc8a-576519518f06"
      },
      "execution_count": null,
      "outputs": [
        {
          "output_type": "stream",
          "name": "stdout",
          "text": [
            "I live in Hyderabad, India.\n"
          ]
        }
      ]
    },
    {
      "cell_type": "code",
      "source": [
        "hs = 123\n",
        "sr = 56.05\n",
        "print(f\"The high score is{hs} and the strike rate is {sr}.\")"
      ],
      "metadata": {
        "colab": {
          "base_uri": "https://localhost:8080/"
        },
        "id": "9a4WDF9KZRe-",
        "outputId": "d3f6867b-a396-46dc-e4ee-251afff11960"
      },
      "execution_count": null,
      "outputs": [
        {
          "output_type": "stream",
          "name": "stdout",
          "text": [
            "The high score is123 and the strike rate is 56.05.\n"
          ]
        }
      ]
    },
    {
      "cell_type": "markdown",
      "source": [
        "## Python String methods"
      ],
      "metadata": {
        "id": "8gIt4X8AZqvp"
      }
    },
    {
      "cell_type": "markdown",
      "source": [
        "\n",
        "\n",
        "**1.   upper():**\n",
        "\n"
      ],
      "metadata": {
        "id": "9Eg6z9tYggB0"
      }
    },
    {
      "cell_type": "markdown",
      "source": [
        "Converts all characters to uppercase."
      ],
      "metadata": {
        "id": "B165-a60guiE"
      }
    },
    {
      "cell_type": "code",
      "source": [
        "text = \"hello\"\n",
        "print(text.upper())"
      ],
      "metadata": {
        "colab": {
          "base_uri": "https://localhost:8080/"
        },
        "id": "K2HQQanNgwYr",
        "outputId": "accd094d-1977-4cde-faf8-346d16228835"
      },
      "execution_count": 53,
      "outputs": [
        {
          "output_type": "stream",
          "name": "stdout",
          "text": [
            "HELLO\n"
          ]
        }
      ]
    },
    {
      "cell_type": "markdown",
      "source": [
        "\n",
        "\n",
        "**2.   lower():**\n",
        "\n"
      ],
      "metadata": {
        "id": "ty-2CiRWgz_u"
      }
    },
    {
      "cell_type": "markdown",
      "source": [
        "Converts all characters to lowercase."
      ],
      "metadata": {
        "id": "GrFUBitPhAMI"
      }
    },
    {
      "cell_type": "code",
      "source": [
        "text = \"HELLO\"\n",
        "print(text.lower())"
      ],
      "metadata": {
        "colab": {
          "base_uri": "https://localhost:8080/"
        },
        "id": "uu0MRu_Og_v8",
        "outputId": "7266ac6b-123d-4176-c9dd-d65656b7cd83"
      },
      "execution_count": 54,
      "outputs": [
        {
          "output_type": "stream",
          "name": "stdout",
          "text": [
            "hello\n"
          ]
        }
      ]
    },
    {
      "cell_type": "markdown",
      "source": [
        "\n",
        "\n",
        "**3.   capitalize():**\n",
        "\n"
      ],
      "metadata": {
        "id": "NdYfVRtehG0K"
      }
    },
    {
      "cell_type": "markdown",
      "source": [
        "Capitalizes the first character of the string."
      ],
      "metadata": {
        "id": "frZWNvMShOXv"
      }
    },
    {
      "cell_type": "code",
      "source": [
        "text = \"hello world\"\n",
        "print(text.capitalize())"
      ],
      "metadata": {
        "colab": {
          "base_uri": "https://localhost:8080/"
        },
        "id": "5LFHm1Gegfab",
        "outputId": "2f9dbf64-73c0-4268-dce2-e6c0ff5207af"
      },
      "execution_count": 55,
      "outputs": [
        {
          "output_type": "stream",
          "name": "stdout",
          "text": [
            "Hello world\n"
          ]
        }
      ]
    },
    {
      "cell_type": "markdown",
      "source": [
        "\n",
        "\n",
        "**4.  title():**\n",
        "\n"
      ],
      "metadata": {
        "id": "GwXutapahdTA"
      }
    },
    {
      "cell_type": "markdown",
      "source": [
        "Capitalizes the first letter of each word."
      ],
      "metadata": {
        "id": "3a9rWF_YhrJm"
      }
    },
    {
      "cell_type": "code",
      "source": [
        "text = \"hello world\"\n",
        "print(text.title())"
      ],
      "metadata": {
        "colab": {
          "base_uri": "https://localhost:8080/"
        },
        "id": "McpTUS2MhVHe",
        "outputId": "3c05659e-0ae5-4a25-f91e-1357c1fcb645"
      },
      "execution_count": 56,
      "outputs": [
        {
          "output_type": "stream",
          "name": "stdout",
          "text": [
            "Hello World\n"
          ]
        }
      ]
    },
    {
      "cell_type": "markdown",
      "source": [
        "\n",
        "\n",
        "**5.   strip():**\n",
        "\n"
      ],
      "metadata": {
        "id": "jsCzf70gh3fj"
      }
    },
    {
      "cell_type": "markdown",
      "source": [
        "Removes leading and trailing whitespace."
      ],
      "metadata": {
        "id": "yJ0XadOdh95t"
      }
    },
    {
      "cell_type": "code",
      "source": [
        "text = \"  hello world  \"\n",
        "print(text.strip())"
      ],
      "metadata": {
        "colab": {
          "base_uri": "https://localhost:8080/"
        },
        "id": "d1J8iWFNhuTC",
        "outputId": "7569fe9b-f133-4ff9-85c9-1c79d94391b4"
      },
      "execution_count": 57,
      "outputs": [
        {
          "output_type": "stream",
          "name": "stdout",
          "text": [
            "hello world\n"
          ]
        }
      ]
    },
    {
      "cell_type": "markdown",
      "source": [
        "**6. lstrip():**"
      ],
      "metadata": {
        "id": "wrcioD5giNAT"
      }
    },
    {
      "cell_type": "markdown",
      "source": [
        "Removes leading whitespace."
      ],
      "metadata": {
        "id": "6biDiiECiXlQ"
      }
    },
    {
      "cell_type": "code",
      "source": [
        "text = \"  hello world  \"\n",
        "print(text.lstrip())"
      ],
      "metadata": {
        "colab": {
          "base_uri": "https://localhost:8080/"
        },
        "id": "apV578VLiDXY",
        "outputId": "f8efbf51-6c75-4af5-afe5-2c94fcc6922d"
      },
      "execution_count": 58,
      "outputs": [
        {
          "output_type": "stream",
          "name": "stdout",
          "text": [
            "hello world  \n"
          ]
        }
      ]
    },
    {
      "cell_type": "markdown",
      "source": [
        "**7. rstrip():**"
      ],
      "metadata": {
        "id": "O_EQ001nih_H"
      }
    },
    {
      "cell_type": "markdown",
      "source": [
        "Removes trailing whitespace."
      ],
      "metadata": {
        "id": "1B7MPJD6io-7"
      }
    },
    {
      "cell_type": "code",
      "source": [
        "text = \"  hello world  \"\n",
        "print(text.rstrip())"
      ],
      "metadata": {
        "colab": {
          "base_uri": "https://localhost:8080/"
        },
        "id": "vthBZTaeifTl",
        "outputId": "9ff66e04-99c7-4af9-c3c8-26878522b3a2"
      },
      "execution_count": 59,
      "outputs": [
        {
          "output_type": "stream",
          "name": "stdout",
          "text": [
            "  hello world\n"
          ]
        }
      ]
    },
    {
      "cell_type": "markdown",
      "source": [
        "**8. split():**"
      ],
      "metadata": {
        "id": "CgiwZMDsiuRp"
      }
    },
    {
      "cell_type": "markdown",
      "source": [
        "Splits the string into a list by spaces (or specified separator)."
      ],
      "metadata": {
        "id": "rrFoZH2Ai1Jo"
      }
    },
    {
      "cell_type": "code",
      "source": [
        "text = \"hello world\"\n",
        "print(text.split())"
      ],
      "metadata": {
        "colab": {
          "base_uri": "https://localhost:8080/"
        },
        "id": "fkMGFOoFirqP",
        "outputId": "8599c1e5-6bf8-4be1-cca3-bc08ca0978ee"
      },
      "execution_count": 60,
      "outputs": [
        {
          "output_type": "stream",
          "name": "stdout",
          "text": [
            "['hello', 'world']\n"
          ]
        }
      ]
    },
    {
      "cell_type": "markdown",
      "source": [
        "**9. join():**"
      ],
      "metadata": {
        "id": "RJ6XVUToi7GZ"
      }
    },
    {
      "cell_type": "markdown",
      "source": [
        "Joins the elements of an iterable into a single string, using the string as a separator."
      ],
      "metadata": {
        "id": "LTuKGSTMi_5d"
      }
    },
    {
      "cell_type": "code",
      "source": [
        "words = ['hello', 'world']\n",
        "print(\" \".join(words))"
      ],
      "metadata": {
        "colab": {
          "base_uri": "https://localhost:8080/"
        },
        "id": "TNQwsdLji5nJ",
        "outputId": "232959ac-9c26-44c5-b16b-fad09412da08"
      },
      "execution_count": 61,
      "outputs": [
        {
          "output_type": "stream",
          "name": "stdout",
          "text": [
            "hello world\n"
          ]
        }
      ]
    },
    {
      "cell_type": "markdown",
      "source": [
        "**10. replace(old, new):**"
      ],
      "metadata": {
        "id": "IYMHJEchjHhk"
      }
    },
    {
      "cell_type": "markdown",
      "source": [
        "Replaces a substring with another substring."
      ],
      "metadata": {
        "id": "TTTdSlqfjLq8"
      }
    },
    {
      "cell_type": "code",
      "source": [
        "text = \"hello world\"\n",
        "print(text.replace(\"world\", \"Python\"))"
      ],
      "metadata": {
        "colab": {
          "base_uri": "https://localhost:8080/"
        },
        "id": "opzxudEojEKL",
        "outputId": "2f481b09-b7de-4817-9acc-d87b02d45b7b"
      },
      "execution_count": 62,
      "outputs": [
        {
          "output_type": "stream",
          "name": "stdout",
          "text": [
            "hello Python\n"
          ]
        }
      ]
    },
    {
      "cell_type": "markdown",
      "source": [
        "**11. find(substring):**"
      ],
      "metadata": {
        "id": "HXQBFHs0jRVh"
      }
    },
    {
      "cell_type": "markdown",
      "source": [
        "Returns the index of the first occurrence of the substring or -1 if not found."
      ],
      "metadata": {
        "id": "ELlZVR0mjeJA"
      }
    },
    {
      "cell_type": "code",
      "source": [
        "text = \"hello world\"\n",
        "print(text.find(\"world\"))"
      ],
      "metadata": {
        "colab": {
          "base_uri": "https://localhost:8080/"
        },
        "id": "8Nc6ou3jjOl2",
        "outputId": "7790d2cc-cbab-44b4-c2b1-73dabe222ada"
      },
      "execution_count": 63,
      "outputs": [
        {
          "output_type": "stream",
          "name": "stdout",
          "text": [
            "6\n"
          ]
        }
      ]
    },
    {
      "cell_type": "code",
      "source": [
        "text = \"hello world\"\n",
        "print(text.find(\"p\"))"
      ],
      "metadata": {
        "colab": {
          "base_uri": "https://localhost:8080/"
        },
        "id": "7-5wh7gqovrQ",
        "outputId": "cae5abfc-af34-4622-f1cc-03f5e50ad52c"
      },
      "execution_count": 88,
      "outputs": [
        {
          "output_type": "stream",
          "name": "stdout",
          "text": [
            "-1\n"
          ]
        }
      ]
    },
    {
      "cell_type": "markdown",
      "source": [
        "**12. rfind(substring):**"
      ],
      "metadata": {
        "id": "MXxj4rZojjlK"
      }
    },
    {
      "cell_type": "markdown",
      "source": [
        "Returns the index of the last occurrence of the substring or -1 if not found."
      ],
      "metadata": {
        "id": "YZqf3Z6fjmb-"
      }
    },
    {
      "cell_type": "code",
      "source": [
        "text = \"hello hello\"\n",
        "print(text.rfind(\"hello\"))"
      ],
      "metadata": {
        "colab": {
          "base_uri": "https://localhost:8080/"
        },
        "id": "HPdYztdpjgov",
        "outputId": "9b3b9932-9091-4e61-9b44-70bcaeec7e87"
      },
      "execution_count": 64,
      "outputs": [
        {
          "output_type": "stream",
          "name": "stdout",
          "text": [
            "6\n"
          ]
        }
      ]
    },
    {
      "cell_type": "code",
      "source": [
        "text = \"hello hello\"\n",
        "print(text.rfind(\"o\"))"
      ],
      "metadata": {
        "colab": {
          "base_uri": "https://localhost:8080/"
        },
        "id": "lcXafdcVojhc",
        "outputId": "61bca081-9378-45e4-8834-700a12ba9351"
      },
      "execution_count": 87,
      "outputs": [
        {
          "output_type": "stream",
          "name": "stdout",
          "text": [
            "10\n"
          ]
        }
      ]
    },
    {
      "cell_type": "markdown",
      "source": [
        "**13. count(substring):**"
      ],
      "metadata": {
        "id": "fO2UoI1cjxhY"
      }
    },
    {
      "cell_type": "markdown",
      "source": [
        "Returns the number of times a substring occurs in the string."
      ],
      "metadata": {
        "id": "4M6HatbDj4Fz"
      }
    },
    {
      "cell_type": "code",
      "source": [
        "text = \"hello world hello\"\n",
        "print(text.count(\"hello\"))"
      ],
      "metadata": {
        "colab": {
          "base_uri": "https://localhost:8080/"
        },
        "id": "CblnU71UjqjJ",
        "outputId": "97d0c67f-753f-4274-c8f5-6df666df20e1"
      },
      "execution_count": 65,
      "outputs": [
        {
          "output_type": "stream",
          "name": "stdout",
          "text": [
            "2\n"
          ]
        }
      ]
    },
    {
      "cell_type": "markdown",
      "source": [
        "**14. startswith(prefix):**"
      ],
      "metadata": {
        "id": "OwGQFJy3j_ZC"
      }
    },
    {
      "cell_type": "markdown",
      "source": [
        "Checks if the string starts with the specified prefix."
      ],
      "metadata": {
        "id": "6T65WchukEEC"
      }
    },
    {
      "cell_type": "code",
      "source": [
        "text = \"hello world\"\n",
        "print(text.startswith(\"hello\"))"
      ],
      "metadata": {
        "colab": {
          "base_uri": "https://localhost:8080/"
        },
        "id": "l8NpeldBj7Ga",
        "outputId": "50754f04-a8ca-4d29-bb4d-2ed7ee89d1f2"
      },
      "execution_count": 66,
      "outputs": [
        {
          "output_type": "stream",
          "name": "stdout",
          "text": [
            "True\n"
          ]
        }
      ]
    },
    {
      "cell_type": "markdown",
      "source": [
        "**15. endswith(suffix):**"
      ],
      "metadata": {
        "id": "OcJitBtpkMe1"
      }
    },
    {
      "cell_type": "markdown",
      "source": [
        "Checks if the string ends with the specified suffix."
      ],
      "metadata": {
        "id": "pkeR7QPRkRuw"
      }
    },
    {
      "cell_type": "code",
      "source": [
        "text = \"hello world\"\n",
        "print(text.endswith(\"world\"))"
      ],
      "metadata": {
        "colab": {
          "base_uri": "https://localhost:8080/"
        },
        "id": "0RcOsMH-kInr",
        "outputId": "9c9c0834-352e-4f0e-8dd5-746ced9c9459"
      },
      "execution_count": 67,
      "outputs": [
        {
          "output_type": "stream",
          "name": "stdout",
          "text": [
            "True\n"
          ]
        }
      ]
    },
    {
      "cell_type": "markdown",
      "source": [
        "**16. format( * args, ** kwargs):**"
      ],
      "metadata": {
        "id": "1tYkc3n5kWrG"
      }
    },
    {
      "cell_type": "markdown",
      "source": [
        "Formats the string using placeholders ({})."
      ],
      "metadata": {
        "id": "bL63ti9LklXz"
      }
    },
    {
      "cell_type": "code",
      "source": [
        "text = \"Hello, {}. Welcome to {}.\"\n",
        "print(text.format(\"Adam\", \"Python\"))"
      ],
      "metadata": {
        "colab": {
          "base_uri": "https://localhost:8080/"
        },
        "id": "2NmjNPGWkVe4",
        "outputId": "79a5899e-b018-46d8-e435-3f54f5f0962f"
      },
      "execution_count": 85,
      "outputs": [
        {
          "output_type": "stream",
          "name": "stdout",
          "text": [
            "Hello, Adam. Welcome to Python.\n"
          ]
        }
      ]
    },
    {
      "cell_type": "markdown",
      "source": [
        "**17. format_map(mapping):**"
      ],
      "metadata": {
        "id": "F6-4AUJhkvp4"
      }
    },
    {
      "cell_type": "markdown",
      "source": [
        "Formats the string using a dictionary."
      ],
      "metadata": {
        "id": "_ozh2UfykzTb"
      }
    },
    {
      "cell_type": "code",
      "source": [
        "text = \"Hello, {name}. Welcome to {place}.\"\n",
        "print(text.format_map({'name': 'Adam', 'place': 'Python'}))"
      ],
      "metadata": {
        "colab": {
          "base_uri": "https://localhost:8080/"
        },
        "id": "yg5kHbUZkrrR",
        "outputId": "4ca43e0b-45ca-4e94-aa8c-767d965d408e"
      },
      "execution_count": 84,
      "outputs": [
        {
          "output_type": "stream",
          "name": "stdout",
          "text": [
            "Hello, Adam. Welcome to Python.\n"
          ]
        }
      ]
    },
    {
      "cell_type": "markdown",
      "source": [
        "**18. isalpha()**"
      ],
      "metadata": {
        "id": "pZc3_Yhak6Zv"
      }
    },
    {
      "cell_type": "markdown",
      "source": [
        "Checks if all characters are alphabetic."
      ],
      "metadata": {
        "id": "mO9a3fsjk9Np"
      }
    },
    {
      "cell_type": "code",
      "source": [
        "text = \"hello\"\n",
        "print(text.isalpha())"
      ],
      "metadata": {
        "colab": {
          "base_uri": "https://localhost:8080/"
        },
        "id": "TfwQRRzdk3_P",
        "outputId": "3c690cc3-3167-49d4-a835-55a767d221f6"
      },
      "execution_count": 70,
      "outputs": [
        {
          "output_type": "stream",
          "name": "stdout",
          "text": [
            "True\n"
          ]
        }
      ]
    },
    {
      "cell_type": "markdown",
      "source": [
        "**19. isalnum():**"
      ],
      "metadata": {
        "id": "StUNEWAClDHg"
      }
    },
    {
      "cell_type": "markdown",
      "source": [
        "Checks if all characters are alphanumeric."
      ],
      "metadata": {
        "id": "5rR-fV-alNC7"
      }
    },
    {
      "cell_type": "code",
      "source": [
        "text = \"hello123\"\n",
        "print(text.isalnum())"
      ],
      "metadata": {
        "colab": {
          "base_uri": "https://localhost:8080/"
        },
        "id": "AlwkjUnolBi3",
        "outputId": "9f2e5942-e6e7-45de-c028-702ce86f1167"
      },
      "execution_count": 71,
      "outputs": [
        {
          "output_type": "stream",
          "name": "stdout",
          "text": [
            "True\n"
          ]
        }
      ]
    },
    {
      "cell_type": "markdown",
      "source": [
        "**20. isdigit():**"
      ],
      "metadata": {
        "id": "VTMz66j_lS6a"
      }
    },
    {
      "cell_type": "markdown",
      "source": [
        "Checks if all characters are digits."
      ],
      "metadata": {
        "id": "ncAam98qlXp2"
      }
    },
    {
      "cell_type": "code",
      "source": [
        "text = \"12345\"\n",
        "print(text.isdigit())"
      ],
      "metadata": {
        "colab": {
          "base_uri": "https://localhost:8080/"
        },
        "id": "CTC6ocj3lPlW",
        "outputId": "1e54c049-2f9b-46ff-8d6d-21f2d9f1e419"
      },
      "execution_count": 72,
      "outputs": [
        {
          "output_type": "stream",
          "name": "stdout",
          "text": [
            "True\n"
          ]
        }
      ]
    },
    {
      "cell_type": "markdown",
      "source": [
        "**21. islower():**"
      ],
      "metadata": {
        "id": "87PE2VhUlnAP"
      }
    },
    {
      "cell_type": "markdown",
      "source": [
        "Checks if all characters are lowercase."
      ],
      "metadata": {
        "id": "4hkZJxYKlpAJ"
      }
    },
    {
      "cell_type": "code",
      "source": [
        "text = \"hello\"\n",
        "print(text.islower())"
      ],
      "metadata": {
        "colab": {
          "base_uri": "https://localhost:8080/"
        },
        "id": "FAiIW3sOlbfp",
        "outputId": "d18a9635-3bb4-4430-bc2a-dc0865374c0b"
      },
      "execution_count": 73,
      "outputs": [
        {
          "output_type": "stream",
          "name": "stdout",
          "text": [
            "True\n"
          ]
        }
      ]
    },
    {
      "cell_type": "markdown",
      "source": [
        "**22. isupper():**"
      ],
      "metadata": {
        "id": "_gG4L5VHlvxT"
      }
    },
    {
      "cell_type": "markdown",
      "source": [
        "Checks if all characters are uppercase."
      ],
      "metadata": {
        "id": "BuoYZue0l2iL"
      }
    },
    {
      "cell_type": "code",
      "source": [
        "text = \"HELLO\"\n",
        "print(text.isupper())"
      ],
      "metadata": {
        "colab": {
          "base_uri": "https://localhost:8080/"
        },
        "id": "EyWfQFiYltGJ",
        "outputId": "53025c18-b749-4bb4-822a-a36af32ee804"
      },
      "execution_count": 74,
      "outputs": [
        {
          "output_type": "stream",
          "name": "stdout",
          "text": [
            "True\n"
          ]
        }
      ]
    },
    {
      "cell_type": "markdown",
      "source": [
        "**23. isspace():**"
      ],
      "metadata": {
        "id": "tmJFcScwl80u"
      }
    },
    {
      "cell_type": "markdown",
      "source": [
        "Checks if all characters are whitespace."
      ],
      "metadata": {
        "id": "Kpypnvrhl_CW"
      }
    },
    {
      "cell_type": "code",
      "source": [
        "text = \"   \"\n",
        "print(text.isspace())"
      ],
      "metadata": {
        "colab": {
          "base_uri": "https://localhost:8080/"
        },
        "id": "TADJ0xryl5XH",
        "outputId": "79e52722-9e4d-494d-d5ca-8a58d792c912"
      },
      "execution_count": 75,
      "outputs": [
        {
          "output_type": "stream",
          "name": "stdout",
          "text": [
            "True\n"
          ]
        }
      ]
    },
    {
      "cell_type": "markdown",
      "source": [
        "**24. swapcase():**"
      ],
      "metadata": {
        "id": "_ZPBTNDXmH8u"
      }
    },
    {
      "cell_type": "markdown",
      "source": [
        "Swaps case: lowercase becomes uppercase and vice versa."
      ],
      "metadata": {
        "id": "NQ4qXwKSmKZM"
      }
    },
    {
      "cell_type": "code",
      "source": [
        "text = \"Hello World\"\n",
        "print(text.swapcase())"
      ],
      "metadata": {
        "colab": {
          "base_uri": "https://localhost:8080/"
        },
        "id": "-RfasnzOmEic",
        "outputId": "a49b140d-116f-4bd0-bf1a-73ec2409da64"
      },
      "execution_count": 76,
      "outputs": [
        {
          "output_type": "stream",
          "name": "stdout",
          "text": [
            "hELLO wORLD\n"
          ]
        }
      ]
    },
    {
      "cell_type": "markdown",
      "source": [
        "**25. partition(separator):**"
      ],
      "metadata": {
        "id": "nt99K_DOmTH-"
      }
    },
    {
      "cell_type": "markdown",
      "source": [
        "Splits the string into three parts: before the separator, the separator itself, and after."
      ],
      "metadata": {
        "id": "Hm7GThlhmWMF"
      }
    },
    {
      "cell_type": "code",
      "source": [
        "text = \"hello world\"\n",
        "print(text.partition(\" \"))"
      ],
      "metadata": {
        "colab": {
          "base_uri": "https://localhost:8080/"
        },
        "id": "GRDrQQysmRbg",
        "outputId": "3072e3a3-7302-4761-ebb5-c71a6b0db1cc"
      },
      "execution_count": 77,
      "outputs": [
        {
          "output_type": "stream",
          "name": "stdout",
          "text": [
            "('hello', ' ', 'world')\n"
          ]
        }
      ]
    },
    {
      "cell_type": "markdown",
      "source": [
        "**26. rpartition(separator):**"
      ],
      "metadata": {
        "id": "eUR8RY5ymdYy"
      }
    },
    {
      "cell_type": "markdown",
      "source": [
        "Splits the string into three parts, starting from the last occurrence of the separator."
      ],
      "metadata": {
        "id": "WwU6DyTVmjbk"
      }
    },
    {
      "cell_type": "code",
      "source": [
        "text = \"hello world again\"\n",
        "print(text.rpartition(\" \"))"
      ],
      "metadata": {
        "colab": {
          "base_uri": "https://localhost:8080/"
        },
        "id": "5rXW4WjomaVN",
        "outputId": "b97889cd-0752-483b-85a5-1042e976aff1"
      },
      "execution_count": 78,
      "outputs": [
        {
          "output_type": "stream",
          "name": "stdout",
          "text": [
            "('hello world', ' ', 'again')\n"
          ]
        }
      ]
    },
    {
      "cell_type": "markdown",
      "source": [
        "**27. zfill(width):**"
      ],
      "metadata": {
        "id": "NSmj-IyJmtpR"
      }
    },
    {
      "cell_type": "markdown",
      "source": [
        "Pads the string with zeros on the left, to the specified width."
      ],
      "metadata": {
        "id": "c1CP1BOYmxRk"
      }
    },
    {
      "cell_type": "code",
      "source": [
        "text = \"42\"\n",
        "print(text.zfill(5))"
      ],
      "metadata": {
        "colab": {
          "base_uri": "https://localhost:8080/"
        },
        "id": "b3d5cnZHmmYr",
        "outputId": "143c4858-6759-4bd6-f08a-0f6cccc4320b"
      },
      "execution_count": 79,
      "outputs": [
        {
          "output_type": "stream",
          "name": "stdout",
          "text": [
            "00042\n"
          ]
        }
      ]
    },
    {
      "cell_type": "markdown",
      "source": [
        "**28. ljust(width, fillchar):**"
      ],
      "metadata": {
        "id": "7wyQGOfgm3M3"
      }
    },
    {
      "cell_type": "markdown",
      "source": [
        "Left-justifies the string in a field of the specified width."
      ],
      "metadata": {
        "id": "TXRpogiwm61C"
      }
    },
    {
      "cell_type": "code",
      "source": [
        "text = \"hello\"\n",
        "print(text.ljust(10, '-'))"
      ],
      "metadata": {
        "colab": {
          "base_uri": "https://localhost:8080/"
        },
        "id": "5UR5FmtRm1vB",
        "outputId": "77ce3b6d-5231-4660-9bf5-124462fe4f2b"
      },
      "execution_count": 80,
      "outputs": [
        {
          "output_type": "stream",
          "name": "stdout",
          "text": [
            "hello-----\n"
          ]
        }
      ]
    },
    {
      "cell_type": "markdown",
      "source": [
        "**29. rjust(width, fillchar):**"
      ],
      "metadata": {
        "id": "P53TfW3Qm_9H"
      }
    },
    {
      "cell_type": "markdown",
      "source": [
        "Right-justifies the string in a field of the specified width."
      ],
      "metadata": {
        "id": "hNDXSGcQnCCX"
      }
    },
    {
      "cell_type": "code",
      "source": [
        "text = \"hello\"\n",
        "print(text.rjust(10, '-'))"
      ],
      "metadata": {
        "colab": {
          "base_uri": "https://localhost:8080/"
        },
        "id": "bYIIFziNnBa8",
        "outputId": "2c7c81a3-277c-46d2-8d6a-b41e8f4e0ca2"
      },
      "execution_count": 81,
      "outputs": [
        {
          "output_type": "stream",
          "name": "stdout",
          "text": [
            "-----hello\n"
          ]
        }
      ]
    },
    {
      "cell_type": "markdown",
      "source": [
        "**30. center(width, fillchar):**"
      ],
      "metadata": {
        "id": "WC1QzaTJncMC"
      }
    },
    {
      "cell_type": "markdown",
      "source": [
        "Centers the string in a field of the specified width."
      ],
      "metadata": {
        "id": "CYCQXJa9ne2i"
      }
    },
    {
      "cell_type": "code",
      "source": [
        "text = \"hello\"\n",
        "print(text.center(10, '-'))"
      ],
      "metadata": {
        "colab": {
          "base_uri": "https://localhost:8080/"
        },
        "id": "JHncirCvnWLB",
        "outputId": "19fc35ef-53a1-4cf1-f574-04fc19c48104"
      },
      "execution_count": 82,
      "outputs": [
        {
          "output_type": "stream",
          "name": "stdout",
          "text": [
            "--hello---\n"
          ]
        }
      ]
    },
    {
      "cell_type": "markdown",
      "source": [
        "\n",
        "\n",
        "**31.   len():**\n",
        "\n"
      ],
      "metadata": {
        "id": "QFE9KnY3n38C"
      }
    },
    {
      "cell_type": "markdown",
      "source": [
        "Returns length of the string"
      ],
      "metadata": {
        "id": "P1tbjBbPn_9g"
      }
    },
    {
      "cell_type": "code",
      "source": [
        "text = \"hello\"\n",
        "print(len(text))"
      ],
      "metadata": {
        "colab": {
          "base_uri": "https://localhost:8080/"
        },
        "id": "unHS9vk3njLd",
        "outputId": "23ce93e3-b389-4e71-9b12-ca89658253a5"
      },
      "execution_count": 83,
      "outputs": [
        {
          "output_type": "stream",
          "name": "stdout",
          "text": [
            "5\n"
          ]
        }
      ]
    }
  ]
}