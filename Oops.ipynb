{
  "nbformat": 4,
  "nbformat_minor": 0,
  "metadata": {
    "colab": {
      "provenance": []
    },
    "kernelspec": {
      "name": "python3",
      "display_name": "Python 3"
    },
    "language_info": {
      "name": "python"
    }
  },
  "cells": [
    {
      "cell_type": "markdown",
      "source": [
        "# Intersection():"
      ],
      "metadata": {
        "id": "CU3Fy7AZqavc"
      }
    },
    {
      "cell_type": "code",
      "source": [
        "class Animals():                         #1 parent class and 2 chilren class\n",
        "  def __init__(self, name, age):\n",
        "    self.name = name\n",
        "    self.age = age\n",
        "\n",
        "class cat(Animals):\n",
        "  def speek(self):\n",
        "    print(\"meow\")\n",
        "\n",
        "class mouse(Animals):\n",
        "  def speek(self):\n",
        "    print(\"squeeze\")\n",
        "\n",
        "\n",
        "\n",
        "obj1 = cat(\"tom\", 5)\n",
        "obj2 = mouse(\"jerry\", 3)\n",
        "\n",
        "\n",
        "print(f\"{obj1.name} is {obj1.age} years old\")\n",
        "obj1.speek()\n",
        "\n",
        "print(f\"{obj2.name} is {obj2.age} years old\")\n",
        "obj2.speek()"
      ],
      "metadata": {
        "id": "fRQQzwSPwCqE",
        "colab": {
          "base_uri": "https://localhost:8080/"
        },
        "outputId": "3621940a-7ec0-46e6-d3b8-9e0d3d7d730d"
      },
      "execution_count": null,
      "outputs": [
        {
          "output_type": "stream",
          "name": "stdout",
          "text": [
            "tom is 5 years old\n",
            "meow\n",
            "jerry is 3 years old\n",
            "squeeze\n"
          ]
        }
      ]
    },
    {
      "cell_type": "code",
      "source": [
        "class Animals():                         #1 parent class and 1 chilren class\n",
        "  def __init__(self, name, age):\n",
        "    self.name = name\n",
        "    self.age = age\n",
        "\n",
        "class panther(Animals):\n",
        "  def speek(self):\n",
        "    print(\"grump\")\n",
        "\n",
        "obj1 = panther(\"tom\", 5)\n",
        "\n",
        "print(f\"{obj1.name} is {obj1.age} years old\")\n",
        "obj1.speek()"
      ],
      "metadata": {
        "colab": {
          "base_uri": "https://localhost:8080/"
        },
        "id": "c7fOKoExlDQY",
        "outputId": "ac66e0cc-97f6-4fa7-ea9e-d8b429ac4532"
      },
      "execution_count": null,
      "outputs": [
        {
          "output_type": "stream",
          "name": "stdout",
          "text": [
            "tom is 5 years old\n",
            "grump\n"
          ]
        }
      ]
    },
    {
      "cell_type": "code",
      "source": [
        "# 2 parent class and 1 children class\n",
        "class twoweeler():\n",
        "  def __init__(self, name):\n",
        "    self.name = name\n",
        "\n",
        "class fourweeler():\n",
        "  def __init__(self, name):\n",
        "    self.name = name\n",
        "\n",
        "class vehicle(twoweeler, fourweeler):\n",
        "  def ride(self):\n",
        "    print(f\"{self.name} is riding\")\n",
        "\n",
        "obj1 = vehicle(\"Tom\")\n",
        "obj1.ride()\n",
        "\n",
        "obj2 = vehicle(\"Jerry\")\n",
        "obj2.ride()"
      ],
      "metadata": {
        "colab": {
          "base_uri": "https://localhost:8080/"
        },
        "id": "xhAy_c8umdTs",
        "outputId": "c9ab05ca-71a3-4083-9186-bac94357bf7b"
      },
      "execution_count": null,
      "outputs": [
        {
          "output_type": "stream",
          "name": "stdout",
          "text": [
            "Tom is riding\n",
            "Jerry is riding\n"
          ]
        }
      ]
    },
    {
      "cell_type": "code",
      "source": [
        "# 2 parent class and 2 children class\n",
        "class twoweeler():\n",
        "  def __init__(self, name):\n",
        "    self.name = name\n",
        "\n",
        "class fourweeler():\n",
        "  def __init__(self, name):\n",
        "    self.name = name\n",
        "\n",
        "class bike(twoweeler):\n",
        "  def ride1(self):\n",
        "    print(f\"{self.name} is riding bike\")\n",
        "\n",
        "class car(fourweeler):\n",
        "  def ride2(self):\n",
        "    print(f\"{self.name} is riding car\")\n",
        "\n",
        "obj1 = bike(\"Tom\")\n",
        "obj1.ride1()\n",
        "\n",
        "obj2 = car(\"Jerry\")\n",
        "obj2.ride2()"
      ],
      "metadata": {
        "colab": {
          "base_uri": "https://localhost:8080/"
        },
        "id": "GfkOgKtQooNh",
        "outputId": "f5193c48-d4be-4e70-b77d-5978bd059d74"
      },
      "execution_count": null,
      "outputs": [
        {
          "output_type": "stream",
          "name": "stdout",
          "text": [
            "Tom is riding bike\n",
            "Jerry is riding car\n"
          ]
        }
      ]
    },
    {
      "cell_type": "markdown",
      "source": [
        "# Encapsulation():"
      ],
      "metadata": {
        "id": "P3qRsulwq9lM"
      }
    },
    {
      "cell_type": "code",
      "source": [
        "class Base:\n",
        "    def __init__(self,name,age):\n",
        "        self._a = name # Protected\n",
        "        self.__b =  age# Private\n",
        "        print(f\"{self._a} is {self.__b} years old.\")\n",
        "\n",
        "    def call(self):\n",
        "        print(self._a)\n",
        "        print(self.__b)\n",
        "\n",
        "\n",
        "\n",
        "class Derived(Base):\n",
        "    def out(self):\n",
        "        print(self._a)\n",
        "\n"
      ],
      "metadata": {
        "id": "XdSnAZp8pmcA"
      },
      "execution_count": null,
      "outputs": []
    },
    {
      "cell_type": "code",
      "source": [
        "obj1 = Base(\"steve\",20)\n",
        "obj1.call()"
      ],
      "metadata": {
        "colab": {
          "base_uri": "https://localhost:8080/"
        },
        "id": "SP9ZBnw14icT",
        "outputId": "0429ec68-3ffa-4ce8-9441-fbcd562eebbb"
      },
      "execution_count": null,
      "outputs": [
        {
          "output_type": "stream",
          "name": "stdout",
          "text": [
            "steve is 20 years old.\n",
            "steve\n",
            "20\n"
          ]
        }
      ]
    },
    {
      "cell_type": "code",
      "source": [
        "oj2 = Derived(1,2)\n",
        "oj2.out()"
      ],
      "metadata": {
        "colab": {
          "base_uri": "https://localhost:8080/"
        },
        "id": "xaYZTARh4r15",
        "outputId": "5dc8d175-aa06-4f2c-f52b-8fafcf0bd16d"
      },
      "execution_count": null,
      "outputs": [
        {
          "output_type": "stream",
          "name": "stdout",
          "text": [
            "1\n"
          ]
        }
      ]
    },
    {
      "cell_type": "markdown",
      "source": [
        "# Polymorphism:"
      ],
      "metadata": {
        "id": "X25Suf39P0ox"
      }
    },
    {
      "cell_type": "code",
      "source": [
        "# polymorphism\n",
        "def add(x, y, z = 0):\n",
        "    return x + y + z\n",
        "\n",
        "print(add(5, 4))\n",
        "print(add(2, 3, 4))\n"
      ],
      "metadata": {
        "colab": {
          "base_uri": "https://localhost:8080/"
        },
        "id": "uoSQUMqRt5Vk",
        "outputId": "a6352cef-00d3-4ad9-b888-c6d81cab222f"
      },
      "execution_count": null,
      "outputs": [
        {
          "output_type": "stream",
          "name": "stdout",
          "text": [
            "9\n",
            "9\n"
          ]
        }
      ]
    },
    {
      "cell_type": "code",
      "source": [
        "class add():\n",
        "  def adding(self, x, y, z):\n",
        "    return x + y + z\n"
      ],
      "metadata": {
        "id": "xrpJ0Ifa53l5"
      },
      "execution_count": null,
      "outputs": []
    },
    {
      "cell_type": "code",
      "source": [
        "ob1 = add()\n",
        "ob1.adding(78,32,54)"
      ],
      "metadata": {
        "colab": {
          "base_uri": "https://localhost:8080/"
        },
        "id": "nS4wYDI56IE2",
        "outputId": "2df715dd-3c01-439a-c65a-70ffabaeb6fb"
      },
      "execution_count": null,
      "outputs": [
        {
          "output_type": "execute_result",
          "data": {
            "text/plain": [
              "164"
            ]
          },
          "metadata": {},
          "execution_count": 3
        }
      ]
    },
    {
      "cell_type": "code",
      "source": [
        "ob2 = add()\n",
        "ob2.adding(\"Python \",\" data \",\" science\")"
      ],
      "metadata": {
        "colab": {
          "base_uri": "https://localhost:8080/",
          "height": 36
        },
        "id": "kaLeMCsn6RxV",
        "outputId": "1dc2ee0f-8ef7-4ac6-f387-f3b01c2278b0"
      },
      "execution_count": null,
      "outputs": [
        {
          "output_type": "execute_result",
          "data": {
            "text/plain": [
              "'Python  data  science'"
            ],
            "application/vnd.google.colaboratory.intrinsic+json": {
              "type": "string"
            }
          },
          "metadata": {},
          "execution_count": 4
        }
      ]
    },
    {
      "cell_type": "markdown",
      "source": [
        "# Abstrction:"
      ],
      "metadata": {
        "id": "ZThP5ND7P75G"
      }
    },
    {
      "cell_type": "code",
      "source": [
        "# abstraction\n",
        "class car():\n",
        "  def engine(self):\n",
        "    print(\"engine is running\")\n",
        "class doors():\n",
        "  def door(self):\n",
        "    print(\"doors are closed\")\n",
        "class safety():\n",
        "  def seat(self):\n",
        "    print(\"seat belts are on\")"
      ],
      "metadata": {
        "id": "DZBRvWidveEU"
      },
      "execution_count": null,
      "outputs": []
    },
    {
      "cell_type": "code",
      "source": [
        "o1 = car()\n",
        "o1.engine()\n",
        "\n",
        "o2 = doors()\n",
        "o2.door()\n",
        "\n",
        "o3 = safety()\n",
        "o3.seat()"
      ],
      "metadata": {
        "colab": {
          "base_uri": "https://localhost:8080/"
        },
        "id": "tF68-tAz9thY",
        "outputId": "67ae8cf1-4ec6-4c3a-a752-bffe738dc319"
      },
      "execution_count": null,
      "outputs": [
        {
          "output_type": "stream",
          "name": "stdout",
          "text": [
            "engine is running\n",
            "doors are closed\n",
            "seat belts are on\n"
          ]
        }
      ]
    }
  ]
}